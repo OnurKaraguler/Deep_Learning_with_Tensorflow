{
 "cells": [
  {
   "cell_type": "code",
   "execution_count": 1,
   "id": "emotional-cream",
   "metadata": {},
   "outputs": [
    {
     "name": "stdout",
     "output_type": "stream",
     "text": [
      "WARNING:tensorflow:Eager mode uses the CPU. Switching to the CPU.\n"
     ]
    }
   ],
   "source": [
    "from tensorflow.python.compiler.mlcompute import mlcompute\n",
    "mlcompute.set_mlc_device(device_name='gpu')"
   ]
  },
  {
   "cell_type": "code",
   "execution_count": 2,
   "id": "south-architect",
   "metadata": {},
   "outputs": [],
   "source": [
    "import os\n",
    "import tensorflow as tf\n",
    "os.environ['TFF_CPP_MIN_LOG_LEVEL'] = '2'    # ignore information messages\n",
    "\n",
    "from tensorflow.keras import Sequential, Input, Model, callbacks\n",
    "from tensorflow.keras.layers import Dense, Conv2D, MaxPooling2D, Flatten, BatchNormalization, Dropout\n",
    "from tensorflow.keras.losses import SparseCategoricalCrossentropy, BinaryCrossentropy\n",
    "from tensorflow.keras.optimizers import Adam\n",
    "from tensorflow.keras.activations import relu\n",
    "from tensorflow.keras.models import load_model\n",
    "from tensorflow.keras.metrics import (BinaryAccuracy, Precision, Recall, AUC, \n",
    "                                      FalsePositives, FalseNegatives, TruePositives, TrueNegatives)\n",
    "\n",
    "import tensorflow_hub as hub\n",
    "from tensorflow.keras.preprocessing.image import ImageDataGenerator\n",
    "\n",
    "import numpy as np\n",
    "import matplotlib.pyplot as plt"
   ]
  },
  {
   "cell_type": "code",
   "execution_count": 3,
   "id": "respected-colleague",
   "metadata": {},
   "outputs": [],
   "source": [
    "# folder_var = 'data1/train/malignant/'\n",
    "# folder_yok = 'data1/train/benign/'\n",
    "# folder_test_var = 'data1/test/malignant/'\n",
    "# folder_test_yok = 'data1/test/benign/'\n",
    "\n",
    "folder_train = 'data1/train/'\n",
    "folder_validation = 'data1/validation/'\n",
    "folder_test = 'data1/test/'"
   ]
  },
  {
   "cell_type": "code",
   "execution_count": 4,
   "id": "million-minutes",
   "metadata": {},
   "outputs": [],
   "source": [
    "directory_list = list()\n",
    "for root, dirs, files in os.walk('data1/', topdown=False):\n",
    "    for name in dirs:\n",
    "        directory_list.append(os.path.join(root, name))\n",
    "\n",
    "# print (directory_list)\n",
    "\n",
    "def load_images_from_folder(folder):\n",
    "    for root, dirs, files in os.walk(folder):\n",
    "        for file in files:\n",
    "            i = 0\n",
    "            if file.endswith('.DS_Store'):\n",
    "                path = os.path.join(root, file)\n",
    "                print (\"Deleting: %s\" % (path))\n",
    "                if os.remove(path):\n",
    "                    print (\"Unable to delete!\")\n",
    "                else:\n",
    "                    print (\"Deleted...\")\n",
    "                    i += 1\n",
    "                print(\"Files Deleted: %d\" % (i))\n",
    "\n",
    "for folder in directory_list:\n",
    "    load_images_from_folder(folder)"
   ]
  },
  {
   "cell_type": "code",
   "execution_count": 5,
   "id": "multiple-knock",
   "metadata": {},
   "outputs": [],
   "source": [
    "def num_of_files(folder):\n",
    "    num_of_files = 0\n",
    "    for root, dirs, files in os.walk(folder, topdown=False):\n",
    "        num_of_files += len(files)\n",
    "    return num_of_files\n",
    "        \n",
    "num_of_files_train = num_of_files(folder_train)\n",
    "num_of_files_validation = num_of_files(folder_validation)\n",
    "num_of_files_test = num_of_files(folder_test)"
   ]
  },
  {
   "cell_type": "code",
   "execution_count": 6,
   "id": "optical-exercise",
   "metadata": {},
   "outputs": [
    {
     "name": "stdout",
     "output_type": "stream",
     "text": [
      "Found 1300 images belonging to 2 classes.\n",
      "Found 245 images belonging to 2 classes.\n",
      "Found 350 images belonging to 2 classes.\n"
     ]
    }
   ],
   "source": [
    "img_height = img_width = 28\n",
    "batch_size = 20\n",
    "\n",
    "##################\n",
    "\n",
    "train_datagen = ImageDataGenerator(\n",
    "    rescale=1.0 / 255,\n",
    "    rotation_range=15,\n",
    "    zoom_range=(0.95, 0.95),\n",
    "#     horizontal_flip=True,\n",
    "#     vertical_flip=True,\n",
    "#     data_format=\"channels_last\",\n",
    "#     dtype=tf.float32,\n",
    ")\n",
    "\n",
    "validation_datagen = ImageDataGenerator(rescale=1.0 / 255, dtype=tf.float32)\n",
    "test_datagen = ImageDataGenerator(rescale=1.0 / 255, dtype=tf.float32)\n",
    "\n",
    "##################\n",
    "\n",
    "train_gen = train_datagen.flow_from_directory(\n",
    "    folder_train,\n",
    "    target_size=(img_height, img_width),\n",
    "    batch_size=batch_size,\n",
    "    color_mode=\"rgb\",\n",
    "    class_mode=\"binary\",\n",
    "    shuffle=True,\n",
    "    seed=123,\n",
    ")\n",
    "\n",
    "validation_gen = validation_datagen.flow_from_directory(\n",
    "    folder_validation,\n",
    "    target_size=(img_height, img_width),\n",
    "    batch_size=batch_size,\n",
    "    color_mode=\"rgb\",\n",
    "    class_mode=\"binary\",\n",
    "    shuffle=True,\n",
    "    seed=123,\n",
    ")\n",
    "\n",
    "test_gen = test_datagen.flow_from_directory(\n",
    "    folder_test,\n",
    "    target_size=(img_height, img_width),\n",
    "    batch_size=batch_size,\n",
    "    color_mode=\"rgb\",\n",
    "    class_mode=\"binary\",\n",
    "    shuffle=True,\n",
    "    seed=123,\n",
    ")"
   ]
  },
  {
   "cell_type": "code",
   "execution_count": null,
   "id": "democratic-pitch",
   "metadata": {},
   "outputs": [],
   "source": [
    "# model = Sequential(\n",
    "#     [\n",
    "#         Input(shape=(28, 28, 3)),    \n",
    "#         Conv2D(32, 3, padding=\"valid\", activation=\"relu\"),\n",
    "#         BatchNormalization(),\n",
    "#         MaxPooling2D(),\n",
    "#         Conv2D(64, 3, activation=\"relu\"),\n",
    "#         BatchNormalization(),\n",
    "# #         relu,\n",
    "#         MaxPooling2D(),\n",
    "#         Conv2D(128, 3, activation=\"relu\"),\n",
    "#         BatchNormalization(),\n",
    "# #         relu,\n",
    "#         Flatten(),\n",
    "#         Dense(64, activation=\"relu\"),\n",
    "#         Dense(1, activation=\"sigmoid\"),\n",
    "#     ])\n",
    "# print(model.summary())"
   ]
  },
  {
   "cell_type": "code",
   "execution_count": null,
   "id": "historical-fraction",
   "metadata": {},
   "outputs": [],
   "source": [
    "# import tensorflow_hub as hub\n",
    "\n",
    "# model = Sequential([\n",
    "#     hub.KerasLayer(\"https://tfhub.dev/tensorflow/resnet_50/feature_vector/1\",\n",
    "#                    trainable=False),  # Can be True, see below.\n",
    "#     Dense(1, activation='softmax')\n",
    "# ])\n",
    "# model.build([None, 224, 224, 3])  # Batch input shape"
   ]
  },
  {
   "cell_type": "code",
   "execution_count": null,
   "id": "hydraulic-airfare",
   "metadata": {},
   "outputs": [],
   "source": [
    "# model.compile(\n",
    "#     loss=BinaryCrossentropy(from_logits=True),\n",
    "#     optimizer=Adam(lr=3e-4),\n",
    "#     metrics=['accuracy'],)"
   ]
  },
  {
   "cell_type": "code",
   "execution_count": 7,
   "id": "annual-munich",
   "metadata": {},
   "outputs": [],
   "source": [
    "inputs = Input(shape=(img_height, img_width, 3))\n",
    "x = Conv2D(32, 3)(inputs)\n",
    "x = BatchNormalization()(x)\n",
    "x = relu(x)\n",
    "x = MaxPooling2D()(x)\n",
    "x = Conv2D(64, 3)(x)\n",
    "x = BatchNormalization()(x)\n",
    "x = relu(x)\n",
    "x = MaxPooling2D()(x)\n",
    "x = Conv2D(128, 3)(x)\n",
    "x = BatchNormalization()(x)\n",
    "x = relu(x)\n",
    "x = Flatten()(x)\n",
    "x = Dense(64, activation=\"relu\")(x)\n",
    "outputs = Dense(1, activation=\"sigmoid\")(x)\n",
    "model = Model(inputs=inputs, outputs=outputs)"
   ]
  },
  {
   "cell_type": "code",
   "execution_count": 8,
   "id": "secret-resident",
   "metadata": {},
   "outputs": [],
   "source": [
    "METRICS = [\n",
    "  TruePositives(name='tp'),\n",
    "  TrueNegatives(name='tn'),\n",
    "  FalsePositives(name='fp'),\n",
    "  FalseNegatives(name='fn'), \n",
    "  Precision(name='precision'),\n",
    "  Recall(name='recall'),\n",
    "  BinaryAccuracy(name='acc'),\n",
    "  AUC(name='auc'),\n",
    "]\n",
    "\n",
    "model.compile(\n",
    "    optimizer=Adam(),\n",
    "    loss=[BinaryCrossentropy(from_logits=True),],\n",
    "    metrics=METRICS,\n",
    ")"
   ]
  },
  {
   "cell_type": "code",
   "execution_count": 9,
   "id": "nonprofit-guard",
   "metadata": {
    "scrolled": true
   },
   "outputs": [
    {
     "name": "stdout",
     "output_type": "stream",
     "text": [
      "Epoch 1/30\n",
      "65/65 [==============================] - 11s 150ms/step - loss: 0.6418 - tp: 10.3333 - tn: 473.7576 - fp: 32.4242 - fn: 153.1818 - precision: 0.2262 - recall: 0.0801 - acc: 0.6970 - auc: 0.5580 - val_loss: 0.5171 - val_tp: 0.0000e+00 - val_tn: 196.0000 - val_fp: 0.0000e+00 - val_fn: 44.0000 - val_precision: 0.0000e+00 - val_recall: 0.0000e+00 - val_acc: 0.8167 - val_auc: 0.4648\n",
      "Epoch 2/30\n",
      "65/65 [==============================] - 9s 139ms/step - loss: 0.4743 - tp: 5.1970 - tn: 511.3788 - fp: 5.2121 - fn: 147.9091 - precision: 0.6323 - recall: 0.0341 - acc: 0.7841 - auc: 0.7047 - val_loss: 0.5570 - val_tp: 0.0000e+00 - val_tn: 197.0000 - val_fp: 0.0000e+00 - val_fn: 43.0000 - val_precision: 0.0000e+00 - val_recall: 0.0000e+00 - val_acc: 0.8208 - val_auc: 0.6066\n",
      "Epoch 3/30\n",
      "65/65 [==============================] - 9s 140ms/step - loss: 0.4788 - tp: 22.0303 - tn: 506.4091 - fp: 10.0455 - fn: 131.2121 - precision: 0.7050 - recall: 0.1471 - acc: 0.7964 - auc: 0.7083 - val_loss: 0.4828 - val_tp: 0.0000e+00 - val_tn: 194.0000 - val_fp: 1.0000 - val_fn: 45.0000 - val_precision: 0.0000e+00 - val_recall: 0.0000e+00 - val_acc: 0.8083 - val_auc: 0.6957\n",
      "Epoch 4/30\n",
      "65/65 [==============================] - 9s 141ms/step - loss: 0.4540 - tp: 15.6364 - tn: 516.6818 - fp: 6.9545 - fn: 130.4242 - precision: 0.7499 - recall: 0.0982 - acc: 0.8010 - auc: 0.7394 - val_loss: 0.4483 - val_tp: 0.0000e+00 - val_tn: 196.0000 - val_fp: 0.0000e+00 - val_fn: 44.0000 - val_precision: 0.0000e+00 - val_recall: 0.0000e+00 - val_acc: 0.8167 - val_auc: 0.6757\n",
      "Epoch 5/30\n",
      "65/65 [==============================] - 9s 139ms/step - loss: 0.4440 - tp: 27.8030 - tn: 503.8333 - fp: 14.8939 - fn: 123.1667 - precision: 0.6666 - recall: 0.2029 - acc: 0.7994 - auc: 0.7750 - val_loss: 0.4522 - val_tp: 0.0000e+00 - val_tn: 195.0000 - val_fp: 0.0000e+00 - val_fn: 45.0000 - val_precision: 0.0000e+00 - val_recall: 0.0000e+00 - val_acc: 0.8125 - val_auc: 0.6734\n",
      "Epoch 6/30\n",
      "65/65 [==============================] - 10s 147ms/step - loss: 0.4204 - tp: 33.9697 - tn: 497.8636 - fp: 14.5909 - fn: 123.2727 - precision: 0.7211 - recall: 0.2033 - acc: 0.7967 - auc: 0.8184 - val_loss: 0.4552 - val_tp: 1.0000 - val_tn: 195.0000 - val_fp: 0.0000e+00 - val_fn: 44.0000 - val_precision: 1.0000 - val_recall: 0.0222 - val_acc: 0.8167 - val_auc: 0.6776\n",
      "Epoch 7/30\n",
      "65/65 [==============================] - 9s 145ms/step - loss: 0.3807 - tp: 48.2727 - tn: 499.1061 - fp: 16.3788 - fn: 105.9394 - precision: 0.7619 - recall: 0.3002 - acc: 0.8217 - auc: 0.8578 - val_loss: 0.4597 - val_tp: 2.0000 - val_tn: 190.0000 - val_fp: 6.0000 - val_fn: 42.0000 - val_precision: 0.2500 - val_recall: 0.0455 - val_acc: 0.8000 - val_auc: 0.6402\n",
      "Epoch 8/30\n",
      "65/65 [==============================] - 9s 145ms/step - loss: 0.4095 - tp: 42.2576 - tn: 497.6212 - fp: 15.0455 - fn: 114.7727 - precision: 0.7712 - recall: 0.2609 - acc: 0.8080 - auc: 0.8310 - val_loss: 0.5026 - val_tp: 1.0000 - val_tn: 195.0000 - val_fp: 0.0000e+00 - val_fn: 44.0000 - val_precision: 1.0000 - val_recall: 0.0222 - val_acc: 0.8167 - val_auc: 0.6624\n",
      "Epoch 9/30\n",
      "65/65 [==============================] - 10s 147ms/step - loss: 0.3331 - tp: 68.6515 - tn: 496.3788 - fp: 24.6515 - fn: 80.0152 - precision: 0.7543 - recall: 0.4809 - acc: 0.8490 - auc: 0.8989 - val_loss: 0.4738 - val_tp: 3.0000 - val_tn: 192.0000 - val_fp: 4.0000 - val_fn: 41.0000 - val_precision: 0.4286 - val_recall: 0.0682 - val_acc: 0.8125 - val_auc: 0.6419\n",
      "Epoch 10/30\n",
      "65/65 [==============================] - 9s 146ms/step - loss: 0.3639 - tp: 71.1667 - tn: 495.1818 - fp: 15.6515 - fn: 87.6970 - precision: 0.8418 - recall: 0.4538 - acc: 0.8452 - auc: 0.8879 - val_loss: 0.4952 - val_tp: 2.0000 - val_tn: 190.0000 - val_fp: 5.0000 - val_fn: 43.0000 - val_precision: 0.2857 - val_recall: 0.0444 - val_acc: 0.8000 - val_auc: 0.6714\n",
      "Epoch 11/30\n",
      "65/65 [==============================] - 9s 145ms/step - loss: 0.3094 - tp: 74.6364 - tn: 501.9394 - fp: 18.9242 - fn: 74.1970 - precision: 0.8113 - recall: 0.4556 - acc: 0.8557 - auc: 0.9133 - val_loss: 0.5148 - val_tp: 10.0000 - val_tn: 170.0000 - val_fp: 26.0000 - val_fn: 34.0000 - val_precision: 0.2778 - val_recall: 0.2273 - val_acc: 0.7500 - val_auc: 0.6424\n",
      "Epoch 12/30\n",
      "65/65 [==============================] - 9s 140ms/step - loss: 0.2758 - tp: 77.9091 - tn: 510.8636 - fp: 14.9091 - fn: 66.0152 - precision: 0.8458 - recall: 0.5764 - acc: 0.8897 - auc: 0.9322 - val_loss: 0.5570 - val_tp: 3.0000 - val_tn: 192.0000 - val_fp: 4.0000 - val_fn: 41.0000 - val_precision: 0.4286 - val_recall: 0.0682 - val_acc: 0.8125 - val_auc: 0.6167\n",
      "Epoch 13/30\n",
      "65/65 [==============================] - 9s 140ms/step - loss: 0.2652 - tp: 109.8636 - tn: 487.0152 - fp: 20.8636 - fn: 51.9545 - precision: 0.8623 - recall: 0.7045 - acc: 0.9001 - auc: 0.9441 - val_loss: 0.7148 - val_tp: 3.0000 - val_tn: 192.0000 - val_fp: 3.0000 - val_fn: 42.0000 - val_precision: 0.5000 - val_recall: 0.0667 - val_acc: 0.8125 - val_auc: 0.6278\n",
      "Epoch 14/30\n",
      "65/65 [==============================] - 9s 144ms/step - loss: 0.2314 - tp: 95.7879 - tn: 502.5758 - fp: 19.1364 - fn: 52.1970 - precision: 0.8644 - recall: 0.6294 - acc: 0.8989 - auc: 0.9512 - val_loss: 0.5385 - val_tp: 7.0000 - val_tn: 178.0000 - val_fp: 18.0000 - val_fn: 37.0000 - val_precision: 0.2800 - val_recall: 0.1591 - val_acc: 0.7708 - val_auc: 0.6409\n",
      "Epoch 15/30\n",
      "65/65 [==============================] - 9s 140ms/step - loss: 0.2332 - tp: 111.5758 - tn: 493.7879 - fp: 17.6667 - fn: 46.6667 - precision: 0.8892 - recall: 0.7079 - acc: 0.9049 - auc: 0.9596 - val_loss: 0.6032 - val_tp: 8.0000 - val_tn: 175.0000 - val_fp: 21.0000 - val_fn: 36.0000 - val_precision: 0.2759 - val_recall: 0.1818 - val_acc: 0.7625 - val_auc: 0.6280\n",
      "Epoch 16/30\n",
      "65/65 [==============================] - 9s 140ms/step - loss: 0.2040 - tp: 117.1212 - tn: 498.1515 - fp: 19.1212 - fn: 35.3030 - precision: 0.8575 - recall: 0.7879 - acc: 0.9238 - auc: 0.9657 - val_loss: 0.9038 - val_tp: 4.0000 - val_tn: 193.0000 - val_fp: 3.0000 - val_fn: 40.0000 - val_precision: 0.5714 - val_recall: 0.0909 - val_acc: 0.8208 - val_auc: 0.6431\n",
      "Epoch 17/30\n",
      "65/65 [==============================] - 9s 142ms/step - loss: 0.2045 - tp: 115.6212 - tn: 495.7121 - fp: 20.1818 - fn: 38.1818 - precision: 0.8663 - recall: 0.7551 - acc: 0.9186 - auc: 0.9626 - val_loss: 0.6390 - val_tp: 13.0000 - val_tn: 161.0000 - val_fp: 34.0000 - val_fn: 32.0000 - val_precision: 0.2766 - val_recall: 0.2889 - val_acc: 0.7250 - val_auc: 0.5827\n",
      "Epoch 18/30\n",
      "65/65 [==============================] - 9s 140ms/step - loss: 0.1796 - tp: 124.9848 - tn: 498.1970 - fp: 18.8182 - fn: 27.6970 - precision: 0.8705 - recall: 0.8402 - acc: 0.9354 - auc: 0.9742 - val_loss: 0.7103 - val_tp: 12.0000 - val_tn: 165.0000 - val_fp: 31.0000 - val_fn: 32.0000 - val_precision: 0.2791 - val_recall: 0.2727 - val_acc: 0.7375 - val_auc: 0.6194\n",
      "Epoch 19/30\n",
      "65/65 [==============================] - 9s 140ms/step - loss: 0.1675 - tp: 123.5455 - tn: 501.2727 - fp: 16.1970 - fn: 28.6818 - precision: 0.8759 - recall: 0.8192 - acc: 0.9327 - auc: 0.9774 - val_loss: 0.8969 - val_tp: 3.0000 - val_tn: 190.0000 - val_fp: 5.0000 - val_fn: 42.0000 - val_precision: 0.3750 - val_recall: 0.0667 - val_acc: 0.8042 - val_auc: 0.6030\n",
      "Epoch 20/30\n",
      "65/65 [==============================] - 9s 140ms/step - loss: 0.1553 - tp: 133.1212 - tn: 494.1970 - fp: 15.9848 - fn: 26.3939 - precision: 0.9047 - recall: 0.8448 - acc: 0.9397 - auc: 0.9828 - val_loss: 0.7906 - val_tp: 6.0000 - val_tn: 176.0000 - val_fp: 20.0000 - val_fn: 38.0000 - val_precision: 0.2308 - val_recall: 0.1364 - val_acc: 0.7583 - val_auc: 0.5637\n",
      "Epoch 21/30\n",
      "65/65 [==============================] - 9s 140ms/step - loss: 0.1307 - tp: 133.3788 - tn: 504.8636 - fp: 8.9091 - fn: 22.5455 - precision: 0.9492 - recall: 0.8540 - acc: 0.9554 - auc: 0.9868 - val_loss: 0.9919 - val_tp: 6.0000 - val_tn: 156.0000 - val_fp: 39.0000 - val_fn: 39.0000 - val_precision: 0.1333 - val_recall: 0.1333 - val_acc: 0.6750 - val_auc: 0.5594\n",
      "Epoch 22/30\n",
      "65/65 [==============================] - 9s 139ms/step - loss: 0.1379 - tp: 134.8030 - tn: 494.3485 - fp: 17.3788 - fn: 23.1667 - precision: 0.8930 - recall: 0.8724 - acc: 0.9448 - auc: 0.9843 - val_loss: 0.7833 - val_tp: 11.0000 - val_tn: 177.0000 - val_fp: 19.0000 - val_fn: 33.0000 - val_precision: 0.3667 - val_recall: 0.2500 - val_acc: 0.7833 - val_auc: 0.6393\n"
     ]
    },
    {
     "name": "stdout",
     "output_type": "stream",
     "text": [
      "Epoch 23/30\n",
      "65/65 [==============================] - 9s 139ms/step - loss: 0.1279 - tp: 137.5455 - tn: 500.5000 - fp: 14.9091 - fn: 16.7424 - precision: 0.9064 - recall: 0.8950 - acc: 0.9543 - auc: 0.9858 - val_loss: 0.7737 - val_tp: 10.0000 - val_tn: 165.0000 - val_fp: 30.0000 - val_fn: 35.0000 - val_precision: 0.2500 - val_recall: 0.2222 - val_acc: 0.7292 - val_auc: 0.6348\n",
      "Epoch 24/30\n",
      "65/65 [==============================] - 9s 139ms/step - loss: 0.0968 - tp: 146.1970 - tn: 506.1364 - fp: 7.1515 - fn: 10.2121 - precision: 0.9536 - recall: 0.9395 - acc: 0.9754 - auc: 0.9919 - val_loss: 0.7974 - val_tp: 11.0000 - val_tn: 174.0000 - val_fp: 23.0000 - val_fn: 32.0000 - val_precision: 0.3235 - val_recall: 0.2558 - val_acc: 0.7708 - val_auc: 0.6175\n",
      "Epoch 25/30\n",
      "65/65 [==============================] - 9s 139ms/step - loss: 0.0930 - tp: 130.7121 - tn: 513.9697 - fp: 9.9848 - fn: 15.0303 - precision: 0.9399 - recall: 0.9023 - acc: 0.9668 - auc: 0.9923 - val_loss: 1.2284 - val_tp: 25.0000 - val_tn: 122.0000 - val_fp: 75.0000 - val_fn: 18.0000 - val_precision: 0.2500 - val_recall: 0.5814 - val_acc: 0.6125 - val_auc: 0.6233\n",
      "Epoch 26/30\n",
      "65/65 [==============================] - 9s 139ms/step - loss: 0.1118 - tp: 147.1970 - tn: 495.4394 - fp: 11.4091 - fn: 15.6515 - precision: 0.9368 - recall: 0.9111 - acc: 0.9628 - auc: 0.9897 - val_loss: 0.9606 - val_tp: 5.0000 - val_tn: 184.0000 - val_fp: 12.0000 - val_fn: 39.0000 - val_precision: 0.2941 - val_recall: 0.1136 - val_acc: 0.7875 - val_auc: 0.6622\n",
      "Epoch 27/30\n",
      "65/65 [==============================] - 9s 139ms/step - loss: 0.0717 - tp: 151.9545 - tn: 505.6667 - fp: 5.3182 - fn: 6.7576 - precision: 0.9677 - recall: 0.9506 - acc: 0.9804 - auc: 0.9958 - val_loss: 0.9145 - val_tp: 12.0000 - val_tn: 160.0000 - val_fp: 35.0000 - val_fn: 33.0000 - val_precision: 0.2553 - val_recall: 0.2667 - val_acc: 0.7167 - val_auc: 0.6137\n",
      "Epoch 28/30\n",
      "65/65 [==============================] - 9s 139ms/step - loss: 0.0666 - tp: 144.4848 - tn: 508.5455 - fp: 6.0606 - fn: 10.6061 - precision: 0.9692 - recall: 0.9429 - acc: 0.9796 - auc: 0.9958 - val_loss: 1.2404 - val_tp: 4.0000 - val_tn: 183.0000 - val_fp: 12.0000 - val_fn: 41.0000 - val_precision: 0.2500 - val_recall: 0.0889 - val_acc: 0.7792 - val_auc: 0.5268\n",
      "Epoch 29/30\n",
      "65/65 [==============================] - 9s 139ms/step - loss: 0.0668 - tp: 148.4091 - tn: 504.5000 - fp: 7.0152 - fn: 9.7727 - precision: 0.9568 - recall: 0.9438 - acc: 0.9765 - auc: 0.9962 - val_loss: 0.9792 - val_tp: 10.0000 - val_tn: 178.0000 - val_fp: 18.0000 - val_fn: 34.0000 - val_precision: 0.3571 - val_recall: 0.2273 - val_acc: 0.7833 - val_auc: 0.5351\n",
      "Epoch 30/30\n",
      "65/65 [==============================] - 9s 139ms/step - loss: 0.0747 - tp: 145.5758 - tn: 507.2879 - fp: 5.5303 - fn: 11.3030 - precision: 0.9416 - recall: 0.9277 - acc: 0.9716 - auc: 0.9952 - val_loss: 1.1231 - val_tp: 3.0000 - val_tn: 186.0000 - val_fp: 10.0000 - val_fn: 41.0000 - val_precision: 0.2308 - val_recall: 0.0682 - val_acc: 0.7875 - val_auc: 0.5799\n"
     ]
    }
   ],
   "source": [
    "history = model.fit(\n",
    "    train_gen,\n",
    "    epochs=30,\n",
    "    steps_per_epoch=num_of_files_train // batch_size,\n",
    "    validation_data=validation_gen,\n",
    "    validation_steps=num_of_files_validation // batch_size,\n",
    ")"
   ]
  },
  {
   "cell_type": "code",
   "execution_count": 10,
   "id": "awful-guinea",
   "metadata": {},
   "outputs": [
    {
     "name": "stdout",
     "output_type": "stream",
     "text": [
      "18/18 [==============================] - 2s 123ms/step - loss: 0.7909 - tp: 15.0000 - tn: 272.0000 - fp: 28.0000 - fn: 35.0000 - precision: 0.3488 - recall: 0.3000 - acc: 0.8200 - auc: 0.6413\n"
     ]
    }
   ],
   "source": [
    "result = model.evaluate(test_gen)"
   ]
  },
  {
   "cell_type": "code",
   "execution_count": 11,
   "id": "revised-hawaiian",
   "metadata": {},
   "outputs": [
    {
     "data": {
      "text/plain": [
       "82.0"
      ]
     },
     "execution_count": 11,
     "metadata": {},
     "output_type": "execute_result"
    }
   ],
   "source": [
    "((result[1]+result[2]) / num_of_files_test) * 100"
   ]
  },
  {
   "cell_type": "code",
   "execution_count": 12,
   "id": "answering-investing",
   "metadata": {},
   "outputs": [
    {
     "data": {
      "image/png": "[encoded data removed]",
      "text/plain": [
       "<Figure size 432x288 with 1 Axes>"
      ]
     },
     "metadata": {
      "needs_background": "light"
     },
     "output_type": "display_data"
    },
    {
     "data": {
      "image/png": "[encoded data removed]",
      "text/plain": [
       "<Figure size 432x288 with 1 Axes>"
      ]
     },
     "metadata": {
      "needs_background": "light"
     },
     "output_type": "display_data"
    }
   ],
   "source": [
    "import matplotlib.pyplot as plt\n",
    "acc = history.history['acc']\n",
    "val_acc = history.history['val_acc']\n",
    "loss = history.history['loss']\n",
    "val_loss = history.history['val_loss']\n",
    "\n",
    "epochs = range(len(acc))\n",
    "\n",
    "plt.plot(epochs, acc, 'bo', label='Training accuracy')\n",
    "plt.plot(epochs, val_acc, 'b', label='Validation accuracy')\n",
    "plt.title('Training and validation accuracy')\n",
    "\n",
    "plt.figure()\n",
    "\n",
    "plt.plot(epochs, loss, 'bo', label='Training Loss')\n",
    "plt.plot(epochs, val_loss, 'b', label='Validation Loss')\n",
    "plt.title('Training and validation loss')\n",
    "plt.legend()\n",
    "\n",
    "plt.show()"
   ]
  },
  {
   "cell_type": "code",
   "execution_count": null,
   "id": "white-retirement",
   "metadata": {},
   "outputs": [],
   "source": [
    "train_datagen = ImageDataGenerator(\n",
    "      rescale=1./255,\n",
    "      rotation_range=40,\n",
    "      width_shift_range=0.2,\n",
    "      height_shift_range=0.2,\n",
    "      shear_range=0.2,\n",
    "      zoom_range=0.2,\n",
    "      horizontal_flip=True,\n",
    "      fill_mode='nearest'\n",
    ")\n",
    "\n",
    "test_datagen = ImageDataGenerator(rescale=1./255)"
   ]
  },
  {
   "cell_type": "markdown",
   "id": "distinguished-cameroon",
   "metadata": {},
   "source": [
    "rotation_range is a value in degrees (0–180), a range within which to randomly rotate pictures.\n",
    "\n",
    "width_shift and height_shift are ranges (as a fraction of total width or height) within which to randomly translate pictures vertically or horizontally.\n",
    "\n",
    "shear_range is for randomly applying shearing transformations.\n",
    "\n",
    "zoom_range is for randomly zooming inside pictures.\n",
    "\n",
    "horizontal_flip is for randomly flipping half of the images horizontally. This is relevant when there are no assumptions of horizontal assymmetry (e.g. real-world pictures).\n",
    "\n",
    "fill_mode is the strategy used for filling in newly created pixels, which can appear after a rotation or a width/height shift."
   ]
  },
  {
   "cell_type": "code",
   "execution_count": 24,
   "id": "weekly-moisture",
   "metadata": {
    "scrolled": true
   },
   "outputs": [
    {
     "name": "stdout",
     "output_type": "stream",
     "text": [
      "Found 1300 images belonging to 2 classes.\n",
      "Found 245 images belonging to 2 classes.\n",
      "Found 350 images belonging to 2 classes.\n",
      "Epoch 1/30\n",
      "65/65 [==============================] - 11s 154ms/step - loss: 0.6985 - tp: 22.7576 - tn: 456.2879 - fp: 62.9697 - fn: 127.6818 - precision: 0.2709 - recall: 0.1700 - acc: 0.7196 - auc: 0.5395 - val_loss: 0.6094 - val_tp: 0.0000e+00 - val_tn: 196.0000 - val_fp: 0.0000e+00 - val_fn: 44.0000 - val_precision: 0.0000e+00 - val_recall: 0.0000e+00 - val_acc: 0.8167 - val_auc: 0.6175\n",
      "Epoch 2/30\n",
      "65/65 [==============================] - 10s 151ms/step - loss: 0.5853 - tp: 14.3333 - tn: 478.0606 - fp: 36.6364 - fn: 140.6667 - precision: 0.2767 - recall: 0.0860 - acc: 0.7316 - auc: 0.5610 - val_loss: 0.4892 - val_tp: 0.0000e+00 - val_tn: 197.0000 - val_fp: 0.0000e+00 - val_fn: 43.0000 - val_precision: 0.0000e+00 - val_recall: 0.0000e+00 - val_acc: 0.8208 - val_auc: 0.6493\n",
      "Epoch 3/30\n",
      "65/65 [==============================] - 10s 147ms/step - loss: 0.5757 - tp: 13.7273 - tn: 481.6212 - fp: 31.5455 - fn: 142.8030 - precision: 0.2787 - recall: 0.0788 - acc: 0.7326 - auc: 0.5871 - val_loss: 0.4979 - val_tp: 0.0000e+00 - val_tn: 195.0000 - val_fp: 0.0000e+00 - val_fn: 45.0000 - val_precision: 0.0000e+00 - val_recall: 0.0000e+00 - val_acc: 0.8125 - val_auc: 0.5384\n",
      "Epoch 4/30\n",
      "65/65 [==============================] - 9s 141ms/step - loss: 0.5772 - tp: 13.6212 - tn: 485.1515 - fp: 27.0455 - fn: 143.8788 - precision: 0.3936 - recall: 0.0800 - acc: 0.7469 - auc: 0.5839 - val_loss: 0.4859 - val_tp: 0.0000e+00 - val_tn: 196.0000 - val_fp: 0.0000e+00 - val_fn: 44.0000 - val_precision: 0.0000e+00 - val_recall: 0.0000e+00 - val_acc: 0.8167 - val_auc: 0.6402\n",
      "Epoch 5/30\n",
      "65/65 [==============================] - 9s 141ms/step - loss: 0.5486 - tp: 11.0909 - tn: 499.1818 - fp: 21.6364 - fn: 137.7879 - precision: 0.3647 - recall: 0.1012 - acc: 0.7746 - auc: 0.5858 - val_loss: 0.5166 - val_tp: 0.0000e+00 - val_tn: 195.0000 - val_fp: 0.0000e+00 - val_fn: 45.0000 - val_precision: 0.0000e+00 - val_recall: 0.0000e+00 - val_acc: 0.8125 - val_auc: 0.6134\n",
      "Epoch 6/30\n",
      "65/65 [==============================] - 9s 141ms/step - loss: 0.5506 - tp: 10.3485 - tn: 494.5758 - fp: 18.7121 - fn: 146.0606 - precision: 0.3715 - recall: 0.0525 - acc: 0.7620 - auc: 0.5821 - val_loss: 0.4687 - val_tp: 2.0000 - val_tn: 192.0000 - val_fp: 3.0000 - val_fn: 43.0000 - val_precision: 0.4000 - val_recall: 0.0444 - val_acc: 0.8083 - val_auc: 0.6389\n",
      "Epoch 7/30\n",
      "65/65 [==============================] - 9s 141ms/step - loss: 0.5259 - tp: 8.5303 - tn: 508.2121 - fp: 12.9394 - fn: 140.0152 - precision: 0.3913 - recall: 0.0663 - acc: 0.7709 - auc: 0.6039 - val_loss: 0.4675 - val_tp: 0.0000e+00 - val_tn: 195.0000 - val_fp: 1.0000 - val_fn: 44.0000 - val_precision: 0.0000e+00 - val_recall: 0.0000e+00 - val_acc: 0.8125 - val_auc: 0.6356\n",
      "Epoch 8/30\n",
      "65/65 [==============================] - 9s 142ms/step - loss: 0.5404 - tp: 8.0606 - tn: 503.4394 - fp: 11.2727 - fn: 146.9242 - precision: 0.4109 - recall: 0.0603 - acc: 0.7552 - auc: 0.6158 - val_loss: 0.4834 - val_tp: 5.0000 - val_tn: 189.0000 - val_fp: 6.0000 - val_fn: 40.0000 - val_precision: 0.4545 - val_recall: 0.1111 - val_acc: 0.8083 - val_auc: 0.6397\n",
      "Epoch 9/30\n",
      "65/65 [==============================] - 10s 147ms/step - loss: 0.5484 - tp: 9.3333 - tn: 495.1818 - fp: 20.6667 - fn: 144.5152 - precision: 0.3147 - recall: 0.0768 - acc: 0.7530 - auc: 0.5976 - val_loss: 0.5107 - val_tp: 2.0000 - val_tn: 196.0000 - val_fp: 0.0000e+00 - val_fn: 42.0000 - val_precision: 1.0000 - val_recall: 0.0455 - val_acc: 0.8250 - val_auc: 0.6437\n",
      "Epoch 10/30\n",
      "65/65 [==============================] - 9s 144ms/step - loss: 0.5197 - tp: 8.5455 - tn: 507.2273 - fp: 9.4091 - fn: 144.5152 - precision: 0.5394 - recall: 0.0606 - acc: 0.7800 - auc: 0.6247 - val_loss: 0.4755 - val_tp: 1.0000 - val_tn: 195.0000 - val_fp: 0.0000e+00 - val_fn: 44.0000 - val_precision: 1.0000 - val_recall: 0.0222 - val_acc: 0.8167 - val_auc: 0.6248\n",
      "Epoch 11/30\n",
      "65/65 [==============================] - 9s 141ms/step - loss: 0.5355 - tp: 3.5606 - tn: 508.8485 - fp: 8.0303 - fn: 149.2576 - precision: 0.2890 - recall: 0.0213 - acc: 0.7632 - auc: 0.6193 - val_loss: 0.4761 - val_tp: 0.0000e+00 - val_tn: 196.0000 - val_fp: 0.0000e+00 - val_fn: 44.0000 - val_precision: 0.0000e+00 - val_recall: 0.0000e+00 - val_acc: 0.8167 - val_auc: 0.6856\n",
      "Epoch 12/30\n",
      "65/65 [==============================] - 9s 146ms/step - loss: 0.5151 - tp: 8.5909 - tn: 503.1515 - fp: 9.7121 - fn: 148.2424 - precision: 0.5355 - recall: 0.0476 - acc: 0.7739 - auc: 0.6473 - val_loss: 0.4690 - val_tp: 1.0000 - val_tn: 196.0000 - val_fp: 0.0000e+00 - val_fn: 43.0000 - val_precision: 1.0000 - val_recall: 0.0227 - val_acc: 0.8208 - val_auc: 0.6393\n",
      "Epoch 13/30\n",
      "65/65 [==============================] - 9s 141ms/step - loss: 0.5131 - tp: 7.0303 - tn: 517.4545 - fp: 5.5152 - fn: 139.6970 - precision: 0.7140 - recall: 0.0516 - acc: 0.7911 - auc: 0.6118 - val_loss: 0.5152 - val_tp: 2.0000 - val_tn: 194.0000 - val_fp: 1.0000 - val_fn: 43.0000 - val_precision: 0.6667 - val_recall: 0.0444 - val_acc: 0.8167 - val_auc: 0.6039\n",
      "Epoch 14/30\n",
      "65/65 [==============================] - 9s 140ms/step - loss: 0.5533 - tp: 5.8333 - tn: 496.5606 - fp: 9.9394 - fn: 157.3636 - precision: 0.3482 - recall: 0.0374 - acc: 0.7476 - auc: 0.5986 - val_loss: 0.4998 - val_tp: 1.0000 - val_tn: 196.0000 - val_fp: 0.0000e+00 - val_fn: 43.0000 - val_precision: 1.0000 - val_recall: 0.0227 - val_acc: 0.8208 - val_auc: 0.6552\n",
      "Epoch 15/30\n",
      "65/65 [==============================] - 9s 141ms/step - loss: 0.5482 - tp: 7.1515 - tn: 500.8030 - fp: 6.5000 - fn: 155.2424 - precision: 0.4671 - recall: 0.0388 - acc: 0.7515 - auc: 0.6432 - val_loss: 0.5439 - val_tp: 12.0000 - val_tn: 167.0000 - val_fp: 29.0000 - val_fn: 32.0000 - val_precision: 0.2927 - val_recall: 0.2727 - val_acc: 0.7458 - val_auc: 0.5848\n",
      "Epoch 16/30\n",
      "65/65 [==============================] - 9s 143ms/step - loss: 0.5382 - tp: 4.4697 - tn: 508.2273 - fp: 6.2727 - fn: 150.7273 - precision: 0.4018 - recall: 0.0355 - acc: 0.7638 - auc: 0.6033 - val_loss: 0.5946 - val_tp: 4.0000 - val_tn: 164.0000 - val_fp: 32.0000 - val_fn: 40.0000 - val_precision: 0.1111 - val_recall: 0.0909 - val_acc: 0.7000 - val_auc: 0.4561\n",
      "Epoch 17/30\n",
      "65/65 [==============================] - 9s 145ms/step - loss: 0.5174 - tp: 4.0303 - tn: 512.8636 - fp: 3.8636 - fn: 148.9394 - precision: 0.6166 - recall: 0.0300 - acc: 0.7761 - auc: 0.6334 - val_loss: 0.4729 - val_tp: 0.0000e+00 - val_tn: 194.0000 - val_fp: 1.0000 - val_fn: 45.0000 - val_precision: 0.0000e+00 - val_recall: 0.0000e+00 - val_acc: 0.8083 - val_auc: 0.6795\n",
      "Epoch 18/30\n",
      "65/65 [==============================] - 9s 142ms/step - loss: 0.5116 - tp: 10.0455 - tn: 503.0606 - fp: 9.4697 - fn: 147.1212 - precision: 0.4060 - recall: 0.0503 - acc: 0.7635 - auc: 0.6726 - val_loss: 0.4663 - val_tp: 0.0000e+00 - val_tn: 195.0000 - val_fp: 1.0000 - val_fn: 44.0000 - val_precision: 0.0000e+00 - val_recall: 0.0000e+00 - val_acc: 0.8125 - val_auc: 0.6358\n",
      "Epoch 19/30\n",
      "65/65 [==============================] - 9s 141ms/step - loss: 0.4911 - tp: 6.5455 - tn: 517.3939 - fp: 2.2576 - fn: 143.5000 - precision: 0.7953 - recall: 0.0445 - acc: 0.7930 - auc: 0.6560 - val_loss: 0.5358 - val_tp: 5.0000 - val_tn: 194.0000 - val_fp: 1.0000 - val_fn: 40.0000 - val_precision: 0.8333 - val_recall: 0.1111 - val_acc: 0.8292 - val_auc: 0.6734\n",
      "Epoch 20/30\n",
      "65/65 [==============================] - 9s 140ms/step - loss: 0.5001 - tp: 10.7576 - tn: 514.1667 - fp: 6.2879 - fn: 138.4848 - precision: 0.6421 - recall: 0.0809 - acc: 0.7838 - auc: 0.6781 - val_loss: 0.4704 - val_tp: 5.0000 - val_tn: 195.0000 - val_fp: 1.0000 - val_fn: 39.0000 - val_precision: 0.8333 - val_recall: 0.1136 - val_acc: 0.8333 - val_auc: 0.7047\n",
      "Epoch 21/30\n",
      "65/65 [==============================] - 9s 142ms/step - loss: 0.5013 - tp: 8.7424 - tn: 509.5303 - fp: 10.0606 - fn: 141.3636 - precision: 0.4727 - recall: 0.0595 - acc: 0.7758 - auc: 0.6632 - val_loss: 0.4986 - val_tp: 2.0000 - val_tn: 193.0000 - val_fp: 2.0000 - val_fn: 43.0000 - val_precision: 0.5000 - val_recall: 0.0444 - val_acc: 0.8125 - val_auc: 0.5785\n",
      "Epoch 22/30\n"
     ]
    },
    {
     "name": "stdout",
     "output_type": "stream",
     "text": [
      "65/65 [==============================] - 9s 140ms/step - loss: 0.5371 - tp: 6.1061 - tn: 505.0909 - fp: 3.4697 - fn: 155.0303 - precision: 0.6733 - recall: 0.0401 - acc: 0.7637 - auc: 0.6261 - val_loss: 0.5486 - val_tp: 7.0000 - val_tn: 185.0000 - val_fp: 11.0000 - val_fn: 37.0000 - val_precision: 0.3889 - val_recall: 0.1591 - val_acc: 0.8000 - val_auc: 0.5927\n",
      "Epoch 23/30\n",
      "65/65 [==============================] - 9s 143ms/step - loss: 0.5233 - tp: 5.5909 - tn: 509.0606 - fp: 4.1818 - fn: 150.8636 - precision: 0.6181 - recall: 0.0381 - acc: 0.7709 - auc: 0.6239 - val_loss: 0.4865 - val_tp: 4.0000 - val_tn: 187.0000 - val_fp: 8.0000 - val_fn: 41.0000 - val_precision: 0.3333 - val_recall: 0.0889 - val_acc: 0.7958 - val_auc: 0.6677\n",
      "Epoch 24/30\n",
      "65/65 [==============================] - 9s 144ms/step - loss: 0.5090 - tp: 6.0303 - tn: 517.7273 - fp: 1.0455 - fn: 144.8939 - precision: 0.9072 - recall: 0.0420 - acc: 0.7842 - auc: 0.6332 - val_loss: 0.5023 - val_tp: 9.0000 - val_tn: 185.0000 - val_fp: 12.0000 - val_fn: 34.0000 - val_precision: 0.4286 - val_recall: 0.2093 - val_acc: 0.8083 - val_auc: 0.6619\n",
      "Epoch 25/30\n",
      "65/65 [==============================] - 10s 147ms/step - loss: 0.5312 - tp: 12.7121 - tn: 507.2273 - fp: 5.4545 - fn: 144.3030 - precision: 0.6944 - recall: 0.0894 - acc: 0.7749 - auc: 0.6179 - val_loss: 0.6995 - val_tp: 24.0000 - val_tn: 106.0000 - val_fp: 91.0000 - val_fn: 19.0000 - val_precision: 0.2087 - val_recall: 0.5581 - val_acc: 0.5417 - val_auc: 0.6081\n",
      "Epoch 26/30\n",
      "65/65 [==============================] - 9s 146ms/step - loss: 0.5293 - tp: 9.7727 - tn: 506.5909 - fp: 8.8788 - fn: 144.4545 - precision: 0.4520 - recall: 0.0532 - acc: 0.7612 - auc: 0.6334 - val_loss: 1.0803 - val_tp: 41.0000 - val_tn: 15.0000 - val_fp: 181.0000 - val_fn: 3.0000 - val_precision: 0.1847 - val_recall: 0.9318 - val_acc: 0.2333 - val_auc: 0.5703\n",
      "Epoch 27/30\n",
      "65/65 [==============================] - 10s 147ms/step - loss: 0.5119 - tp: 6.7424 - tn: 511.9091 - fp: 7.7273 - fn: 143.3182 - precision: 0.4556 - recall: 0.0481 - acc: 0.7803 - auc: 0.6130 - val_loss: 0.5207 - val_tp: 5.0000 - val_tn: 187.0000 - val_fp: 8.0000 - val_fn: 40.0000 - val_precision: 0.3846 - val_recall: 0.1111 - val_acc: 0.8000 - val_auc: 0.6625\n",
      "Epoch 28/30\n",
      "65/65 [==============================] - 9s 143ms/step - loss: 0.5298 - tp: 10.1364 - tn: 502.8636 - fp: 11.9091 - fn: 144.7879 - precision: 0.4372 - recall: 0.0657 - acc: 0.7662 - auc: 0.6149 - val_loss: 0.4560 - val_tp: 1.0000 - val_tn: 194.0000 - val_fp: 1.0000 - val_fn: 44.0000 - val_precision: 0.5000 - val_recall: 0.0222 - val_acc: 0.8125 - val_auc: 0.7019\n",
      "Epoch 29/30\n",
      "65/65 [==============================] - 9s 143ms/step - loss: 0.4989 - tp: 4.3333 - tn: 514.6061 - fp: 5.6212 - fn: 145.1364 - precision: 0.3041 - recall: 0.0205 - acc: 0.7797 - auc: 0.6628 - val_loss: 0.5888 - val_tp: 14.0000 - val_tn: 164.0000 - val_fp: 32.0000 - val_fn: 30.0000 - val_precision: 0.3043 - val_recall: 0.3182 - val_acc: 0.7417 - val_auc: 0.5820\n",
      "Epoch 30/30\n",
      "65/65 [==============================] - 9s 143ms/step - loss: 0.5029 - tp: 9.0152 - tn: 510.5758 - fp: 6.6212 - fn: 143.4848 - precision: 0.5166 - recall: 0.0535 - acc: 0.7717 - auc: 0.6760 - val_loss: 0.5322 - val_tp: 3.0000 - val_tn: 193.0000 - val_fp: 3.0000 - val_fn: 41.0000 - val_precision: 0.5000 - val_recall: 0.0682 - val_acc: 0.8167 - val_auc: 0.5893\n"
     ]
    }
   ],
   "source": [
    "img_height = img_width = 28\n",
    "batch_size = 20\n",
    "\n",
    "##################\n",
    "\n",
    "from tensorflow.keras.preprocessing.image import ImageDataGenerator\n",
    "\n",
    "train_datagen = ImageDataGenerator(\n",
    "      rescale=1./255,\n",
    "      rotation_range=40,\n",
    "      width_shift_range=0.2,\n",
    "      height_shift_range=0.2,\n",
    "      shear_range=0.2,\n",
    "      zoom_range=0.2,\n",
    "      horizontal_flip=True,\n",
    "      fill_mode='nearest'\n",
    ")\n",
    "\n",
    "'''\n",
    "- rotation_range is a value in degrees (0–180), a range within which to randomly rotate pictures.\n",
    "- width_shift and height_shift are ranges (as a fraction of total width or height) within which to \n",
    "randomly translate pictures vertically or horizontally.\n",
    "- shear_range is for randomly applying shearing transformations.\n",
    "- zoom_range is for randomly zooming inside pictures.\n",
    "- horizontal_flip is for randomly flipping half of the images horizontally. This is relevant when \n",
    "there are no assumptions of horizontal assymmetry (e.g. real-world pictures).\n",
    "- fill_mode is the strategy used for filling in newly created pixels, which can appear after a rotation \n",
    "or a width/height shift.\n",
    "'''\n",
    "\n",
    "validation_datagen = ImageDataGenerator(rescale=1.0 / 255, dtype=tf.float32)\n",
    "test_datagen = ImageDataGenerator(rescale=1.0 / 255, dtype=tf.float32)\n",
    "\n",
    "##################\n",
    "\n",
    "train_gen = train_datagen.flow_from_directory(\n",
    "    folder_train,\n",
    "    target_size=(img_height, img_width),\n",
    "    batch_size=batch_size,\n",
    "    color_mode=\"rgb\",\n",
    "    class_mode=\"binary\",\n",
    "    shuffle=True,\n",
    "    seed=123,\n",
    ")\n",
    "\n",
    "validation_gen = validation_datagen.flow_from_directory(\n",
    "    folder_validation,\n",
    "    target_size=(img_height, img_width),\n",
    "    batch_size=batch_size,\n",
    "    color_mode=\"rgb\",\n",
    "    class_mode=\"binary\",\n",
    "    shuffle=True,\n",
    "    seed=123,\n",
    ")\n",
    "\n",
    "test_gen = test_datagen.flow_from_directory(\n",
    "    folder_test,\n",
    "    target_size=(img_height, img_width),\n",
    "    batch_size=batch_size,\n",
    "    color_mode=\"rgb\",\n",
    "    class_mode=\"binary\",\n",
    "    shuffle=True,\n",
    "    seed=123,\n",
    ")\n",
    "\n",
    "##################\n",
    "\n",
    "model = Sequential([\n",
    "    Conv2D(32, 3, activation='relu', input_shape=(img_height, img_width, 3)),\n",
    "    BatchNormalization(),\n",
    "    MaxPooling2D(),\n",
    "    Conv2D(64, 3, activation='relu'),\n",
    "    BatchNormalization(),\n",
    "    MaxPooling2D(),\n",
    "    Conv2D(128, 3, activation='relu'),\n",
    "    BatchNormalization(),\n",
    "    MaxPooling2D(),\n",
    "    Dropout(0.5),\n",
    "    Flatten(),\n",
    "    Dense(512, activation='relu'),\n",
    "    Dense(1, activation='sigmoid')\n",
    "])\n",
    "\n",
    "# inputs = Input(shape=(img_height, img_width, 3))\n",
    "# x = Conv2D(32, 3)(inputs)\n",
    "# x = BatchNormalization()(x)\n",
    "# x = relu(x)\n",
    "# x = MaxPooling2D()(x)\n",
    "# x = Conv2D(64, 3)(x)\n",
    "# x = BatchNormalization()(x)\n",
    "# x = relu(x)\n",
    "# x = MaxPooling2D()(x)\n",
    "# x = Conv2D(128, 3)(x)\n",
    "# x = BatchNormalization()(x)\n",
    "# x = relu(x)\n",
    "# x = Dropout(0.5)\n",
    "# x = Flatten()(x)\n",
    "# x = Dense(64, activation=\"relu\")(x)\n",
    "# outputs = Dense(1, activation=\"sigmoid\")(x)\n",
    "# model = Model(inputs=inputs, outputs=outputs)\n",
    "\n",
    "##################\n",
    "\n",
    "METRICS = [\n",
    "  TruePositives(name='tp'),\n",
    "  TrueNegatives(name='tn'),\n",
    "  FalsePositives(name='fp'),\n",
    "  FalseNegatives(name='fn'), \n",
    "  Precision(name='precision'),\n",
    "  Recall(name='recall'),\n",
    "  BinaryAccuracy(name='acc'),\n",
    "  AUC(name='auc'),\n",
    "]\n",
    "\n",
    "model.compile(\n",
    "    optimizer=Adam(),\n",
    "    loss=[BinaryCrossentropy(from_logits=True),],\n",
    "    metrics=METRICS,\n",
    ")\n",
    "\n",
    "history = model.fit(\n",
    "    train_gen,\n",
    "    epochs=30,\n",
    "    steps_per_epoch=num_of_files_train // batch_size,\n",
    "    validation_data=validation_gen,\n",
    "    validation_steps=num_of_files_validation // batch_size,\n",
    ")"
   ]
  },
  {
   "cell_type": "code",
   "execution_count": 25,
   "id": "narrative-shanghai",
   "metadata": {},
   "outputs": [
    {
     "name": "stdout",
     "output_type": "stream",
     "text": [
      "18/18 [==============================] - 2s 119ms/step - loss: 0.5093 - tp: 4.0000 - tn: 293.0000 - fp: 7.0000 - fn: 46.0000 - precision: 0.3636 - recall: 0.0800 - acc: 0.8486 - auc: 0.5973\n"
     ]
    },
    {
     "data": {
      "text/plain": [
       "84.85714285714285"
      ]
     },
     "execution_count": 25,
     "metadata": {},
     "output_type": "execute_result"
    }
   ],
   "source": [
    "result = model.evaluate(test_gen)\n",
    "((result[1]+result[2]) / num_of_files_test) * 100"
   ]
  },
  {
   "cell_type": "code",
   "execution_count": 26,
   "id": "sorted-davis",
   "metadata": {},
   "outputs": [
    {
     "data": {
      "image/png": "[encoded data removed]",
      "text/plain": [
       "<Figure size 432x288 with 1 Axes>"
      ]
     },
     "metadata": {
      "needs_background": "light"
     },
     "output_type": "display_data"
    },
    {
     "data": {
      "image/png": "[encoded data removed]",
      "text/plain": [
       "<Figure size 432x288 with 1 Axes>"
      ]
     },
     "metadata": {
      "needs_background": "light"
     },
     "output_type": "display_data"
    }
   ],
   "source": [
    "import matplotlib.pyplot as plt\n",
    "acc = history.history['acc']\n",
    "val_acc = history.history['val_acc']\n",
    "loss = history.history['loss']\n",
    "val_loss = history.history['val_loss']\n",
    "\n",
    "epochs = range(len(acc))\n",
    "\n",
    "plt.plot(epochs, acc, 'bo', label='Training accuracy')\n",
    "plt.plot(epochs, val_acc, 'b', label='Validation accuracy')\n",
    "plt.title('Training and validation accuracy')\n",
    "\n",
    "plt.figure()\n",
    "\n",
    "plt.plot(epochs, loss, 'bo', label='Training Loss')\n",
    "plt.plot(epochs, val_loss, 'b', label='Validation Loss')\n",
    "plt.title('Training and validation loss')\n",
    "plt.legend()\n",
    "\n",
    "plt.show()"
   ]
  },
  {
   "cell_type": "code",
   "execution_count": 29,
   "id": "international-batch",
   "metadata": {},
   "outputs": [
    {
     "name": "stdout",
     "output_type": "stream",
     "text": [
      "Found 20 images belonging to 2 classes.\n",
      "1/1 [==============================] - 0s 139ms/step - loss: 0.5034 - tp: 2.0000 - tn: 13.0000 - fp: 1.0000 - fn: 4.0000 - precision: 0.6667 - recall: 0.3333 - acc: 0.7500 - auc: 0.7857\n"
     ]
    },
    {
     "data": {
      "text/plain": [
       "71.42857142857143"
      ]
     },
     "execution_count": 29,
     "metadata": {},
     "output_type": "execute_result"
    }
   ],
   "source": [
    "folder_test_teknofest = 'data2/test/'\n",
    "num_of_files_test_2 = num_of_files(folder_test_teknofest)\n",
    "\n",
    "test_gen_teknofest = test_datagen.flow_from_directory(\n",
    "    'data2/test/',\n",
    "    target_size=(img_height, img_width),\n",
    "    batch_size=batch_size,\n",
    "    color_mode=\"rgb\",\n",
    "    class_mode=\"binary\",\n",
    "    shuffle=True,\n",
    "    seed=123,\n",
    ")\n",
    "\n",
    "result_tf = model.evaluate(test_gen_teknofest)\n",
    "((result_tf[1]+result_tf[2]) / num_of_files_test_2) * 100"
   ]
  },
  {
   "cell_type": "code",
   "execution_count": 30,
   "id": "brave-executive",
   "metadata": {},
   "outputs": [
    {
     "name": "stdout",
     "output_type": "stream",
     "text": [
      "Found 20225 images belonging to 2 classes.\n",
      "Found 2551 images belonging to 2 classes.\n",
      "Found 2555 images belonging to 2 classes.\n",
      "Epoch 1/30\n",
      "65/65 [==============================] - 15s 213ms/step - loss: 0.6062 - tp: 21.1818 - tn: 477.4091 - fp: 46.4848 - fn: 124.6212 - precision: 0.2837 - recall: 0.1419 - acc: 0.7336 - auc: 0.5578 - val_loss: 0.5038 - val_tp: 0.0000e+00 - val_tn: 196.0000 - val_fp: 0.0000e+00 - val_fn: 44.0000 - val_precision: 0.0000e+00 - val_recall: 0.0000e+00 - val_acc: 0.8167 - val_auc: 0.5833\n",
      "Epoch 2/30\n",
      "65/65 [==============================] - 13s 201ms/step - loss: 0.5350 - tp: 12.2576 - tn: 509.6061 - fp: 31.9242 - fn: 115.9091 - precision: 0.2821 - recall: 0.1009 - acc: 0.7824 - auc: 0.5845 - val_loss: 0.4775 - val_tp: 0.0000e+00 - val_tn: 195.0000 - val_fp: 0.0000e+00 - val_fn: 45.0000 - val_precision: 0.0000e+00 - val_recall: 0.0000e+00 - val_acc: 0.8125 - val_auc: 0.7476\n",
      "Epoch 3/30\n",
      "65/65 [==============================] - 13s 201ms/step - loss: 0.5293 - tp: 8.9545 - tn: 526.8333 - fp: 25.3485 - fn: 108.5606 - precision: 0.2669 - recall: 0.0878 - acc: 0.7889 - auc: 0.5674 - val_loss: 0.3937 - val_tp: 0.0000e+00 - val_tn: 207.0000 - val_fp: 0.0000e+00 - val_fn: 33.0000 - val_precision: 0.0000e+00 - val_recall: 0.0000e+00 - val_acc: 0.8625 - val_auc: 0.5935\n",
      "Epoch 4/30\n",
      "65/65 [==============================] - 13s 204ms/step - loss: 0.4793 - tp: 10.6212 - tn: 526.2273 - fp: 24.3030 - fn: 108.5455 - precision: 0.3205 - recall: 0.0911 - acc: 0.8039 - auc: 0.6596 - val_loss: 0.4180 - val_tp: 0.0000e+00 - val_tn: 206.0000 - val_fp: 0.0000e+00 - val_fn: 34.0000 - val_precision: 0.0000e+00 - val_recall: 0.0000e+00 - val_acc: 0.8583 - val_auc: 0.5699\n",
      "Epoch 5/30\n",
      "65/65 [==============================] - 13s 205ms/step - loss: 0.4650 - tp: 15.5909 - tn: 528.3030 - fp: 15.8182 - fn: 109.9848 - precision: 0.4996 - recall: 0.1073 - acc: 0.8177 - auc: 0.6675 - val_loss: 0.3794 - val_tp: 0.0000e+00 - val_tn: 203.0000 - val_fp: 0.0000e+00 - val_fn: 37.0000 - val_precision: 0.0000e+00 - val_recall: 0.0000e+00 - val_acc: 0.8458 - val_auc: 0.7976\n",
      "Epoch 6/30\n",
      "65/65 [==============================] - 13s 200ms/step - loss: 0.4195 - tp: 12.8485 - tn: 541.1970 - fp: 20.1212 - fn: 95.5303 - precision: 0.3639 - recall: 0.1074 - acc: 0.8271 - auc: 0.7072 - val_loss: 0.3983 - val_tp: 0.0000e+00 - val_tn: 206.0000 - val_fp: 0.0000e+00 - val_fn: 34.0000 - val_precision: 0.0000e+00 - val_recall: 0.0000e+00 - val_acc: 0.8583 - val_auc: 0.6540\n",
      "Epoch 7/30\n",
      "65/65 [==============================] - 13s 202ms/step - loss: 0.4750 - tp: 9.9091 - tn: 525.4697 - fp: 17.4091 - fn: 116.9091 - precision: 0.3265 - recall: 0.0651 - acc: 0.8021 - auc: 0.6590 - val_loss: 0.4760 - val_tp: 1.0000 - val_tn: 184.0000 - val_fp: 1.0000 - val_fn: 54.0000 - val_precision: 0.5000 - val_recall: 0.0182 - val_acc: 0.7708 - val_auc: 0.7718\n",
      "Epoch 8/30\n",
      "65/65 [==============================] - 13s 201ms/step - loss: 0.4546 - tp: 13.3939 - tn: 543.0606 - fp: 12.1970 - fn: 101.0455 - precision: 0.5379 - recall: 0.1379 - acc: 0.8318 - auc: 0.6442 - val_loss: 0.4027 - val_tp: 2.0000 - val_tn: 198.0000 - val_fp: 1.0000 - val_fn: 39.0000 - val_precision: 0.6667 - val_recall: 0.0488 - val_acc: 0.8333 - val_auc: 0.7440\n",
      "Epoch 9/30\n",
      "65/65 [==============================] - 13s 200ms/step - loss: 0.4579 - tp: 9.7424 - tn: 528.0152 - fp: 15.3030 - fn: 116.6364 - precision: 0.2785 - recall: 0.0555 - acc: 0.8018 - auc: 0.6839 - val_loss: 0.4823 - val_tp: 2.0000 - val_tn: 196.0000 - val_fp: 0.0000e+00 - val_fn: 42.0000 - val_precision: 1.0000 - val_recall: 0.0455 - val_acc: 0.8250 - val_auc: 0.6683\n",
      "Epoch 10/30\n",
      "65/65 [==============================] - 13s 204ms/step - loss: 0.4754 - tp: 7.7121 - tn: 525.9242 - fp: 12.0606 - fn: 124.0000 - precision: 0.2235 - recall: 0.0369 - acc: 0.8050 - auc: 0.6524 - val_loss: 0.3907 - val_tp: 7.0000 - val_tn: 192.0000 - val_fp: 11.0000 - val_fn: 30.0000 - val_precision: 0.3889 - val_recall: 0.1892 - val_acc: 0.8292 - val_auc: 0.7572\n",
      "Epoch 11/30\n",
      "65/65 [==============================] - 13s 201ms/step - loss: 0.4309 - tp: 17.7273 - tn: 536.0152 - fp: 12.6970 - fn: 103.2576 - precision: 0.5967 - recall: 0.1347 - acc: 0.8289 - auc: 0.7014 - val_loss: 0.4067 - val_tp: 13.0000 - val_tn: 187.0000 - val_fp: 12.0000 - val_fn: 28.0000 - val_precision: 0.5200 - val_recall: 0.3171 - val_acc: 0.8333 - val_auc: 0.7483\n",
      "Epoch 12/30\n",
      "65/65 [==============================] - 13s 201ms/step - loss: 0.4491 - tp: 19.6364 - tn: 513.8333 - fp: 21.3030 - fn: 114.9242 - precision: 0.4828 - recall: 0.1422 - acc: 0.8024 - auc: 0.7161 - val_loss: 0.3951 - val_tp: 6.0000 - val_tn: 191.0000 - val_fp: 13.0000 - val_fn: 30.0000 - val_precision: 0.3158 - val_recall: 0.1667 - val_acc: 0.8208 - val_auc: 0.7344\n",
      "Epoch 13/30\n",
      "65/65 [==============================] - 13s 198ms/step - loss: 0.4327 - tp: 3.8333 - tn: 538.9242 - fp: 7.1818 - fn: 119.7576 - precision: 0.3653 - recall: 0.0268 - acc: 0.8104 - auc: 0.7231 - val_loss: 0.3780 - val_tp: 13.0000 - val_tn: 185.0000 - val_fp: 21.0000 - val_fn: 21.0000 - val_precision: 0.3824 - val_recall: 0.3824 - val_acc: 0.8250 - val_auc: 0.7951\n",
      "Epoch 14/30\n",
      "65/65 [==============================] - 13s 199ms/step - loss: 0.4212 - tp: 9.9697 - tn: 544.9242 - fp: 11.9545 - fn: 102.8485 - precision: 0.4006 - recall: 0.0841 - acc: 0.8372 - auc: 0.6809 - val_loss: 0.4995 - val_tp: 2.0000 - val_tn: 199.0000 - val_fp: 0.0000e+00 - val_fn: 39.0000 - val_precision: 1.0000 - val_recall: 0.0488 - val_acc: 0.8375 - val_auc: 0.7400\n",
      "Epoch 15/30\n",
      "65/65 [==============================] - 13s 200ms/step - loss: 0.4260 - tp: 10.6212 - tn: 536.5909 - fp: 10.4091 - fn: 111.3939 - precision: 0.5736 - recall: 0.0777 - acc: 0.8125 - auc: 0.7455 - val_loss: 0.5970 - val_tp: 28.0000 - val_tn: 127.0000 - val_fp: 71.0000 - val_fn: 14.0000 - val_precision: 0.2828 - val_recall: 0.6667 - val_acc: 0.6458 - val_auc: 0.7294\n",
      "Epoch 16/30\n",
      "65/65 [==============================] - 13s 198ms/step - loss: 0.4512 - tp: 12.4242 - tn: 540.7879 - fp: 9.5909 - fn: 106.8939 - precision: 0.5836 - recall: 0.1103 - acc: 0.8215 - auc: 0.7121 - val_loss: 0.4412 - val_tp: 9.0000 - val_tn: 188.0000 - val_fp: 19.0000 - val_fn: 24.0000 - val_precision: 0.3214 - val_recall: 0.2727 - val_acc: 0.8208 - val_auc: 0.7354\n",
      "Epoch 17/30\n",
      "65/65 [==============================] - 13s 195ms/step - loss: 0.3960 - tp: 8.3333 - tn: 544.4242 - fp: 10.6818 - fn: 92.1667 - precision: 0.4146 - recall: 0.0962 - acc: 0.8550 - auc: 0.6909 - val_loss: 0.4089 - val_tp: 18.0000 - val_tn: 186.0000 - val_fp: 17.0000 - val_fn: 19.0000 - val_precision: 0.5143 - val_recall: 0.4865 - val_acc: 0.8500 - val_auc: 0.7954\n",
      "Epoch 18/30\n",
      "65/65 [==============================] - 13s 200ms/step - loss: 0.4482 - tp: 11.7879 - tn: 536.3182 - fp: 8.4242 - fn: 113.1667 - precision: 0.6469 - recall: 0.1048 - acc: 0.8216 - auc: 0.6906 - val_loss: 0.4159 - val_tp: 17.0000 - val_tn: 183.0000 - val_fp: 15.0000 - val_fn: 25.0000 - val_precision: 0.5312 - val_recall: 0.4048 - val_acc: 0.8333 - val_auc: 0.7694\n",
      "Epoch 19/30\n",
      "65/65 [==============================] - 13s 201ms/step - loss: 0.4642 - tp: 14.0758 - tn: 536.6667 - fp: 7.8636 - fn: 111.0909 - precision: 0.7129 - recall: 0.1403 - acc: 0.8198 - auc: 0.7053 - val_loss: 0.3865 - val_tp: 11.0000 - val_tn: 193.0000 - val_fp: 8.0000 - val_fn: 28.0000 - val_precision: 0.5789 - val_recall: 0.2821 - val_acc: 0.8500 - val_auc: 0.7798\n",
      "Epoch 20/30\n",
      "65/65 [==============================] - 13s 197ms/step - loss: 0.4676 - tp: 13.1364 - tn: 518.3636 - fp: 14.2121 - fn: 111.4848 - precision: 0.4689 - recall: 0.1044 - acc: 0.8000 - auc: 0.7015 - val_loss: 0.3986 - val_tp: 9.0000 - val_tn: 198.0000 - val_fp: 9.0000 - val_fn: 24.0000 - val_precision: 0.5000 - val_recall: 0.2727 - val_acc: 0.8625 - val_auc: 0.7091\n",
      "Epoch 21/30\n",
      "65/65 [==============================] - 13s 196ms/step - loss: 0.4115 - tp: 10.2121 - tn: 544.4848 - fp: 10.9394 - fn: 104.0606 - precision: 0.4628 - recall: 0.0786 - acc: 0.8289 - auc: 0.7293 - val_loss: 0.4033 - val_tp: 12.0000 - val_tn: 191.0000 - val_fp: 6.0000 - val_fn: 31.0000 - val_precision: 0.6667 - val_recall: 0.2791 - val_acc: 0.8458 - val_auc: 0.7885\n",
      "Epoch 22/30\n"
     ]
    },
    {
     "name": "stdout",
     "output_type": "stream",
     "text": [
      "65/65 [==============================] - 13s 199ms/step - loss: 0.4380 - tp: 11.9545 - tn: 544.6515 - fp: 10.1818 - fn: 102.9091 - precision: 0.5590 - recall: 0.1165 - acc: 0.8271 - auc: 0.6854 - val_loss: 0.4272 - val_tp: 13.0000 - val_tn: 195.0000 - val_fp: 4.0000 - val_fn: 28.0000 - val_precision: 0.7647 - val_recall: 0.3171 - val_acc: 0.8667 - val_auc: 0.7225\n",
      "Epoch 23/30\n",
      "65/65 [==============================] - 13s 204ms/step - loss: 0.4471 - tp: 10.4394 - tn: 539.0000 - fp: 10.6212 - fn: 109.6364 - precision: 0.4584 - recall: 0.0772 - acc: 0.8145 - auc: 0.6960 - val_loss: 0.4040 - val_tp: 9.0000 - val_tn: 194.0000 - val_fp: 4.0000 - val_fn: 33.0000 - val_precision: 0.6923 - val_recall: 0.2143 - val_acc: 0.8458 - val_auc: 0.7585\n",
      "Epoch 24/30\n",
      "65/65 [==============================] - 13s 199ms/step - loss: 0.4252 - tp: 10.2727 - tn: 540.5455 - fp: 10.4394 - fn: 108.4394 - precision: 0.4586 - recall: 0.0761 - acc: 0.8191 - auc: 0.7311 - val_loss: 0.4172 - val_tp: 9.0000 - val_tn: 192.0000 - val_fp: 11.0000 - val_fn: 28.0000 - val_precision: 0.4500 - val_recall: 0.2432 - val_acc: 0.8375 - val_auc: 0.7165\n",
      "Epoch 25/30\n",
      "65/65 [==============================] - 13s 198ms/step - loss: 0.4447 - tp: 10.4242 - tn: 533.8333 - fp: 8.9848 - fn: 116.4545 - precision: 0.5696 - recall: 0.0839 - acc: 0.8143 - auc: 0.7237 - val_loss: 0.3759 - val_tp: 9.0000 - val_tn: 196.0000 - val_fp: 8.0000 - val_fn: 27.0000 - val_precision: 0.5294 - val_recall: 0.2500 - val_acc: 0.8542 - val_auc: 0.8000\n",
      "Epoch 26/30\n",
      "65/65 [==============================] - 13s 199ms/step - loss: 0.4314 - tp: 11.9545 - tn: 540.1364 - fp: 9.6061 - fn: 108.0000 - precision: 0.5453 - recall: 0.0924 - acc: 0.8226 - auc: 0.7249 - val_loss: 0.3947 - val_tp: 18.0000 - val_tn: 187.0000 - val_fp: 7.0000 - val_fn: 28.0000 - val_precision: 0.7200 - val_recall: 0.3913 - val_acc: 0.8542 - val_auc: 0.8362\n",
      "Epoch 27/30\n",
      "65/65 [==============================] - 13s 198ms/step - loss: 0.4737 - tp: 11.7576 - tn: 526.4242 - fp: 7.7121 - fn: 123.8030 - precision: 0.6988 - recall: 0.1006 - acc: 0.8044 - auc: 0.7046 - val_loss: 0.4107 - val_tp: 13.0000 - val_tn: 194.0000 - val_fp: 6.0000 - val_fn: 27.0000 - val_precision: 0.6842 - val_recall: 0.3250 - val_acc: 0.8625 - val_auc: 0.7468\n",
      "Epoch 28/30\n",
      "65/65 [==============================] - 13s 200ms/step - loss: 0.4392 - tp: 8.2424 - tn: 543.3333 - fp: 13.7727 - fn: 104.3485 - precision: 0.3245 - recall: 0.0627 - acc: 0.8190 - auc: 0.6949 - val_loss: 0.3947 - val_tp: 5.0000 - val_tn: 201.0000 - val_fp: 8.0000 - val_fn: 26.0000 - val_precision: 0.3846 - val_recall: 0.1613 - val_acc: 0.8583 - val_auc: 0.6794\n",
      "Epoch 29/30\n",
      "65/65 [==============================] - 13s 198ms/step - loss: 0.4325 - tp: 7.5000 - tn: 543.6364 - fp: 15.6667 - fn: 102.8939 - precision: 0.2810 - recall: 0.0599 - acc: 0.8120 - auc: 0.6920 - val_loss: 0.3834 - val_tp: 11.0000 - val_tn: 193.0000 - val_fp: 9.0000 - val_fn: 27.0000 - val_precision: 0.5500 - val_recall: 0.2895 - val_acc: 0.8500 - val_auc: 0.7791\n",
      "Epoch 30/30\n",
      "65/65 [==============================] - 13s 200ms/step - loss: 0.4122 - tp: 10.3030 - tn: 543.8485 - fp: 7.1818 - fn: 108.3636 - precision: 0.5972 - recall: 0.1150 - acc: 0.8319 - auc: 0.7371 - val_loss: 0.4137 - val_tp: 8.0000 - val_tn: 187.0000 - val_fp: 11.0000 - val_fn: 34.0000 - val_precision: 0.4211 - val_recall: 0.1905 - val_acc: 0.8125 - val_auc: 0.7688\n"
     ]
    }
   ],
   "source": [
    "folder_train = 'data/train/'\n",
    "folder_validation = 'data/validation/'\n",
    "folder_test = 'data/test/'\n",
    "\n",
    "img_height = img_width = 28\n",
    "batch_size = 20\n",
    "\n",
    "##################\n",
    "\n",
    "from tensorflow.keras.preprocessing.image import ImageDataGenerator\n",
    "\n",
    "train_datagen = ImageDataGenerator(\n",
    "      rescale=1./255,\n",
    "      rotation_range=40,\n",
    "      width_shift_range=0.2,\n",
    "      height_shift_range=0.2,\n",
    "      shear_range=0.2,\n",
    "      zoom_range=0.2,\n",
    "      horizontal_flip=True,\n",
    "      fill_mode='nearest'\n",
    ")\n",
    "\n",
    "validation_datagen = ImageDataGenerator(rescale=1.0 / 255, dtype=tf.float32)\n",
    "test_datagen = ImageDataGenerator(rescale=1.0 / 255, dtype=tf.float32)\n",
    "\n",
    "##################\n",
    "\n",
    "train_gen = train_datagen.flow_from_directory(\n",
    "    folder_train,\n",
    "    target_size=(img_height, img_width),\n",
    "    batch_size=batch_size,\n",
    "    color_mode=\"rgb\",\n",
    "    class_mode=\"binary\",\n",
    "    shuffle=True,\n",
    "    seed=123,\n",
    ")\n",
    "\n",
    "validation_gen = validation_datagen.flow_from_directory(\n",
    "    folder_validation,\n",
    "    target_size=(img_height, img_width),\n",
    "    batch_size=batch_size,\n",
    "    color_mode=\"rgb\",\n",
    "    class_mode=\"binary\",\n",
    "    shuffle=True,\n",
    "    seed=123,\n",
    ")\n",
    "\n",
    "test_gen = test_datagen.flow_from_directory(\n",
    "    folder_test,\n",
    "    target_size=(img_height, img_width),\n",
    "    batch_size=batch_size,\n",
    "    color_mode=\"rgb\",\n",
    "    class_mode=\"binary\",\n",
    "    shuffle=True,\n",
    "    seed=123,\n",
    ")\n",
    "\n",
    "##################\n",
    "\n",
    "model = Sequential([\n",
    "    Conv2D(32, 3, activation='relu', input_shape=(img_height, img_width, 3)),\n",
    "    BatchNormalization(),\n",
    "    MaxPooling2D(),\n",
    "    Conv2D(64, 3, activation='relu'),\n",
    "    BatchNormalization(),\n",
    "    MaxPooling2D(),\n",
    "    Conv2D(128, 3, activation='relu'),\n",
    "    BatchNormalization(),\n",
    "    MaxPooling2D(),\n",
    "    Dropout(0.5),\n",
    "    Flatten(),\n",
    "    Dense(512, activation='relu'),\n",
    "    Dense(1, activation='sigmoid')\n",
    "])\n",
    "\n",
    "##################\n",
    "\n",
    "METRICS = [\n",
    "  TruePositives(name='tp'),\n",
    "  TrueNegatives(name='tn'),\n",
    "  FalsePositives(name='fp'),\n",
    "  FalseNegatives(name='fn'), \n",
    "  Precision(name='precision'),\n",
    "  Recall(name='recall'),\n",
    "  BinaryAccuracy(name='acc'),\n",
    "  AUC(name='auc'),\n",
    "]\n",
    "\n",
    "model.compile(\n",
    "    optimizer=Adam(),\n",
    "    loss=[BinaryCrossentropy(from_logits=True),],\n",
    "    metrics=METRICS,\n",
    ")\n",
    "\n",
    "history = model.fit(\n",
    "    train_gen,\n",
    "    epochs=30,\n",
    "    steps_per_epoch=num_of_files_train // batch_size,\n",
    "    validation_data=validation_gen,\n",
    "    validation_steps=num_of_files_validation // batch_size,\n",
    ")"
   ]
  },
  {
   "cell_type": "code",
   "execution_count": 35,
   "id": "opposed-repeat",
   "metadata": {},
   "outputs": [
    {
     "name": "stdout",
     "output_type": "stream",
     "text": [
      "128/128 [==============================] - 21s 160ms/step - loss: 0.4230 - tp: 78.0000 - tn: 2060.0000 - fp: 44.0000 - fn: 373.0000 - precision: 0.6393 - recall: 0.1729 - acc: 0.8368 - auc: 0.7220\n"
     ]
    },
    {
     "data": {
      "text/plain": [
       "83.64632237871675"
      ]
     },
     "execution_count": 35,
     "metadata": {},
     "output_type": "execute_result"
    }
   ],
   "source": [
    "folder_test = 'data/test/'\n",
    "result = model.evaluate(test_gen)\n",
    "        \n",
    "num_of_files_test = num_of_files(folder_test)\n",
    "((result[1]+result[2]) / num_of_files_test) * 100"
   ]
  },
  {
   "cell_type": "code",
   "execution_count": 32,
   "id": "protective-danger",
   "metadata": {},
   "outputs": [
    {
     "data": {
      "image/png": "[encoded data removed]",
      "text/plain": [
       "<Figure size 432x288 with 1 Axes>"
      ]
     },
     "metadata": {
      "needs_background": "light"
     },
     "output_type": "display_data"
    },
    {
     "data": {
      "image/png": "[encoded data removed]",
      "text/plain": [
       "<Figure size 432x288 with 1 Axes>"
      ]
     },
     "metadata": {
      "needs_background": "light"
     },
     "output_type": "display_data"
    }
   ],
   "source": [
    "import matplotlib.pyplot as plt\n",
    "acc = history.history['acc']\n",
    "val_acc = history.history['val_acc']\n",
    "loss = history.history['loss']\n",
    "val_loss = history.history['val_loss']\n",
    "\n",
    "epochs = range(len(acc))\n",
    "\n",
    "plt.plot(epochs, acc, 'bo', label='Training accuracy')\n",
    "plt.plot(epochs, val_acc, 'b', label='Validation accuracy')\n",
    "plt.title('Training and validation accuracy')\n",
    "\n",
    "plt.figure()\n",
    "\n",
    "plt.plot(epochs, loss, 'bo', label='Training Loss')\n",
    "plt.plot(epochs, val_loss, 'b', label='Validation Loss')\n",
    "plt.title('Training and validation loss')\n",
    "plt.legend()\n",
    "\n",
    "plt.show()"
   ]
  },
  {
   "cell_type": "code",
   "execution_count": null,
   "id": "incorporated-iceland",
   "metadata": {},
   "outputs": [],
   "source": [
    "# data_augmentation = Sequential(\n",
    "#     [\n",
    "#         Resizing(height=32, width=32,),\n",
    "#         RandomFlip(mode=\"horizontal_and_vertical\"),\n",
    "#         RandomRotation(0.2),\n",
    "#         RandomContrast(factor=0.1,),\n",
    "#     ]\n",
    "# )"
   ]
  },
  {
   "cell_type": "code",
   "execution_count": null,
   "id": "suited-tribute",
   "metadata": {},
   "outputs": [],
   "source": []
  }
 ],
 "metadata": {
  "kernelspec": {
   "display_name": "Python 3",
   "language": "python",
   "name": "python3"
  },
  "language_info": {
   "codemirror_mode": {
    "name": "ipython",
    "version": 3
   },
   "file_extension": ".py",
   "mimetype": "text/x-python",
   "name": "python",
   "nbconvert_exporter": "python",
   "pygments_lexer": "ipython3",
   "version": "3.8.6"
  }
 },
 "nbformat": 4,
 "nbformat_minor": 5
}

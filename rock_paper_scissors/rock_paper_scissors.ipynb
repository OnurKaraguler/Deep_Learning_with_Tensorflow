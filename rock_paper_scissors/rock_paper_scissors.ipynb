{
 "cells": [
  {
   "cell_type": "markdown",
   "id": "defensive-explosion",
   "metadata": {},
   "source": [
    "https://www.youtube.com/watch?v=44U8jJxaNp8\n",
    "\n",
    "https://keras-team.github.io/keras-tuner/"
   ]
  },
  {
   "cell_type": "markdown",
   "id": "impressed-bicycle",
   "metadata": {},
   "source": [
    "## import necessary libraries"
   ]
  },
  {
   "cell_type": "code",
   "execution_count": 1,
   "id": "minute-istanbul",
   "metadata": {},
   "outputs": [
    {
     "name": "stdout",
     "output_type": "stream",
     "text": [
      "WARNING:tensorflow:Eager mode uses the CPU. Switching to the CPU.\n"
     ]
    }
   ],
   "source": [
    "from tensorflow.python.compiler.mlcompute import mlcompute\n",
    "mlcompute.set_mlc_device(device_name='gpu')"
   ]
  },
  {
   "cell_type": "code",
   "execution_count": 2,
   "id": "finished-biotechnology",
   "metadata": {},
   "outputs": [],
   "source": [
    "import os\n",
    "os.environ['TFF_CPP_MIN_LOG_LEVEL'] = '2'    # ignore information messages\n",
    "\n",
    "import tensorflow as tf\n",
    "from tensorflow.keras import Sequential, Input, Model, callbacks\n",
    "from tensorflow.keras.layers import Dense, Conv2D, MaxPooling2D, Flatten, BatchNormalization, Dropout\n",
    "from tensorflow.keras.losses import SparseCategoricalCrossentropy, BinaryCrossentropy\n",
    "from tensorflow.keras.optimizers import Adam\n",
    "from tensorflow.keras.activations import relu\n",
    "from tensorflow.keras.models import load_model\n",
    "from tensorflow.keras.metrics import (SparseCategoricalAccuracy, Precision, Recall, AUC, \n",
    "                                      FalsePositives, FalseNegatives, TruePositives, TrueNegatives)\n",
    "\n",
    "import tensorflow_hub as hub\n",
    "from tensorflow.keras.preprocessing.image import ImageDataGenerator\n",
    "\n",
    "import cv2\n",
    "import numpy as np\n",
    "import matplotlib.pyplot as plt"
   ]
  },
  {
   "cell_type": "code",
   "execution_count": 3,
   "id": "auburn-delay",
   "metadata": {},
   "outputs": [],
   "source": [
    "import tensorflow_datasets as tfds\n",
    "# tfds.disable.progress_bar()"
   ]
  },
  {
   "cell_type": "markdown",
   "id": "regulated-latex",
   "metadata": {},
   "source": [
    "## find datasets"
   ]
  },
  {
   "cell_type": "code",
   "execution_count": null,
   "id": "limiting-invasion",
   "metadata": {},
   "outputs": [],
   "source": [
    "tfds.list_builders()"
   ]
  },
  {
   "cell_type": "markdown",
   "id": "competent-investigation",
   "metadata": {},
   "source": [
    "## get information on the data"
   ]
  },
  {
   "cell_type": "code",
   "execution_count": null,
   "id": "substantial-praise",
   "metadata": {
    "scrolled": true
   },
   "outputs": [],
   "source": [
    "builder = tfds.builder('rock_paper_scissors')\n",
    "\n",
    "info = builder.info\n",
    "info"
   ]
  },
  {
   "cell_type": "markdown",
   "id": "metallic-photograph",
   "metadata": {},
   "source": [
    "## prepare rock, paper, scissors data"
   ]
  },
  {
   "cell_type": "code",
   "execution_count": 4,
   "id": "aerial-intranet",
   "metadata": {},
   "outputs": [],
   "source": [
    "ds_train = tfds.load(name='rock_paper_scissors', split='train')\n",
    "ds_test = tfds.load(name='rock_paper_scissors', split='test')"
   ]
  },
  {
   "cell_type": "code",
   "execution_count": 5,
   "id": "surface-proposition",
   "metadata": {
    "scrolled": true
   },
   "outputs": [
    {
     "data": {
      "text/plain": [
       "<PrefetchDataset shapes: {image: (300, 300, 3), label: ()}, types: {image: tf.uint8, label: tf.int64}>"
      ]
     },
     "execution_count": 5,
     "metadata": {},
     "output_type": "execute_result"
    }
   ],
   "source": [
    "ds_train"
   ]
  },
  {
   "cell_type": "markdown",
   "id": "demanding-thesaurus",
   "metadata": {},
   "source": [
    "## show examples"
   ]
  },
  {
   "cell_type": "code",
   "execution_count": null,
   "id": "thrown-sensitivity",
   "metadata": {
    "scrolled": true
   },
   "outputs": [],
   "source": [
    "fig = tfds.show_examples(ds_train, info)"
   ]
  },
  {
   "cell_type": "markdown",
   "id": "laden-flooring",
   "metadata": {},
   "source": [
    "## additional data prep"
   ]
  },
  {
   "cell_type": "code",
   "execution_count": 6,
   "id": "negative-detail",
   "metadata": {},
   "outputs": [
    {
     "data": {
      "text/plain": [
       "tensorflow.python.framework.ops.EagerTensor"
      ]
     },
     "execution_count": 6,
     "metadata": {},
     "output_type": "execute_result"
    }
   ],
   "source": [
    "train_images = [example['image'] for example in ds_train]\n",
    "type(train_images[0])"
   ]
  },
  {
   "cell_type": "code",
   "execution_count": 7,
   "id": "adverse-priest",
   "metadata": {},
   "outputs": [
    {
     "data": {
      "text/plain": [
       "numpy.ndarray"
      ]
     },
     "execution_count": 7,
     "metadata": {},
     "output_type": "execute_result"
    }
   ],
   "source": [
    "train_images = np.array([example['image'].numpy() for example in ds_train])\n",
    "type(train_images[0])"
   ]
  },
  {
   "cell_type": "code",
   "execution_count": 8,
   "id": "military-walter",
   "metadata": {},
   "outputs": [
    {
     "data": {
      "text/plain": [
       "(2520, 300, 300, 3)"
      ]
     },
     "execution_count": 8,
     "metadata": {},
     "output_type": "execute_result"
    }
   ],
   "source": [
    "train_images.shape"
   ]
  },
  {
   "cell_type": "code",
   "execution_count": 9,
   "id": "ranking-company",
   "metadata": {},
   "outputs": [
    {
     "name": "stdout",
     "output_type": "stream",
     "text": [
      "(2520, 300, 300)\n",
      "(2520,)\n",
      "(372, 300, 300)\n",
      "(372,)\n"
     ]
    }
   ],
   "source": [
    "train_images = np.array([example['image'].numpy()[:, :, 0] for example in ds_train])\n",
    "train_labels = np.array([example['label'].numpy() for example in ds_train])\n",
    "\n",
    "test_images = np.array([example['image'].numpy()[:, :, 0] for example in ds_test])\n",
    "test_labels = np.array([example['label'].numpy() for example in ds_test])\n",
    "\n",
    "print(train_images.shape)\n",
    "print(train_labels.shape)\n",
    "print(test_images.shape)\n",
    "print(test_labels.shape)"
   ]
  },
  {
   "cell_type": "code",
   "execution_count": 10,
   "id": "recovered-fruit",
   "metadata": {},
   "outputs": [],
   "source": [
    "img_height = img_width = 28\n",
    "def resize_images(img):\n",
    "    img = cv2.resize(img, (img_height, img_width))\n",
    "#     img = cv2.cvtColor(img, cv2.COLOR_BGR2GRAY)    # to read images grayscale\n",
    "    img = np.reshape(img, (img_height, img_width, 1))\n",
    "    return img"
   ]
  },
  {
   "cell_type": "code",
   "execution_count": 11,
   "id": "english-virginia",
   "metadata": {},
   "outputs": [
    {
     "name": "stdout",
     "output_type": "stream",
     "text": [
      "(2520, 28, 28, 1)\n",
      "(372, 28, 28, 1)\n"
     ]
    }
   ],
   "source": [
    "train_images = np.array([resize_images(img) for img in train_images])\n",
    "test_images = np.array([resize_images(img) for img in test_images])\n",
    "\n",
    "print(train_images.shape)\n",
    "print(test_images.shape)"
   ]
  },
  {
   "cell_type": "markdown",
   "id": "streaming-inspector",
   "metadata": {},
   "source": [
    "(2520, 300, 300, 1) -> add 1 to keras for gray scale"
   ]
  },
  {
   "cell_type": "code",
   "execution_count": 12,
   "id": "thick-hawaiian",
   "metadata": {},
   "outputs": [
    {
     "data": {
      "image/png": "[encoded data removed]",
      "text/plain": [
       "<Figure size 432x288 with 9 Axes>"
      ]
     },
     "metadata": {
      "needs_background": "light"
     },
     "output_type": "display_data"
    }
   ],
   "source": [
    "import matplotlib.pyplot as plt\n",
    "from keras.preprocessing.image import img_to_array\n",
    "from keras.preprocessing.image import array_to_img\n",
    "\n",
    "for i in range(0, 9):\n",
    "    plt.subplot(330 + 1 + i)\n",
    "    plt.imshow(array_to_img(train_images[i]))\n",
    "plt.show()"
   ]
  },
  {
   "cell_type": "code",
   "execution_count": 13,
   "id": "printable-spouse",
   "metadata": {},
   "outputs": [],
   "source": [
    "# scaling every value between 0-1\n",
    "train_images = train_images.astype('float32') / 255\n",
    "test_images = test_images.astype('float32') / 255"
   ]
  },
  {
   "cell_type": "code",
   "execution_count": 14,
   "id": "continued-trigger",
   "metadata": {},
   "outputs": [
    {
     "data": {
      "text/plain": [
       "(28, 28, 1)"
      ]
     },
     "execution_count": 14,
     "metadata": {},
     "output_type": "execute_result"
    }
   ],
   "source": [
    "train_images[0].shape"
   ]
  },
  {
   "cell_type": "markdown",
   "id": "funky-accent",
   "metadata": {},
   "source": [
    "## train a network (basic approach)"
   ]
  },
  {
   "cell_type": "code",
   "execution_count": 18,
   "id": "cooperative-eligibility",
   "metadata": {},
   "outputs": [],
   "source": [
    "model = Sequential([\n",
    "    Flatten(),\n",
    "    Dense(521, activation='relu'),\n",
    "    Dense(256, activation='relu'),\n",
    "    Dense(3, activation='softmax')\n",
    "])\n",
    "\n",
    "model.compile(optimizer='adam',\n",
    "             loss=SparseCategoricalCrossentropy(),\n",
    "             metrics=['accuracy'])"
   ]
  },
  {
   "cell_type": "code",
   "execution_count": 19,
   "id": "quiet-silly",
   "metadata": {
    "scrolled": true
   },
   "outputs": [
    {
     "name": "stdout",
     "output_type": "stream",
     "text": [
      "Epoch 1/10\n",
      "79/79 [==============================] - 1s 8ms/step - loss: 1.2714 - accuracy: 0.4328 - val_loss: 1.0929 - val_accuracy: 0.4409\n",
      "Epoch 2/10\n",
      "79/79 [==============================] - 0s 5ms/step - loss: 0.7745 - accuracy: 0.6615 - val_loss: 1.1156 - val_accuracy: 0.4624\n",
      "Epoch 3/10\n",
      "79/79 [==============================] - 1s 6ms/step - loss: 0.5065 - accuracy: 0.8265 - val_loss: 0.9887 - val_accuracy: 0.5941\n",
      "Epoch 4/10\n",
      "79/79 [==============================] - 1s 7ms/step - loss: 0.4063 - accuracy: 0.8556 - val_loss: 1.2909 - val_accuracy: 0.4651\n",
      "Epoch 5/10\n",
      "79/79 [==============================] - 1s 6ms/step - loss: 0.2539 - accuracy: 0.9277 - val_loss: 1.2702 - val_accuracy: 0.5887\n",
      "Epoch 6/10\n",
      "79/79 [==============================] - 1s 7ms/step - loss: 0.1712 - accuracy: 0.9481 - val_loss: 1.4021 - val_accuracy: 0.6398\n",
      "Epoch 7/10\n",
      "79/79 [==============================] - 1s 7ms/step - loss: 0.1587 - accuracy: 0.9501 - val_loss: 2.0811 - val_accuracy: 0.4704\n",
      "Epoch 8/10\n",
      "79/79 [==============================] - 0s 5ms/step - loss: 0.1275 - accuracy: 0.9633 - val_loss: 2.2255 - val_accuracy: 0.5054\n",
      "Epoch 9/10\n",
      "79/79 [==============================] - 1s 7ms/step - loss: 0.2640 - accuracy: 0.8898 - val_loss: 1.7732 - val_accuracy: 0.5699\n",
      "Epoch 10/10\n",
      "79/79 [==============================] - 1s 7ms/step - loss: 0.0714 - accuracy: 0.9840 - val_loss: 2.1327 - val_accuracy: 0.4677\n"
     ]
    }
   ],
   "source": [
    "history = model.fit(train_images, train_labels, validation_data=(test_images, test_labels), epochs=10, \n",
    "                    batch_size=32)"
   ]
  },
  {
   "cell_type": "code",
   "execution_count": 22,
   "id": "difficult-april",
   "metadata": {},
   "outputs": [
    {
     "data": {
      "image/png": "[encoded data removed]",
      "text/plain": [
       "<Figure size 432x288 with 1 Axes>"
      ]
     },
     "metadata": {
      "needs_background": "light"
     },
     "output_type": "display_data"
    },
    {
     "data": {
      "image/png": "[encoded data removed]",
      "text/plain": [
       "<Figure size 432x288 with 1 Axes>"
      ]
     },
     "metadata": {
      "needs_background": "light"
     },
     "output_type": "display_data"
    }
   ],
   "source": [
    "import matplotlib.pyplot as plt\n",
    "acc = history.history['accuracy']\n",
    "val_acc = history.history['val_accuracy']\n",
    "loss = history.history['loss']\n",
    "val_loss = history.history['val_loss']\n",
    "\n",
    "epochs = range(len(acc))\n",
    "\n",
    "plt.plot(epochs, acc, 'bo', label='Training accuracy')\n",
    "plt.plot(epochs, val_acc, 'b', label='Validation accuracy')\n",
    "plt.title('Training and validation accuracy')\n",
    "\n",
    "plt.figure()\n",
    "\n",
    "plt.plot(epochs, loss, 'bo', label='Training Loss')\n",
    "plt.plot(epochs, val_loss, 'b', label='Validation Loss')\n",
    "plt.title('Training and validation loss')\n",
    "plt.legend()\n",
    "\n",
    "plt.show()"
   ]
  },
  {
   "cell_type": "markdown",
   "id": "closed-laser",
   "metadata": {},
   "source": [
    "Basically we are overfitting to our training data."
   ]
  },
  {
   "cell_type": "markdown",
   "id": "continuing-briefing",
   "metadata": {},
   "source": [
    "## train a network (convolutional approach)"
   ]
  },
  {
   "cell_type": "code",
   "execution_count": 23,
   "id": "posted-draft",
   "metadata": {},
   "outputs": [],
   "source": [
    "inputs = Input(shape=(28, 28, 1))\n",
    "x = Conv2D(32, 3)(inputs)\n",
    "x = BatchNormalization()(x)\n",
    "x = relu(x)\n",
    "x = MaxPooling2D()(x)\n",
    "x = Conv2D(64, 3)(x)\n",
    "x = BatchNormalization()(x)\n",
    "x = relu(x)\n",
    "x = MaxPooling2D()(x)\n",
    "x = Conv2D(128, 3)(x)\n",
    "x = BatchNormalization()(x)\n",
    "x = relu(x)\n",
    "x = Flatten()(x)\n",
    "x = Dense(64, activation=\"relu\")(x)\n",
    "outputs = Dense(3, activation=\"sigmoid\")(x)\n",
    "model = Model(inputs=inputs, outputs=outputs)"
   ]
  },
  {
   "cell_type": "code",
   "execution_count": 24,
   "id": "ideal-communist",
   "metadata": {},
   "outputs": [],
   "source": [
    "model.compile(optimizer='adam',\n",
    "             loss=SparseCategoricalCrossentropy(),\n",
    "             metrics=['accuracy'])"
   ]
  },
  {
   "cell_type": "code",
   "execution_count": 25,
   "id": "impossible-victoria",
   "metadata": {
    "scrolled": true
   },
   "outputs": [
    {
     "name": "stdout",
     "output_type": "stream",
     "text": [
      "Epoch 1/30\n",
      "158/158 [==============================] - 1s 6ms/step - loss: 0.3600 - accuracy: 0.8693 - val_loss: 1.1171 - val_accuracy: 0.4247\n",
      "Epoch 2/30\n",
      "158/158 [==============================] - 1s 5ms/step - loss: 0.0027 - accuracy: 0.9997 - val_loss: 1.0470 - val_accuracy: 0.5215\n",
      "Epoch 3/30\n",
      "158/158 [==============================] - 1s 6ms/step - loss: 4.8547e-04 - accuracy: 1.0000 - val_loss: 1.0210 - val_accuracy: 0.6694\n",
      "Epoch 4/30\n",
      "158/158 [==============================] - 1s 6ms/step - loss: 2.1456e-04 - accuracy: 1.0000 - val_loss: 0.8551 - val_accuracy: 0.6882\n",
      "Epoch 5/30\n",
      "158/158 [==============================] - 1s 6ms/step - loss: 1.3441e-04 - accuracy: 1.0000 - val_loss: 0.7738 - val_accuracy: 0.6801\n",
      "Epoch 6/30\n",
      "158/158 [==============================] - 1s 6ms/step - loss: 9.1989e-05 - accuracy: 1.0000 - val_loss: 0.7492 - val_accuracy: 0.6909\n",
      "Epoch 7/30\n",
      "158/158 [==============================] - 1s 6ms/step - loss: 6.3143e-05 - accuracy: 1.0000 - val_loss: 0.7445 - val_accuracy: 0.6935\n",
      "Epoch 8/30\n",
      "158/158 [==============================] - 1s 6ms/step - loss: 5.4088e-05 - accuracy: 1.0000 - val_loss: 0.7386 - val_accuracy: 0.7043\n",
      "Epoch 9/30\n",
      "158/158 [==============================] - 1s 6ms/step - loss: 4.6098e-05 - accuracy: 1.0000 - val_loss: 0.7691 - val_accuracy: 0.6962\n",
      "Epoch 10/30\n",
      "158/158 [==============================] - 1s 5ms/step - loss: 3.3366e-05 - accuracy: 1.0000 - val_loss: 0.7461 - val_accuracy: 0.7339\n",
      "Epoch 11/30\n",
      "158/158 [==============================] - 1s 6ms/step - loss: 4.7139e-05 - accuracy: 1.0000 - val_loss: 0.8051 - val_accuracy: 0.6935\n",
      "Epoch 12/30\n",
      "158/158 [==============================] - 1s 5ms/step - loss: 2.1983e-05 - accuracy: 1.0000 - val_loss: 0.8065 - val_accuracy: 0.7016\n",
      "Epoch 13/30\n",
      "158/158 [==============================] - 1s 6ms/step - loss: 2.2087e-05 - accuracy: 1.0000 - val_loss: 0.7819 - val_accuracy: 0.7124\n",
      "Epoch 14/30\n",
      "158/158 [==============================] - 1s 6ms/step - loss: 1.6912e-05 - accuracy: 1.0000 - val_loss: 0.7893 - val_accuracy: 0.7097\n",
      "Epoch 15/30\n",
      "158/158 [==============================] - 1s 6ms/step - loss: 1.4034e-05 - accuracy: 1.0000 - val_loss: 0.8078 - val_accuracy: 0.7097\n",
      "Epoch 16/30\n",
      "158/158 [==============================] - 1s 6ms/step - loss: 1.5571e-05 - accuracy: 1.0000 - val_loss: 0.8034 - val_accuracy: 0.7070\n",
      "Epoch 17/30\n",
      "158/158 [==============================] - 1s 6ms/step - loss: 1.3508e-05 - accuracy: 1.0000 - val_loss: 0.8230 - val_accuracy: 0.7097\n",
      "Epoch 18/30\n",
      "158/158 [==============================] - 1s 6ms/step - loss: 1.3774e-05 - accuracy: 1.0000 - val_loss: 0.8084 - val_accuracy: 0.7231\n",
      "Epoch 19/30\n",
      "158/158 [==============================] - 1s 6ms/step - loss: 7.5817e-06 - accuracy: 1.0000 - val_loss: 0.8107 - val_accuracy: 0.7124\n",
      "Epoch 20/30\n",
      "158/158 [==============================] - 1s 6ms/step - loss: 8.6450e-06 - accuracy: 1.0000 - val_loss: 0.8290 - val_accuracy: 0.7097\n",
      "Epoch 21/30\n",
      "158/158 [==============================] - 1s 6ms/step - loss: 7.0861e-06 - accuracy: 1.0000 - val_loss: 0.7924 - val_accuracy: 0.7339\n",
      "Epoch 22/30\n",
      "158/158 [==============================] - 1s 6ms/step - loss: 6.6716e-06 - accuracy: 1.0000 - val_loss: 0.8460 - val_accuracy: 0.7312\n",
      "Epoch 23/30\n",
      "158/158 [==============================] - 1s 6ms/step - loss: 6.1967e-06 - accuracy: 1.0000 - val_loss: 0.8473 - val_accuracy: 0.7231\n",
      "Epoch 24/30\n",
      "158/158 [==============================] - 1s 6ms/step - loss: 5.7219e-06 - accuracy: 1.0000 - val_loss: 0.8849 - val_accuracy: 0.7204\n",
      "Epoch 25/30\n",
      "158/158 [==============================] - 1s 6ms/step - loss: 4.8880e-06 - accuracy: 1.0000 - val_loss: 0.8813 - val_accuracy: 0.7016\n",
      "Epoch 26/30\n",
      "158/158 [==============================] - 1s 6ms/step - loss: 3.8036e-06 - accuracy: 1.0000 - val_loss: 0.8708 - val_accuracy: 0.7097\n",
      "Epoch 27/30\n",
      "158/158 [==============================] - 1s 6ms/step - loss: 2.8563e-06 - accuracy: 1.0000 - val_loss: 0.8807 - val_accuracy: 0.7070\n",
      "Epoch 28/30\n",
      "158/158 [==============================] - 1s 6ms/step - loss: 2.7982e-06 - accuracy: 1.0000 - val_loss: 0.8943 - val_accuracy: 0.7070\n",
      "Epoch 29/30\n",
      "158/158 [==============================] - 1s 6ms/step - loss: 3.6582e-06 - accuracy: 1.0000 - val_loss: 0.9226 - val_accuracy: 0.7070\n",
      "Epoch 30/30\n",
      "158/158 [==============================] - 1s 5ms/step - loss: 3.0255e-06 - accuracy: 1.0000 - val_loss: 0.9276 - val_accuracy: 0.7043\n"
     ]
    }
   ],
   "source": [
    "history = model.fit(train_images, train_labels, validation_data=(test_images, test_labels), epochs=30, \n",
    "                    batch_size=16)"
   ]
  },
  {
   "cell_type": "code",
   "execution_count": 26,
   "id": "oriental-amendment",
   "metadata": {},
   "outputs": [
    {
     "data": {
      "image/png": "[encoded data removed]",
      "text/plain": [
       "<Figure size 432x288 with 1 Axes>"
      ]
     },
     "metadata": {
      "needs_background": "light"
     },
     "output_type": "display_data"
    },
    {
     "data": {
      "image/png": "[encoded data removed]",
      "text/plain": [
       "<Figure size 432x288 with 1 Axes>"
      ]
     },
     "metadata": {
      "needs_background": "light"
     },
     "output_type": "display_data"
    }
   ],
   "source": [
    "import matplotlib.pyplot as plt\n",
    "acc = history.history['accuracy']\n",
    "val_acc = history.history['val_accuracy']\n",
    "loss = history.history['loss']\n",
    "val_loss = history.history['val_loss']\n",
    "\n",
    "epochs = range(len(acc))\n",
    "\n",
    "plt.plot(epochs, acc, 'bo', label='Training accuracy')\n",
    "plt.plot(epochs, val_acc, 'b', label='Validation accuracy')\n",
    "plt.title('Training and validation accuracy')\n",
    "\n",
    "plt.figure()\n",
    "\n",
    "plt.plot(epochs, loss, 'bo', label='Training Loss')\n",
    "plt.plot(epochs, val_loss, 'b', label='Validation Loss')\n",
    "plt.title('Training and validation loss')\n",
    "plt.legend()\n",
    "\n",
    "plt.show()"
   ]
  },
  {
   "cell_type": "code",
   "execution_count": 27,
   "id": "found-seating",
   "metadata": {
    "scrolled": true
   },
   "outputs": [
    {
     "name": "stdout",
     "output_type": "stream",
     "text": [
      "Epoch 1/30\n",
      "158/158 [==============================] - 1s 5ms/step - loss: 1.1156 - accuracy: 0.5593 - val_loss: 2.7977 - val_accuracy: 0.3333\n",
      "Epoch 2/30\n",
      "158/158 [==============================] - 1s 5ms/step - loss: 0.5128 - accuracy: 0.7849 - val_loss: 3.0577 - val_accuracy: 0.3333\n",
      "Epoch 3/30\n",
      "158/158 [==============================] - 1s 6ms/step - loss: 0.2711 - accuracy: 0.9045 - val_loss: 1.2282 - val_accuracy: 0.5215\n",
      "Epoch 4/30\n",
      "158/158 [==============================] - 1s 6ms/step - loss: 0.1957 - accuracy: 0.9325 - val_loss: 0.9569 - val_accuracy: 0.7097\n",
      "Epoch 5/30\n",
      "158/158 [==============================] - 1s 6ms/step - loss: 0.1397 - accuracy: 0.9497 - val_loss: 0.2581 - val_accuracy: 0.8898\n",
      "Epoch 6/30\n",
      "158/158 [==============================] - 1s 6ms/step - loss: 0.1117 - accuracy: 0.9623 - val_loss: 0.4983 - val_accuracy: 0.8226\n",
      "Epoch 7/30\n",
      "158/158 [==============================] - 1s 6ms/step - loss: 0.0995 - accuracy: 0.9628 - val_loss: 0.3415 - val_accuracy: 0.8629\n",
      "Epoch 8/30\n",
      "158/158 [==============================] - 1s 6ms/step - loss: 0.0633 - accuracy: 0.9802 - val_loss: 0.3284 - val_accuracy: 0.8629\n",
      "Epoch 9/30\n",
      "158/158 [==============================] - 1s 6ms/step - loss: 0.0709 - accuracy: 0.9743 - val_loss: 1.0848 - val_accuracy: 0.7473\n",
      "Epoch 10/30\n",
      "158/158 [==============================] - 1s 6ms/step - loss: 0.0724 - accuracy: 0.9804 - val_loss: 0.4548 - val_accuracy: 0.7876\n",
      "Epoch 11/30\n",
      "158/158 [==============================] - 1s 6ms/step - loss: 0.0563 - accuracy: 0.9830 - val_loss: 1.1267 - val_accuracy: 0.7419\n",
      "Epoch 12/30\n",
      "158/158 [==============================] - 1s 6ms/step - loss: 0.0818 - accuracy: 0.9711 - val_loss: 1.8044 - val_accuracy: 0.5726\n",
      "Epoch 13/30\n",
      "158/158 [==============================] - 1s 6ms/step - loss: 0.0432 - accuracy: 0.9865 - val_loss: 0.6740 - val_accuracy: 0.7608\n",
      "Epoch 14/30\n",
      "158/158 [==============================] - 1s 6ms/step - loss: 0.0405 - accuracy: 0.9835 - val_loss: 0.5058 - val_accuracy: 0.8118\n",
      "Epoch 15/30\n",
      "158/158 [==============================] - 1s 6ms/step - loss: 0.0399 - accuracy: 0.9880 - val_loss: 1.3187 - val_accuracy: 0.5887\n",
      "Epoch 16/30\n",
      "158/158 [==============================] - 1s 6ms/step - loss: 0.0327 - accuracy: 0.9900 - val_loss: 0.4265 - val_accuracy: 0.8199\n",
      "Epoch 17/30\n",
      "158/158 [==============================] - 1s 6ms/step - loss: 0.0248 - accuracy: 0.9919 - val_loss: 1.1432 - val_accuracy: 0.6398\n",
      "Epoch 18/30\n",
      "158/158 [==============================] - 1s 6ms/step - loss: 0.0269 - accuracy: 0.9904 - val_loss: 0.4785 - val_accuracy: 0.8172\n",
      "Epoch 19/30\n",
      "158/158 [==============================] - 1s 6ms/step - loss: 0.0314 - accuracy: 0.9911 - val_loss: 0.2178 - val_accuracy: 0.9194\n",
      "Epoch 20/30\n",
      "158/158 [==============================] - 1s 6ms/step - loss: 0.0246 - accuracy: 0.9904 - val_loss: 0.6695 - val_accuracy: 0.7419\n",
      "Epoch 21/30\n",
      "158/158 [==============================] - 1s 6ms/step - loss: 0.0250 - accuracy: 0.9905 - val_loss: 0.4138 - val_accuracy: 0.8656\n",
      "Epoch 22/30\n",
      "158/158 [==============================] - 1s 6ms/step - loss: 0.0251 - accuracy: 0.9901 - val_loss: 1.9965 - val_accuracy: 0.6909\n",
      "Epoch 23/30\n",
      "158/158 [==============================] - 1s 6ms/step - loss: 0.0395 - accuracy: 0.9852 - val_loss: 0.5425 - val_accuracy: 0.7876\n",
      "Epoch 24/30\n",
      "158/158 [==============================] - 1s 6ms/step - loss: 0.0244 - accuracy: 0.9947 - val_loss: 1.5555 - val_accuracy: 0.7097\n",
      "Epoch 25/30\n",
      "158/158 [==============================] - 1s 6ms/step - loss: 0.0196 - accuracy: 0.9931 - val_loss: 0.4770 - val_accuracy: 0.7849\n",
      "Epoch 26/30\n",
      "158/158 [==============================] - 1s 6ms/step - loss: 0.0203 - accuracy: 0.9941 - val_loss: 0.1596 - val_accuracy: 0.9274\n",
      "Epoch 27/30\n",
      "158/158 [==============================] - 1s 6ms/step - loss: 0.0240 - accuracy: 0.9909 - val_loss: 1.0927 - val_accuracy: 0.7500\n",
      "Epoch 28/30\n",
      "158/158 [==============================] - 1s 6ms/step - loss: 0.0152 - accuracy: 0.9956 - val_loss: 0.4372 - val_accuracy: 0.8495\n",
      "Epoch 29/30\n",
      "158/158 [==============================] - 1s 6ms/step - loss: 0.0210 - accuracy: 0.9927 - val_loss: 0.5815 - val_accuracy: 0.7796\n",
      "Epoch 30/30\n",
      "158/158 [==============================] - 1s 6ms/step - loss: 0.0197 - accuracy: 0.9932 - val_loss: 1.3411 - val_accuracy: 0.7581\n"
     ]
    }
   ],
   "source": [
    "model = Sequential([\n",
    "    Conv2D(32, 3, activation='relu', input_shape=(28, 28, 1)),\n",
    "    BatchNormalization(),\n",
    "    MaxPooling2D(),\n",
    "    Dropout(0.5),\n",
    "    Conv2D(64, 3, activation='relu'),\n",
    "    BatchNormalization(),\n",
    "    MaxPooling2D(),\n",
    "    Dropout(0.5),\n",
    "    Conv2D(128, 3, activation='relu'),\n",
    "    BatchNormalization(),\n",
    "    MaxPooling2D(),\n",
    "    Dropout(0.5),\n",
    "    Flatten(),\n",
    "    Dense(64, activation='relu'),\n",
    "    Dense(3, activation='sigmoid')\n",
    "])\n",
    "\n",
    "##################\n",
    "\n",
    "model.compile(optimizer='adam',\n",
    "             loss=SparseCategoricalCrossentropy(),\n",
    "             metrics=['accuracy'])\n",
    "\n",
    "##################\n",
    "\n",
    "history = model.fit(train_images, train_labels, validation_data=(test_images, test_labels), epochs=30, \n",
    "                    batch_size=16)"
   ]
  },
  {
   "cell_type": "code",
   "execution_count": 28,
   "id": "invalid-scenario",
   "metadata": {},
   "outputs": [
    {
     "data": {
      "image/png": "[encoded data removed]",
      "text/plain": [
       "<Figure size 432x288 with 1 Axes>"
      ]
     },
     "metadata": {
      "needs_background": "light"
     },
     "output_type": "display_data"
    },
    {
     "data": {
      "image/png": "[encoded data removed]",
      "text/plain": [
       "<Figure size 432x288 with 1 Axes>"
      ]
     },
     "metadata": {
      "needs_background": "light"
     },
     "output_type": "display_data"
    }
   ],
   "source": [
    "import matplotlib.pyplot as plt\n",
    "acc = history.history['accuracy']\n",
    "val_acc = history.history['val_accuracy']\n",
    "loss = history.history['loss']\n",
    "val_loss = history.history['val_loss']\n",
    "\n",
    "epochs = range(len(acc))\n",
    "\n",
    "plt.plot(epochs, acc, 'bo', label='Training accuracy')\n",
    "plt.plot(epochs, val_acc, 'b', label='Validation accuracy')\n",
    "plt.title('Training and validation accuracy')\n",
    "\n",
    "plt.figure()\n",
    "\n",
    "plt.plot(epochs, loss, 'bo', label='Training Loss')\n",
    "plt.plot(epochs, val_loss, 'b', label='Validation Loss')\n",
    "plt.title('Training and validation loss')\n",
    "plt.legend()\n",
    "\n",
    "plt.show()"
   ]
  },
  {
   "cell_type": "markdown",
   "id": "solar-valuation",
   "metadata": {},
   "source": [
    "## save and load the model"
   ]
  },
  {
   "cell_type": "code",
   "execution_count": 30,
   "id": "hired-drinking",
   "metadata": {
    "scrolled": true
   },
   "outputs": [
    {
     "name": "stderr",
     "output_type": "stream",
     "text": [
      "/Users/onurkaraguler/miniforge3/envs/ml/lib/python3.8/site-packages/tensorflow/python/keras/engine/training.py:2325: UserWarning: `Model.state_updates` will be removed in a future version. This property should not be used in TensorFlow 2.0, as `updates` are applied automatically.\n",
      "  warnings.warn('`Model.state_updates` will be removed in a future version. '\n",
      "/Users/onurkaraguler/miniforge3/envs/ml/lib/python3.8/site-packages/tensorflow/python/keras/engine/base_layer.py:1397: UserWarning: `layer.updates` will be removed in a future version. This property should not be used in TensorFlow 2.0, as `updates` are applied automatically.\n",
      "  warnings.warn('`layer.updates` will be removed in a future version. '\n"
     ]
    },
    {
     "name": "stdout",
     "output_type": "stream",
     "text": [
      "WARNING:tensorflow:FOR KERAS USERS: The object that you are saving contains one or more Keras models or layers. If you are loading the SavedModel with `tf.keras.models.load_model`, continue reading (otherwise, you may ignore the following instructions). Please change your code to save with `tf.keras.models.save_model` or `model.save`, and confirm that the file \"keras.metadata\" exists in the export directory. In the future, Keras will only load the SavedModels that have this file. In other words, `tf.saved_model.save` will no longer write SavedModels that can be recovered as Keras models (this will apply in TF 2.5).\n",
      "\n",
      "FOR DEVS: If you are overwriting _tracking_metadata in your class, this property has been used to save metadata in the SavedModel. The metadta field will be deprecated soon, so please move the metadata to a different file.\n"
     ]
    },
    {
     "name": "stderr",
     "output_type": "stream",
     "text": [
      "WARNING:tensorflow:FOR KERAS USERS: The object that you are saving contains one or more Keras models or layers. If you are loading the SavedModel with `tf.keras.models.load_model`, continue reading (otherwise, you may ignore the following instructions). Please change your code to save with `tf.keras.models.save_model` or `model.save`, and confirm that the file \"keras.metadata\" exists in the export directory. In the future, Keras will only load the SavedModels that have this file. In other words, `tf.saved_model.save` will no longer write SavedModels that can be recovered as Keras models (this will apply in TF 2.5).\n",
      "\n",
      "FOR DEVS: If you are overwriting _tracking_metadata in your class, this property has been used to save metadata in the SavedModel. The metadta field will be deprecated soon, so please move the metadata to a different file.\n"
     ]
    },
    {
     "name": "stdout",
     "output_type": "stream",
     "text": [
      "INFO:tensorflow:Assets written to: rock_paper_scissors_saved.model/assets\n"
     ]
    },
    {
     "name": "stderr",
     "output_type": "stream",
     "text": [
      "INFO:tensorflow:Assets written to: rock_paper_scissors_saved.model/assets\n"
     ]
    }
   ],
   "source": [
    "model.save('rock_paper_scissors_saved.model')"
   ]
  },
  {
   "cell_type": "code",
   "execution_count": 15,
   "id": "expanded-haven",
   "metadata": {},
   "outputs": [],
   "source": [
    "model = load_model('rock_paper_scissors_saved.model')"
   ]
  },
  {
   "cell_type": "code",
   "execution_count": 18,
   "id": "split-darwin",
   "metadata": {},
   "outputs": [
    {
     "data": {
      "text/plain": [
       "(28, 28, 1)"
      ]
     },
     "execution_count": 18,
     "metadata": {},
     "output_type": "execute_result"
    }
   ],
   "source": [
    "test_images[0].shape"
   ]
  },
  {
   "cell_type": "code",
   "execution_count": 23,
   "id": "developed-science",
   "metadata": {},
   "outputs": [],
   "source": [
    "y_predicted = model.predict(test_images)"
   ]
  },
  {
   "cell_type": "code",
   "execution_count": 34,
   "id": "quarterly-recognition",
   "metadata": {},
   "outputs": [
    {
     "name": "stdout",
     "output_type": "stream",
     "text": [
      "predicted:  0\n",
      "truth:  0\n"
     ]
    },
    {
     "data": {
      "image/png": "[encoded data removed]",
      "text/plain": [
       "<Figure size 432x288 with 1 Axes>"
      ]
     },
     "metadata": {
      "needs_background": "light"
     },
     "output_type": "display_data"
    }
   ],
   "source": [
    "num = 3\n",
    "y_predicted[num]\n",
    "print('predicted: ', np.argmax(y_predicted[num]))\n",
    "\n",
    "print('truth: ', test_labels[num])\n",
    "\n",
    "plt.imshow(test_images[num], cmap=plt.cm.binary)\n",
    "plt.show()\n",
    "# print(x_train[0])"
   ]
  },
  {
   "cell_type": "code",
   "execution_count": 29,
   "id": "settled-variable",
   "metadata": {},
   "outputs": [
    {
     "data": {
      "text/plain": [
       "<tf.Tensor: shape=(3, 3), dtype=int32, numpy=\n",
       "array([[124,   0,   0],\n",
       "       [ 68,  56,   0],\n",
       "       [  9,  13, 102]], dtype=int32)>"
      ]
     },
     "execution_count": 29,
     "metadata": {},
     "output_type": "execute_result"
    }
   ],
   "source": [
    "y_predicted_labels = [np.argmax(i) for i in y_predicted]\n",
    "cm = tf.math.confusion_matrix(labels=test_labels,predictions=y_predicted_labels)\n",
    "cm"
   ]
  },
  {
   "cell_type": "code",
   "execution_count": 30,
   "id": "residential-marketing",
   "metadata": {},
   "outputs": [
    {
     "data": {
      "text/plain": [
       "Text(69.0, 0.5, 'Truth')"
      ]
     },
     "execution_count": 30,
     "metadata": {},
     "output_type": "execute_result"
    },
    {
     "data": {
      "image/png": "[encoded data removed]",
      "text/plain": [
       "<Figure size 720x504 with 2 Axes>"
      ]
     },
     "metadata": {
      "needs_background": "light"
     },
     "output_type": "display_data"
    }
   ],
   "source": [
    "import seaborn as sn\n",
    "plt.figure(figsize = (10,7))\n",
    "sn.heatmap(cm, annot=True, fmt='d')\n",
    "plt.xlabel('Predicted')\n",
    "plt.ylabel('Truth')"
   ]
  }
 ],
 "metadata": {
  "kernelspec": {
   "display_name": "Python 3",
   "language": "python",
   "name": "python3"
  },
  "language_info": {
   "codemirror_mode": {
    "name": "ipython",
    "version": 3
   },
   "file_extension": ".py",
   "mimetype": "text/x-python",
   "name": "python",
   "nbconvert_exporter": "python",
   "pygments_lexer": "ipython3",
   "version": "3.8.6"
  }
 },
 "nbformat": 4,
 "nbformat_minor": 5
}

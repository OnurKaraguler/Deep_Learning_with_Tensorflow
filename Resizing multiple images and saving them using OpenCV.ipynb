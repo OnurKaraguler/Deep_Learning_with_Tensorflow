{
 "cells": [
  {
   "cell_type": "markdown",
   "id": "piano-glance",
   "metadata": {},
   "source": [
    "## Resizing multiple images and saving them using OpenCV"
   ]
  },
  {
   "cell_type": "code",
   "execution_count": 1,
   "id": "together-hands",
   "metadata": {},
   "outputs": [],
   "source": [
    "import cv2\n",
    "import glob\n",
    "import os"
   ]
  },
  {
   "cell_type": "code",
   "execution_count": 54,
   "id": "involved-bacteria",
   "metadata": {},
   "outputs": [],
   "source": [
    "folder = 'data2'\n",
    "def load_folder_names(folder):\n",
    "    for root, dirs, files in os.walk(folder):\n",
    "        path = os.path.join('resized/', root)\n",
    "        if not os.path.exists(path):\n",
    "            os.makedirs(path)\n",
    "        i = 0\n",
    "        for img in glob.glob(root + '/*.jpg'):\n",
    "            image = cv2.imread(img)\n",
    "            imgResized = cv2.resize(image, (28, 28))\n",
    "            cv2.imwrite(path + '/%i.jpg' %i, imgResized)\n",
    "            i += 1\n",
    "#         print(path)\n",
    "#         for file in root:\n",
    "#             print(file)\n",
    "load_folder_names(folder)"
   ]
  }
 ],
 "metadata": {
  "kernelspec": {
   "display_name": "Python 3",
   "language": "python",
   "name": "python3"
  },
  "language_info": {
   "codemirror_mode": {
    "name": "ipython",
    "version": 3
   },
   "file_extension": ".py",
   "mimetype": "text/x-python",
   "name": "python",
   "nbconvert_exporter": "python",
   "pygments_lexer": "ipython3",
   "version": "3.8.6"
  }
 },
 "nbformat": 4,
 "nbformat_minor": 5
}

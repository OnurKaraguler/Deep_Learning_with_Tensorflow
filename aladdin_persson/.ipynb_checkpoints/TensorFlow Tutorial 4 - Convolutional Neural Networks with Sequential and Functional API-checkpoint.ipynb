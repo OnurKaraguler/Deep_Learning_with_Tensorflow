{
 "cells": [
  {
   "cell_type": "markdown",
   "id": "3ca8ef97",
   "metadata": {},
   "source": [
    "<a id='1'></a>\n",
    "<div class=\"alert alert-block alert-danger\">\n",
    "<h2>1 Import Packages</h2>\n",
    "</div>"
   ]
  },
  {
   "cell_type": "code",
   "execution_count": 25,
   "id": "3e055d15",
   "metadata": {},
   "outputs": [],
   "source": [
    "import warnings\n",
    "warnings.filterwarnings('ignore')\n",
    "\n",
    "import os\n",
    "os.environ['TF_CPP_MIN_LOG_LEVEL'] = '2'    # ignore information messages\n",
    "\n",
    "import tensorflow as tf\n",
    "from tensorflow.keras.datasets import cifar10\n",
    "# natural images of 10 different classes with 50000 training and 10000 test grayscale 32x32 pixels RGB images\n",
    "from tensorflow.keras import Sequential, Input, Model\n",
    "from tensorflow.keras.layers import Dense, Conv2D, MaxPooling2D, Flatten, BatchNormalization\n",
    "from tensorflow.keras.losses import SparseCategoricalCrossentropy\n",
    "from tensorflow.keras.optimizers import Adam\n",
    "from tensorflow.keras.activations import relu"
   ]
  },
  {
   "cell_type": "markdown",
   "id": "67c74a15",
   "metadata": {},
   "source": [
    "<a id='2'></a>\n",
    "<div class=\"alert alert-block alert-danger\">\n",
    "   <h2>\n",
    "    2 Load Dataset\n",
    "    </h2>\n",
    "</div>"
   ]
  },
  {
   "cell_type": "code",
   "execution_count": 56,
   "id": "2ea5abd3",
   "metadata": {},
   "outputs": [
    {
     "name": "stdout",
     "output_type": "stream",
     "text": [
      "(50000, 32, 32, 3) (50000, 1)\n",
      "(10000, 32, 32, 3) (10000, 1)\n"
     ]
    }
   ],
   "source": [
    "(X_train, y_train), (X_test, y_test) = cifar10.load_data()\n",
    "print(X_train.shape, y_train.shape)\n",
    "print(X_test.shape, y_test.shape)"
   ]
  },
  {
   "cell_type": "code",
   "execution_count": 57,
   "id": "cd5d2ecf",
   "metadata": {},
   "outputs": [],
   "source": [
    "X_train = X_train.astype(\"float32\") / 255.0\n",
    "X_test = X_test.astype(\"float32\") / 255.0"
   ]
  },
  {
   "cell_type": "markdown",
   "id": "36485684",
   "metadata": {},
   "source": [
    "- X_train will be a numpy array float64. We can convert it to float32 to minimize some of the computation\n",
    "- We will also normalize the value to between 0 and 1\n",
    "- These are going to be numpy arrays"
   ]
  },
  {
   "cell_type": "markdown",
   "id": "89b56111",
   "metadata": {},
   "source": [
    "<a id='3'></a>\n",
    "<div class=\"alert alert-block alert-danger\">\n",
    "   <h2>\n",
    "    3 Create a basic neural network\n",
    "    </h2>\n",
    "</div>"
   ]
  },
  {
   "cell_type": "markdown",
   "id": "7c671b6d",
   "metadata": {},
   "source": [
    "<a id='31'></a>\n",
    "<div class=\"alert alert-block alert-info\">\n",
    "   <h3>\n",
    "        3.1 Sequential API\n",
    "   </h3>\n",
    "</div>"
   ]
  },
  {
   "cell_type": "code",
   "execution_count": 18,
   "id": "bafe0716",
   "metadata": {},
   "outputs": [
    {
     "name": "stdout",
     "output_type": "stream",
     "text": [
      "WARNING:tensorflow:Please add `keras.layers.InputLayer` instead of `keras.Input` to Sequential model. `keras.Input` is intended to be used by Functional model.\n"
     ]
    }
   ],
   "source": [
    "model = Sequential([\n",
    "    Input(shape=(32, 32, 3)),\n",
    "    Conv2D(32, 3, padding='valid', activation='relu'),   # (None, 30, 30, 32)\n",
    "    # 32 -> outchannels. In the beginning it is; 3 -> kernel size (3,3)\n",
    "    # padding -> valid(default):32,32 is gonna change depending on kernel size, same:32,32 will be same\n",
    "    MaxPooling2D(pool_size=(2,2)),   # the input size pixels will be half (None, 15, 15, 32)\n",
    "    Conv2D(64, 3, padding='valid', activation='relu'),\n",
    "    MaxPooling2D(),\n",
    "    Conv2D(128, 3, padding='valid', activation='relu'),\n",
    "    Flatten(),\n",
    "    Dense(64, activation='relu'),   # Dense is for a fully connected layer with nodes\n",
    "    Dense(10)   # 10 -> (10 different classes)\n",
    "])"
   ]
  },
  {
   "cell_type": "code",
   "execution_count": 21,
   "id": "18a13908",
   "metadata": {
    "scrolled": false
   },
   "outputs": [
    {
     "name": "stdout",
     "output_type": "stream",
     "text": [
      "Model: \"sequential_3\"\n",
      "_________________________________________________________________\n",
      "Layer (type)                 Output Shape              Param #   \n",
      "=================================================================\n",
      "conv2d_13 (Conv2D)           (None, 30, 30, 32)        896       \n",
      "_________________________________________________________________\n",
      "max_pooling2d_8 (MaxPooling2 (None, 15, 15, 32)        0         \n",
      "_________________________________________________________________\n",
      "conv2d_14 (Conv2D)           (None, 13, 13, 64)        18496     \n",
      "_________________________________________________________________\n",
      "max_pooling2d_9 (MaxPooling2 (None, 6, 6, 64)          0         \n",
      "_________________________________________________________________\n",
      "conv2d_15 (Conv2D)           (None, 4, 4, 128)         73856     \n",
      "_________________________________________________________________\n",
      "flatten_3 (Flatten)          (None, 2048)              0         \n",
      "_________________________________________________________________\n",
      "dense_6 (Dense)              (None, 64)                131136    \n",
      "_________________________________________________________________\n",
      "dense_7 (Dense)              (None, 10)                650       \n",
      "=================================================================\n",
      "Total params: 225,034\n",
      "Trainable params: 225,034\n",
      "Non-trainable params: 0\n",
      "_________________________________________________________________\n"
     ]
    }
   ],
   "source": [
    "model.summary()"
   ]
  },
  {
   "cell_type": "markdown",
   "id": "8c0d664b",
   "metadata": {},
   "source": [
    "- 225,034 very small network"
   ]
  },
  {
   "cell_type": "code",
   "execution_count": 22,
   "id": "3925e0ec",
   "metadata": {},
   "outputs": [],
   "source": [
    "# specify the training configuration (optimizer, loss, metrics)\n",
    "model.compile(optimizer=Adam(lr=3e-4),   # learning rate\n",
    "             loss=SparseCategoricalCrossentropy(from_logits=True),\n",
    "              # from_logits=True -> Dense(10, activation='softmax')\n",
    "             metrics=['accuracy'])"
   ]
  },
  {
   "cell_type": "code",
   "execution_count": 23,
   "id": "6741c804",
   "metadata": {},
   "outputs": [
    {
     "name": "stdout",
     "output_type": "stream",
     "text": [
      "Epoch 1/5\n",
      "782/782 [==============================] - 10s 10ms/step - loss: 1.7014 - accuracy: 0.3720\n",
      "Epoch 2/5\n",
      "782/782 [==============================] - 7s 9ms/step - loss: 1.3747 - accuracy: 0.5108\n",
      "Epoch 3/5\n",
      "782/782 [==============================] - 7s 9ms/step - loss: 1.2353 - accuracy: 0.5627\n",
      "Epoch 4/5\n",
      "782/782 [==============================] - 7s 9ms/step - loss: 1.1330 - accuracy: 0.6007\n",
      "Epoch 5/5\n",
      "782/782 [==============================] - 7s 9ms/step - loss: 1.0513 - accuracy: 0.6361\n",
      "157/157 [==============================] - 1s 6ms/step - loss: 1.0302 - accuracy: 0.6374\n",
      "CPU times: user 20.4 s, sys: 18.9 s, total: 39.3 s\n",
      "Wall time: 41.1 s\n"
     ]
    },
    {
     "data": {
      "text/plain": [
       "[1.0302128791809082, 0.6374000310897827]"
      ]
     },
     "execution_count": 23,
     "metadata": {},
     "output_type": "execute_result"
    }
   ],
   "source": [
    "%%time\n",
    "# train the model by slicing the data into \"batches\" of size batch_size, and repeatedly iterating \n",
    "# over the entire dataset for a given number of epochs.\n",
    "model.fit(X_train, y_train, batch_size=64, epochs=5)\n",
    "model.evaluate(X_test, y_test, batch_size=64)"
   ]
  },
  {
   "cell_type": "code",
   "execution_count": 62,
   "id": "d6d34325",
   "metadata": {},
   "outputs": [],
   "source": [
    "def my_model():\n",
    "    inputs = Input(shape=(32, 32, 3))\n",
    "    x = Conv2D(32, 3)(inputs)\n",
    "    x = BatchNormalization()(x)\n",
    "    x = relu(x)\n",
    "    x = MaxPooling2D()(x)\n",
    "    x = Conv2D(64, 5, padding='same')(x)\n",
    "    x = BatchNormalization()(x)\n",
    "    x = relu(x)\n",
    "    x = Conv2D(128, 3)(x)\n",
    "    x = BatchNormalization()(x)\n",
    "    x = relu(x)    \n",
    "    x = Flatten()(x)\n",
    "    x = Dense(64, activation='relu')(x) \n",
    "    outputs = Dense(10)(x) \n",
    "    model = Model(inputs=inputs, outputs=outputs)\n",
    "    \n",
    "    return model "
   ]
  },
  {
   "cell_type": "code",
   "execution_count": 63,
   "id": "5c38802f",
   "metadata": {},
   "outputs": [],
   "source": [
    "model = my_model()"
   ]
  },
  {
   "cell_type": "code",
   "execution_count": 64,
   "id": "e445e50d",
   "metadata": {
    "scrolled": false
   },
   "outputs": [
    {
     "name": "stdout",
     "output_type": "stream",
     "text": [
      "Model: \"model_4\"\n",
      "_________________________________________________________________\n",
      "Layer (type)                 Output Shape              Param #   \n",
      "=================================================================\n",
      "input_37 (InputLayer)        [(None, 32, 32, 3)]       0         \n",
      "_________________________________________________________________\n",
      "conv2d_99 (Conv2D)           (None, 30, 30, 32)        896       \n",
      "_________________________________________________________________\n",
      "batch_normalization_67 (Batc (None, 30, 30, 32)        128       \n",
      "_________________________________________________________________\n",
      "tf.nn.relu_60 (TFOpLambda)   (None, 30, 30, 32)        0         \n",
      "_________________________________________________________________\n",
      "max_pooling2d_42 (MaxPooling (None, 15, 15, 32)        0         \n",
      "_________________________________________________________________\n",
      "conv2d_100 (Conv2D)          (None, 15, 15, 64)        51264     \n",
      "_________________________________________________________________\n",
      "batch_normalization_68 (Batc (None, 15, 15, 64)        256       \n",
      "_________________________________________________________________\n",
      "tf.nn.relu_61 (TFOpLambda)   (None, 15, 15, 64)        0         \n",
      "_________________________________________________________________\n",
      "conv2d_101 (Conv2D)          (None, 13, 13, 128)       73856     \n",
      "_________________________________________________________________\n",
      "batch_normalization_69 (Batc (None, 13, 13, 128)       512       \n",
      "_________________________________________________________________\n",
      "tf.nn.relu_62 (TFOpLambda)   (None, 13, 13, 128)       0         \n",
      "_________________________________________________________________\n",
      "flatten_12 (Flatten)         (None, 21632)             0         \n",
      "_________________________________________________________________\n",
      "dense_21 (Dense)             (None, 64)                1384512   \n",
      "_________________________________________________________________\n",
      "dense_22 (Dense)             (None, 10)                650       \n",
      "=================================================================\n",
      "Total params: 1,512,074\n",
      "Trainable params: 1,511,626\n",
      "Non-trainable params: 448\n",
      "_________________________________________________________________\n"
     ]
    }
   ],
   "source": [
    "model.summary()"
   ]
  },
  {
   "cell_type": "code",
   "execution_count": 65,
   "id": "9a08ad7f",
   "metadata": {},
   "outputs": [],
   "source": [
    "# specify the training configuration (optimizer, loss, metrics)\n",
    "model.compile(optimizer=Adam(lr=3e-4),   # learning rate\n",
    "             loss=SparseCategoricalCrossentropy(from_logits=True),\n",
    "              # from_logits=True -> Dense(10, activation='softmax')\n",
    "             metrics=['accuracy'])"
   ]
  },
  {
   "cell_type": "code",
   "execution_count": 66,
   "id": "3fde4724",
   "metadata": {},
   "outputs": [
    {
     "name": "stdout",
     "output_type": "stream",
     "text": [
      "Epoch 1/5\n",
      "782/782 [==============================] - 20s 24ms/step - loss: 1.3224 - accuracy: 0.5348\n",
      "Epoch 2/5\n",
      "782/782 [==============================] - 18s 23ms/step - loss: 0.8965 - accuracy: 0.6854\n",
      "Epoch 3/5\n",
      "782/782 [==============================] - 18s 23ms/step - loss: 0.7228 - accuracy: 0.7488\n",
      "Epoch 4/5\n",
      "782/782 [==============================] - 18s 23ms/step - loss: 0.6087 - accuracy: 0.7884\n",
      "Epoch 5/5\n",
      "782/782 [==============================] - 18s 23ms/step - loss: 0.5186 - accuracy: 0.8194\n",
      "157/157 [==============================] - 2s 10ms/step - loss: 0.8995 - accuracy: 0.6968\n",
      "CPU times: user 28.1 s, sys: 27.2 s, total: 55.3 s\n",
      "Wall time: 1min 33s\n"
     ]
    },
    {
     "data": {
      "text/plain": [
       "[0.8995259404182434, 0.6968000531196594]"
      ]
     },
     "execution_count": 66,
     "metadata": {},
     "output_type": "execute_result"
    }
   ],
   "source": [
    "%%time\n",
    "# train the model by slicing the data into \"batches\" of size batch_size, and repeatedly iterating \n",
    "# over the entire dataset for a given number of epochs.\n",
    "model.fit(X_train, y_train, batch_size=64, epochs=5)\n",
    "model.evaluate(X_test, y_test, batch_size=64)"
   ]
  },
  {
   "cell_type": "markdown",
   "id": "a80c9574",
   "metadata": {},
   "source": [
    "- the testset accuracy has not actually improved much\n",
    "- the model is overfitting the training data "
   ]
  },
  {
   "cell_type": "code",
   "execution_count": null,
   "id": "a236369b",
   "metadata": {},
   "outputs": [],
   "source": []
  },
  {
   "cell_type": "code",
   "execution_count": null,
   "id": "76fa884c",
   "metadata": {},
   "outputs": [],
   "source": []
  },
  {
   "cell_type": "code",
   "execution_count": null,
   "id": "91ebd65e",
   "metadata": {},
   "outputs": [],
   "source": []
  },
  {
   "cell_type": "code",
   "execution_count": null,
   "id": "2e120cc3",
   "metadata": {},
   "outputs": [],
   "source": [
    "\n",
    "\n",
    "\n",
    "\n",
    "\n",
    "\n",
    "\n",
    "\n",
    "\n",
    "\n",
    "\n",
    "\n",
    "\n",
    "\n",
    "\n",
    "\n",
    "\n"
   ]
  }
 ],
 "metadata": {
  "kernelspec": {
   "display_name": "Python 3.8 (tensorflow)",
   "language": "python",
   "name": "tensorflow"
  },
  "language_info": {
   "codemirror_mode": {
    "name": "ipython",
    "version": 3
   },
   "file_extension": ".py",
   "mimetype": "text/x-python",
   "name": "python",
   "nbconvert_exporter": "python",
   "pygments_lexer": "ipython3",
   "version": "3.8.6"
  },
  "toc": {
   "base_numbering": 1,
   "nav_menu": {},
   "number_sections": true,
   "sideBar": true,
   "skip_h1_title": false,
   "title_cell": "Table of Contents",
   "title_sidebar": "Contents",
   "toc_cell": false,
   "toc_position": {},
   "toc_section_display": true,
   "toc_window_display": false
  }
 },
 "nbformat": 4,
 "nbformat_minor": 5
}

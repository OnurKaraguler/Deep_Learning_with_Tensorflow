{
 "cells": [
  {
   "cell_type": "markdown",
   "id": "edc19194",
   "metadata": {},
   "source": [
    "<a id='1'></a>\n",
    "<div class=\"alert alert-block alert-danger\">\n",
    "<h2>1 Import Packages</h2>\n",
    "</div>"
   ]
  },
  {
   "cell_type": "code",
   "execution_count": 1,
   "id": "b4585712",
   "metadata": {},
   "outputs": [
    {
     "name": "stdout",
     "output_type": "stream",
     "text": [
      "Init Plugin\n",
      "Init Graph Optimizer\n",
      "Init Kernel\n"
     ]
    }
   ],
   "source": [
    "import warnings\n",
    "warnings.filterwarnings('ignore')\n",
    "\n",
    "import os\n",
    "os.environ['TF_CPP_MIN_LOG_LEVEL'] = '2'    # ignore information messages\n",
    "\n",
    "import tensorflow as tf\n",
    "from tensorflow.keras.datasets import mnist\n",
    "# images of digits between 0 and 9 with 60000 train and 10000 test grayscale 28x28 pixels images\n",
    "from tensorflow.keras import Sequential, Input, Model, regularizers\n",
    "from tensorflow.keras.layers import Dense, Conv2D, BatchNormalization, MaxPooling2D, Flatten\n",
    "from tensorflow.keras.losses import SparseCategoricalCrossentropy\n",
    "from tensorflow.keras.optimizers import Adam\n",
    "from tensorflow.keras.activations import relu\n",
    "\n",
    "import pandas as pd"
   ]
  },
  {
   "cell_type": "markdown",
   "id": "2adf804d",
   "metadata": {},
   "source": [
    "<a id='2'></a>\n",
    "<div class=\"alert alert-block alert-danger\">\n",
    "   <h2>\n",
    "    2 Load Dataset\n",
    "    </h2>\n",
    "</div>"
   ]
  },
  {
   "attachments": {
    "0_02.png": {
     "image/png": "[encoded data removed]"
    }
   },
   "cell_type": "markdown",
   "id": "cf61de50",
   "metadata": {},
   "source": [
    "![0_02.png](attachment:0_02.png)"
   ]
  },
  {
   "cell_type": "markdown",
   "id": "ce473fe9",
   "metadata": {},
   "source": [
    "- We have two target values for each example, two outputs\n",
    "- We can not use Sequential, that can only map one input and one output"
   ]
  },
  {
   "cell_type": "code",
   "execution_count": 2,
   "id": "17bd32c2",
   "metadata": {},
   "outputs": [
    {
     "data": {
      "text/html": [
       "<div>\n",
       "<style scoped>\n",
       "    .dataframe tbody tr th:only-of-type {\n",
       "        vertical-align: middle;\n",
       "    }\n",
       "\n",
       "    .dataframe tbody tr th {\n",
       "        vertical-align: top;\n",
       "    }\n",
       "\n",
       "    .dataframe thead th {\n",
       "        text-align: right;\n",
       "    }\n",
       "</style>\n",
       "<table border=\"1\" class=\"dataframe\">\n",
       "  <thead>\n",
       "    <tr style=\"text-align: right;\">\n",
       "      <th></th>\n",
       "      <th>Image</th>\n",
       "      <th>first_num</th>\n",
       "      <th>second_num</th>\n",
       "    </tr>\n",
       "  </thead>\n",
       "  <tbody>\n",
       "    <tr>\n",
       "      <th>0</th>\n",
       "      <td>0_00.png</td>\n",
       "      <td>0</td>\n",
       "      <td>0</td>\n",
       "    </tr>\n",
       "    <tr>\n",
       "      <th>1</th>\n",
       "      <td>100_00.png</td>\n",
       "      <td>0</td>\n",
       "      <td>0</td>\n",
       "    </tr>\n",
       "    <tr>\n",
       "      <th>2</th>\n",
       "      <td>101_00.png</td>\n",
       "      <td>0</td>\n",
       "      <td>0</td>\n",
       "    </tr>\n",
       "    <tr>\n",
       "      <th>3</th>\n",
       "      <td>102_00.png</td>\n",
       "      <td>0</td>\n",
       "      <td>0</td>\n",
       "    </tr>\n",
       "    <tr>\n",
       "      <th>4</th>\n",
       "      <td>103_00.png</td>\n",
       "      <td>0</td>\n",
       "      <td>0</td>\n",
       "    </tr>\n",
       "  </tbody>\n",
       "</table>\n",
       "</div>"
      ],
      "text/plain": [
       "        Image  first_num  second_num\n",
       "0    0_00.png          0           0\n",
       "1  100_00.png          0           0\n",
       "2  101_00.png          0           0\n",
       "3  102_00.png          0           0\n",
       "4  103_00.png          0           0"
      ]
     },
     "execution_count": 2,
     "metadata": {},
     "output_type": "execute_result"
    }
   ],
   "source": [
    "train_df = pd.read_csv(\"dataset/TensorFlow Tutorial 7/train.csv\")\n",
    "test_df = pd.read_csv(\"dataset/TensorFlow Tutorial 7/test.csv\")\n",
    "train_df.head()"
   ]
  },
  {
   "cell_type": "code",
   "execution_count": 3,
   "id": "54edbfa3",
   "metadata": {},
   "outputs": [
    {
     "data": {
      "text/plain": [
       "array(['0_00.png', '100_00.png', '101_00.png', ..., '999_98.png',\n",
       "       '99_98.png', '9_98.png'], dtype=object)"
      ]
     },
     "execution_count": 3,
     "metadata": {},
     "output_type": "execute_result"
    }
   ],
   "source": [
    "train_df.iloc[:, 0].values"
   ]
  },
  {
   "cell_type": "code",
   "execution_count": 4,
   "id": "c9a80ad9",
   "metadata": {},
   "outputs": [
    {
     "data": {
      "text/plain": [
       "'/Users/onurkaraguler/Desktop/git_repos/Deep_Learning_with_Tensorflow/aladdin_persson/dataset/TensorFlow Tutorial 7/train_images/0_00.png'"
      ]
     },
     "execution_count": 4,
     "metadata": {},
     "output_type": "execute_result"
    }
   ],
   "source": [
    "train_images = os.getcwd() + \"/dataset/TensorFlow Tutorial 7/train_images/\" + train_df.iloc[:, 0].values\n",
    "test_images = os.getcwd() + \"/dataset/TensorFlow Tutorial 7/test_images/\" + test_df.iloc[:, 0].values\n",
    "train_images[0]"
   ]
  },
  {
   "cell_type": "code",
   "execution_count": 5,
   "id": "caf435ff",
   "metadata": {},
   "outputs": [
    {
     "data": {
      "text/plain": [
       "array([0, 0])"
      ]
     },
     "execution_count": 5,
     "metadata": {},
     "output_type": "execute_result"
    }
   ],
   "source": [
    "train_labels = train_df.iloc[:, 1:].values\n",
    "test_labels = test_df.iloc[:, 1:].values\n",
    "train_labels[0]"
   ]
  },
  {
   "cell_type": "code",
   "execution_count": 6,
   "id": "9370994a",
   "metadata": {},
   "outputs": [],
   "source": [
    "def read_image(image_path, label):\n",
    "    image = tf.io.read_file(image_path)\n",
    "    image = tf.image.decode_image(image, channels=1, dtype=tf.float32)\n",
    "\n",
    "    labels = {\"first_num\": label[0], \"second_num\": label[1]}\n",
    "    return image, labels"
   ]
  },
  {
   "cell_type": "code",
   "execution_count": 7,
   "id": "264b7647",
   "metadata": {},
   "outputs": [
    {
     "name": "stdout",
     "output_type": "stream",
     "text": [
      "Metal device set to: Apple M1\n"
     ]
    },
    {
     "data": {
      "text/plain": [
       "<TensorSliceDataset shapes: ((), (2,)), types: (tf.string, tf.int64)>"
      ]
     },
     "execution_count": 7,
     "metadata": {},
     "output_type": "execute_result"
    }
   ],
   "source": [
    "train_dataset = tf.data.Dataset.from_tensor_slices((train_images, train_labels))\n",
    "train_dataset"
   ]
  },
  {
   "cell_type": "code",
   "execution_count": 8,
   "id": "56c7e827",
   "metadata": {},
   "outputs": [],
   "source": [
    "AUTOTUNE = tf.data.experimental.AUTOTUNE"
   ]
  },
  {
   "cell_type": "code",
   "execution_count": 9,
   "id": "9387911d",
   "metadata": {},
   "outputs": [],
   "source": [
    "train_dataset = (\n",
    "    train_dataset.shuffle(buffer_size=len(train_labels))\n",
    "    .map(read_image)\n",
    "    .batch(batch_size=64)\n",
    "    .prefetch(buffer_size=AUTOTUNE)\n",
    ")"
   ]
  },
  {
   "cell_type": "code",
   "execution_count": 10,
   "id": "5becd108",
   "metadata": {},
   "outputs": [],
   "source": [
    "test_dataset = tf.data.Dataset.from_tensor_slices((test_images, test_labels))\n",
    "test_dataset = (\n",
    "    test_dataset.map(read_image)\n",
    "    .batch(batch_size=64)\n",
    "    .prefetch(buffer_size=AUTOTUNE)\n",
    ")"
   ]
  },
  {
   "cell_type": "markdown",
   "id": "5af5b194",
   "metadata": {},
   "source": [
    "<a id='32'></a>\n",
    "<div class=\"alert alert-block alert-info\">\n",
    "   <h3>\n",
    "        3.2 Functional API\n",
    "   </h3>\n",
    "</div>"
   ]
  },
  {
   "cell_type": "code",
   "execution_count": 11,
   "id": "7812e5c9",
   "metadata": {},
   "outputs": [
    {
     "name": "stdout",
     "output_type": "stream",
     "text": [
      "Model: \"model\"\n",
      "__________________________________________________________________________________________________\n",
      "Layer (type)                    Output Shape         Param #     Connected to                     \n",
      "==================================================================================================\n",
      "input_1 (InputLayer)            [(None, 64, 64, 1)]  0                                            \n",
      "__________________________________________________________________________________________________\n",
      "conv2d (Conv2D)                 (None, 64, 64, 32)   320         input_1[0][0]                    \n",
      "__________________________________________________________________________________________________\n",
      "batch_normalization (BatchNorma (None, 64, 64, 32)   128         conv2d[0][0]                     \n",
      "__________________________________________________________________________________________________\n",
      "tf.nn.relu (TFOpLambda)         (None, 64, 64, 32)   0           batch_normalization[0][0]        \n",
      "__________________________________________________________________________________________________\n",
      "conv2d_1 (Conv2D)               (None, 62, 62, 64)   18496       tf.nn.relu[0][0]                 \n",
      "__________________________________________________________________________________________________\n",
      "batch_normalization_1 (BatchNor (None, 62, 62, 64)   256         conv2d_1[0][0]                   \n",
      "__________________________________________________________________________________________________\n",
      "tf.nn.relu_1 (TFOpLambda)       (None, 62, 62, 64)   0           batch_normalization_1[0][0]      \n",
      "__________________________________________________________________________________________________\n",
      "max_pooling2d (MaxPooling2D)    (None, 31, 31, 64)   0           tf.nn.relu_1[0][0]               \n",
      "__________________________________________________________________________________________________\n",
      "conv2d_2 (Conv2D)               (None, 29, 29, 64)   36928       max_pooling2d[0][0]              \n",
      "__________________________________________________________________________________________________\n",
      "conv2d_3 (Conv2D)               (None, 27, 27, 128)  73856       conv2d_2[0][0]                   \n",
      "__________________________________________________________________________________________________\n",
      "max_pooling2d_1 (MaxPooling2D)  (None, 13, 13, 128)  0           conv2d_3[0][0]                   \n",
      "__________________________________________________________________________________________________\n",
      "flatten (Flatten)               (None, 21632)        0           max_pooling2d_1[0][0]            \n",
      "__________________________________________________________________________________________________\n",
      "dense (Dense)                   (None, 128)          2769024     flatten[0][0]                    \n",
      "__________________________________________________________________________________________________\n",
      "dense_1 (Dense)                 (None, 64)           8256        dense[0][0]                      \n",
      "__________________________________________________________________________________________________\n",
      "first_num (Dense)               (None, 10)           650         dense_1[0][0]                    \n",
      "__________________________________________________________________________________________________\n",
      "second_num (Dense)              (None, 10)           650         dense_1[0][0]                    \n",
      "==================================================================================================\n",
      "Total params: 2,908,564\n",
      "Trainable params: 2,908,372\n",
      "Non-trainable params: 192\n",
      "__________________________________________________________________________________________________\n"
     ]
    }
   ],
   "source": [
    "inputs = Input(shape=(64, 64, 1))\n",
    "x = Conv2D(filters=32, kernel_size=3, padding=\"same\", kernel_regularizer=regularizers.l2(0.001),\n",
    ")(inputs)\n",
    "x = BatchNormalization()(x)\n",
    "x = relu(x)\n",
    "x = Conv2D(64, 3, kernel_regularizer=regularizers.l2(0.001),)(x)\n",
    "x = BatchNormalization()(x)\n",
    "x = relu(x)\n",
    "x = MaxPooling2D()(x)\n",
    "x = Conv2D(\n",
    "    64, 3, activation=\"relu\", kernel_regularizer=regularizers.l2(0.001),\n",
    ")(x)\n",
    "x = Conv2D(128, 3, activation=\"relu\")(x)\n",
    "x = MaxPooling2D()(x)\n",
    "x = Flatten()(x)\n",
    "x = Dense(128, activation=\"relu\")(x)\n",
    "# x = layers.Dropout(0.5)(x)\n",
    "x = Dense(64, activation=\"relu\")(x)\n",
    "\n",
    "# We are using the input (x) to map to two different outputs. Sequential can not do like this\n",
    "output1 = Dense(10, activation=\"softmax\", name=\"first_num\")(x)\n",
    "output2 = Dense(10, activation=\"softmax\", name=\"second_num\")(x)\n",
    "model = Model(inputs=inputs, outputs=[output1, output2])\n",
    "\n",
    "model.summary()"
   ]
  },
  {
   "cell_type": "code",
   "execution_count": 13,
   "id": "5bde5e45",
   "metadata": {},
   "outputs": [],
   "source": [
    "model.compile(optimizer=Adam(lr=0.001),\n",
    "             loss=[\n",
    "                 SparseCategoricalCrossentropy(from_logits=False),\n",
    "                 SparseCategoricalCrossentropy(from_logits=False),   # we can remove this and execute\n",
    "                 ],\n",
    "             metrics=['accuracy'])"
   ]
  },
  {
   "cell_type": "code",
   "execution_count": 15,
   "id": "e154f7c2",
   "metadata": {},
   "outputs": [
    {
     "name": "stdout",
     "output_type": "stream",
     "text": [
      "Epoch 1/3\n",
      "1000/1000 [==============================] - 112s 111ms/step - loss: 0.4497 - first_num_loss: 0.1925 - second_num_loss: 0.1821 - first_num_accuracy: 0.9399 - second_num_accuracy: 0.9423\n",
      "Epoch 2/3\n",
      "1000/1000 [==============================] - 111s 111ms/step - loss: 0.1813 - first_num_loss: 0.0667 - second_num_loss: 0.0624 - first_num_accuracy: 0.9791 - second_num_accuracy: 0.9805\n",
      "Epoch 3/3\n",
      "1000/1000 [==============================] - 110s 110ms/step - loss: 0.1293 - first_num_loss: 0.0451 - second_num_loss: 0.0421 - first_num_accuracy: 0.9854 - second_num_accuracy: 0.9864\n",
      "313/313 [==============================] - 10s 33ms/step - loss: 0.8342 - first_num_loss: 0.3370 - second_num_loss: 0.4578 - first_num_accuracy: 0.9020 - second_num_accuracy: 0.8649\n"
     ]
    },
    {
     "data": {
      "text/plain": [
       "[0.8341754078865051,\n",
       " 0.3369918763637543,\n",
       " 0.4577820599079132,\n",
       " 0.9020000696182251,\n",
       " 0.8649000525474548]"
      ]
     },
     "execution_count": 15,
     "metadata": {},
     "output_type": "execute_result"
    }
   ],
   "source": [
    "model.fit(train_dataset, epochs=3)\n",
    "model.evaluate(test_dataset)"
   ]
  },
  {
   "cell_type": "code",
   "execution_count": null,
   "id": "5e606522",
   "metadata": {},
   "outputs": [],
   "source": []
  }
 ],
 "metadata": {
  "kernelspec": {
   "display_name": "Python 3.8 (tensorflow)",
   "language": "python",
   "name": "tensorflow"
  },
  "language_info": {
   "codemirror_mode": {
    "name": "ipython",
    "version": 3
   },
   "file_extension": ".py",
   "mimetype": "text/x-python",
   "name": "python",
   "nbconvert_exporter": "python",
   "pygments_lexer": "ipython3",
   "version": "3.8.6"
  },
  "toc": {
   "base_numbering": 1,
   "nav_menu": {},
   "number_sections": true,
   "sideBar": true,
   "skip_h1_title": false,
   "title_cell": "Table of Contents",
   "title_sidebar": "Contents",
   "toc_cell": false,
   "toc_position": {},
   "toc_section_display": true,
   "toc_window_display": false
  }
 },
 "nbformat": 4,
 "nbformat_minor": 5
}

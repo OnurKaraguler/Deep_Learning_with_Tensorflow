{
 "cells": [
  {
   "cell_type": "code",
   "execution_count": 1,
   "id": "covered-version",
   "metadata": {},
   "outputs": [
    {
     "name": "stdout",
     "output_type": "stream",
     "text": [
      "WARNING:tensorflow:Eager mode uses the CPU. Switching to the CPU.\n"
     ]
    }
   ],
   "source": [
    "from tensorflow.python.compiler.mlcompute import mlcompute\n",
    "mlcompute.set_mlc_device(device_name='gpu')"
   ]
  },
  {
   "cell_type": "code",
   "execution_count": 2,
   "id": "broken-alignment",
   "metadata": {},
   "outputs": [],
   "source": [
    "import os\n",
    "import tensorflow as tf\n",
    "os.environ['TFF_CPP_MIN_LOG_LEVEL'] = '2'    # ignore information messages\n",
    "\n",
    "from tensorflow.keras.datasets import cifar10\n",
    "\n",
    "from tensorflow.keras import Sequential, Input, Model, callbacks\n",
    "from tensorflow.keras.layers import Dense, Conv2D, MaxPooling2D, Flatten, BatchNormalization, Dropout\n",
    "from tensorflow.keras.losses import SparseCategoricalCrossentropy, BinaryCrossentropy\n",
    "from tensorflow.keras.optimizers import Adam\n",
    "from tensorflow.keras.activations import relu\n",
    "from tensorflow.keras.models import load_model\n",
    "from tensorflow.keras.metrics import (BinaryAccuracy, Precision, Recall, AUC, \n",
    "                                      FalsePositives, FalseNegatives, TruePositives, TrueNegatives)\n",
    "\n",
    "import tensorflow_hub as hub\n",
    "from tensorflow.keras.preprocessing.image import ImageDataGenerator\n",
    "\n",
    "import numpy as np\n",
    "import matplotlib.pyplot as plt"
   ]
  },
  {
   "cell_type": "code",
   "execution_count": 3,
   "id": "forward-framing",
   "metadata": {},
   "outputs": [],
   "source": [
    "# folder_var = 'data1/train/malignant/'\n",
    "# folder_yok = 'data1/train/benign/'\n",
    "# folder_test_var = 'data1/test/malignant/'\n",
    "# folder_test_yok = 'data1/test/benign/'\n",
    "\n",
    "folder_train = 'data1/train/'\n",
    "folder_validation = 'data1/validation/'\n",
    "folder_test = 'data1/test/'"
   ]
  },
  {
   "cell_type": "code",
   "execution_count": 4,
   "id": "quick-philosophy",
   "metadata": {},
   "outputs": [],
   "source": [
    "directory_list = list()\n",
    "for root, dirs, files in os.walk('data1/', topdown=False):\n",
    "    for name in dirs:\n",
    "        directory_list.append(os.path.join(root, name))\n",
    "\n",
    "# print (directory_list)\n",
    "\n",
    "def load_images_from_folder(folder):\n",
    "    for root, dirs, files in os.walk(folder):\n",
    "        for file in files:\n",
    "            i = 0\n",
    "            if file.endswith('.DS_Store'):\n",
    "                path = os.path.join(root, file)\n",
    "                print (\"Deleting: %s\" % (path))\n",
    "                if os.remove(path):\n",
    "                    print (\"Unable to delete!\")\n",
    "                else:\n",
    "                    print (\"Deleted...\")\n",
    "                    i += 1\n",
    "                print(\"Files Deleted: %d\" % (i))\n",
    "\n",
    "for folder in directory_list:\n",
    "    load_images_from_folder(folder)"
   ]
  },
  {
   "cell_type": "code",
   "execution_count": 5,
   "id": "latin-butter",
   "metadata": {},
   "outputs": [
    {
     "name": "stdout",
     "output_type": "stream",
     "text": [
      "1300 245 350\n"
     ]
    }
   ],
   "source": [
    "def num_of_files(folder):\n",
    "    num_of_files = 0\n",
    "    for root, dirs, files in os.walk(folder, topdown=False):\n",
    "        num_of_files += len(files)\n",
    "    return num_of_files\n",
    "        \n",
    "num_of_files_train = num_of_files(folder_train)\n",
    "num_of_files_validation = num_of_files(folder_validation)\n",
    "num_of_files_test = num_of_files(folder_test)\n",
    "print(num_of_files_train, num_of_files_validation, num_of_files_test)"
   ]
  },
  {
   "cell_type": "code",
   "execution_count": 12,
   "id": "fallen-wagner",
   "metadata": {},
   "outputs": [
    {
     "name": "stdout",
     "output_type": "stream",
     "text": [
      "Found 1300 files belonging to 2 classes.\n",
      "Found 245 files belonging to 2 classes.\n",
      "Found 350 files belonging to 2 classes.\n"
     ]
    }
   ],
   "source": [
    "img_height = img_width = 28\n",
    "batch_size = 20\n",
    "\n",
    "##################\n",
    "ds_train = tf.keras.preprocessing.image_dataset_from_directory(\n",
    "    folder_train,\n",
    "    labels=\"inferred\",\n",
    "    label_mode=\"int\",  # categorical, binary, int\n",
    "    # class_names=['0', '1', '2', '3', ...]\n",
    "    color_mode=\"rgb\",\n",
    "    batch_size=batch_size,\n",
    "    image_size=(img_height, img_width),  # reshape if not in this size\n",
    "    shuffle=True,\n",
    "    seed=123,\n",
    "#     validation_split=0.1,\n",
    "#     subset=\"training\",\n",
    ")\n",
    "\n",
    "ds_validation = tf.keras.preprocessing.image_dataset_from_directory(\n",
    "    folder_validation,\n",
    "    labels=\"inferred\",\n",
    "    label_mode=\"int\",  # categorical, binary, int\n",
    "    color_mode=\"rgb\",\n",
    "    batch_size=batch_size,\n",
    "    image_size=(img_height, img_width),  # reshape if not in this size\n",
    "    shuffle=True,\n",
    "    seed=123,\n",
    "#     validation_split=0.1,\n",
    "#     subset=\"validation\",\n",
    ")\n",
    "\n",
    "ds_test = tf.keras.preprocessing.image_dataset_from_directory(\n",
    "    folder_test,\n",
    "    labels=\"inferred\",\n",
    "    label_mode=\"int\",  # categorical, binary, int\n",
    "    color_mode=\"rgb\",\n",
    "    batch_size=batch_size,\n",
    "    image_size=(img_height, img_width),\n",
    "    shuffle=True,\n",
    "    seed=123,\n",
    ")"
   ]
  },
  {
   "cell_type": "code",
   "execution_count": 13,
   "id": "crucial-bench",
   "metadata": {},
   "outputs": [],
   "source": [
    "def augment(x, y):\n",
    "    image = tf.image.random_brightness(x, max_delta=0.05)\n",
    "    return image, y"
   ]
  },
  {
   "cell_type": "code",
   "execution_count": 14,
   "id": "professional-tunisia",
   "metadata": {},
   "outputs": [],
   "source": [
    "ds_train = ds_train.map(augment)"
   ]
  },
  {
   "cell_type": "code",
   "execution_count": 15,
   "id": "frequent-receiver",
   "metadata": {},
   "outputs": [],
   "source": [
    "# # Custom Loops\n",
    "# for epochs in range(10):\n",
    "#     for x, y in ds_train:\n",
    "#         # train here\n",
    "#         pass"
   ]
  },
  {
   "cell_type": "code",
   "execution_count": 16,
   "id": "three-seller",
   "metadata": {},
   "outputs": [],
   "source": [
    "inputs = Input(shape=(img_height, img_width, 3))\n",
    "x = Conv2D(32, 3)(inputs)\n",
    "x = BatchNormalization()(x)    # ?\n",
    "x = relu(x)\n",
    "x = MaxPooling2D()(x)\n",
    "x = Conv2D(64, 3)(x)\n",
    "x = BatchNormalization()(x)\n",
    "x = relu(x)\n",
    "x = MaxPooling2D()(x)\n",
    "x = Conv2D(128, 3)(x)\n",
    "x = BatchNormalization()(x)\n",
    "x = relu(x)\n",
    "x = Flatten()(x)\n",
    "x = Dense(64, activation=\"relu\")(x)\n",
    "outputs = Dense(1, activation=\"sigmoid\")(x)\n",
    "model = Model(inputs=inputs, outputs=outputs)"
   ]
  },
  {
   "cell_type": "code",
   "execution_count": 17,
   "id": "editorial-sally",
   "metadata": {},
   "outputs": [],
   "source": [
    "METRICS = [\n",
    "  TruePositives(name='tp'),\n",
    "  TrueNegatives(name='tn'),\n",
    "  FalsePositives(name='fp'),\n",
    "  FalseNegatives(name='fn'), \n",
    "  Precision(name='precision'),\n",
    "  Recall(name='recall'),\n",
    "  BinaryAccuracy(name='acc'),\n",
    "  AUC(name='auc'),\n",
    "]\n",
    "\n",
    "model.compile(\n",
    "    optimizer=Adam(),\n",
    "    loss=[BinaryCrossentropy(from_logits=True),],\n",
    "    metrics=METRICS,\n",
    ")"
   ]
  },
  {
   "cell_type": "code",
   "execution_count": 18,
   "id": "stainless-forest",
   "metadata": {
    "scrolled": true
   },
   "outputs": [
    {
     "name": "stdout",
     "output_type": "stream",
     "text": [
      "Epoch 1/30\n",
      "65/65 [==============================] - 10s 124ms/step - loss: 0.6532 - tp: 5.8182 - tn: 500.0606 - fp: 19.0758 - fn: 144.7424 - precision: 0.1983 - recall: 0.0323 - acc: 0.7404 - auc: 0.5340 - val_loss: 0.4653 - val_tp: 3.0000 - val_tn: 190.0000 - val_fp: 6.0000 - val_fn: 41.0000 - val_precision: 0.3333 - val_recall: 0.0682 - val_acc: 0.8042 - val_auc: 0.6397\n",
      "Epoch 2/30\n",
      "65/65 [==============================] - 8s 115ms/step - loss: 0.4853 - tp: 7.7273 - tn: 515.1061 - fp: 1.9394 - fn: 144.9242 - precision: 0.8420 - recall: 0.0645 - acc: 0.7889 - auc: 0.6907 - val_loss: 0.4851 - val_tp: 5.0000 - val_tn: 191.0000 - val_fp: 6.0000 - val_fn: 38.0000 - val_precision: 0.4545 - val_recall: 0.1163 - val_acc: 0.8167 - val_auc: 0.6741\n",
      "Epoch 3/30\n",
      "65/65 [==============================] - 8s 114ms/step - loss: 0.4750 - tp: 18.0909 - tn: 508.8182 - fp: 7.7273 - fn: 135.0606 - precision: 0.6912 - recall: 0.1334 - acc: 0.7882 - auc: 0.7281 - val_loss: 0.5643 - val_tp: 18.0000 - val_tn: 152.0000 - val_fp: 44.0000 - val_fn: 26.0000 - val_precision: 0.2903 - val_recall: 0.4091 - val_acc: 0.7083 - val_auc: 0.6436\n",
      "Epoch 4/30\n",
      "65/65 [==============================] - 8s 110ms/step - loss: 0.4251 - tp: 23.9242 - tn: 510.4848 - fp: 6.0152 - fn: 129.2727 - precision: 0.8541 - recall: 0.1613 - acc: 0.8012 - auc: 0.8136 - val_loss: 0.5648 - val_tp: 0.0000e+00 - val_tn: 195.0000 - val_fp: 0.0000e+00 - val_fn: 45.0000 - val_precision: 0.0000e+00 - val_recall: 0.0000e+00 - val_acc: 0.8125 - val_auc: 0.5916\n",
      "Epoch 5/30\n",
      "65/65 [==============================] - 8s 110ms/step - loss: 0.3729 - tp: 39.8030 - tn: 505.6515 - fp: 11.4394 - fn: 112.8030 - precision: 0.8304 - recall: 0.2277 - acc: 0.8161 - auc: 0.8676 - val_loss: 0.4892 - val_tp: 5.0000 - val_tn: 190.0000 - val_fp: 6.0000 - val_fn: 39.0000 - val_precision: 0.4545 - val_recall: 0.1136 - val_acc: 0.8125 - val_auc: 0.6563\n",
      "Epoch 6/30\n",
      "65/65 [==============================] - 8s 110ms/step - loss: 0.3650 - tp: 55.3182 - tn: 507.7273 - fp: 10.0000 - fn: 96.6515 - precision: 0.8538 - recall: 0.3142 - acc: 0.8362 - auc: 0.8674 - val_loss: 0.4965 - val_tp: 7.0000 - val_tn: 188.0000 - val_fp: 8.0000 - val_fn: 37.0000 - val_precision: 0.4667 - val_recall: 0.1591 - val_acc: 0.8125 - val_auc: 0.6175\n",
      "Epoch 7/30\n",
      "65/65 [==============================] - 8s 110ms/step - loss: 0.3261 - tp: 76.6212 - tn: 495.0758 - fp: 23.5909 - fn: 74.4091 - precision: 0.7243 - recall: 0.5083 - acc: 0.8520 - auc: 0.8922 - val_loss: 0.5783 - val_tp: 16.0000 - val_tn: 163.0000 - val_fp: 32.0000 - val_fn: 29.0000 - val_precision: 0.3333 - val_recall: 0.3556 - val_acc: 0.7458 - val_auc: 0.6517\n",
      "Epoch 8/30\n",
      "65/65 [==============================] - 8s 110ms/step - loss: 0.2518 - tp: 108.0303 - tn: 494.8485 - fp: 21.2273 - fn: 45.5909 - precision: 0.8473 - recall: 0.6951 - acc: 0.9028 - auc: 0.9384 - val_loss: 0.5857 - val_tp: 7.0000 - val_tn: 182.0000 - val_fp: 16.0000 - val_fn: 35.0000 - val_precision: 0.3043 - val_recall: 0.1667 - val_acc: 0.7875 - val_auc: 0.6582\n",
      "Epoch 9/30\n",
      "65/65 [==============================] - 8s 109ms/step - loss: 0.2130 - tp: 118.1970 - tn: 499.9394 - fp: 14.8182 - fn: 36.7424 - precision: 0.8884 - recall: 0.7348 - acc: 0.9175 - auc: 0.9609 - val_loss: 0.5924 - val_tp: 10.0000 - val_tn: 183.0000 - val_fp: 13.0000 - val_fn: 34.0000 - val_precision: 0.4348 - val_recall: 0.2273 - val_acc: 0.8042 - val_auc: 0.6642\n",
      "Epoch 10/30\n",
      "65/65 [==============================] - 8s 109ms/step - loss: 0.1388 - tp: 134.3788 - tn: 503.6818 - fp: 12.2727 - fn: 19.3636 - precision: 0.9182 - recall: 0.8665 - acc: 0.9522 - auc: 0.9832 - val_loss: 0.6804 - val_tp: 9.0000 - val_tn: 184.0000 - val_fp: 13.0000 - val_fn: 34.0000 - val_precision: 0.4091 - val_recall: 0.2093 - val_acc: 0.8042 - val_auc: 0.6114\n",
      "Epoch 11/30\n",
      "65/65 [==============================] - 8s 110ms/step - loss: 0.1016 - tp: 136.4697 - tn: 511.1212 - fp: 6.8485 - fn: 15.2576 - precision: 0.9632 - recall: 0.9040 - acc: 0.9705 - auc: 0.9925 - val_loss: 0.7546 - val_tp: 11.0000 - val_tn: 179.0000 - val_fp: 17.0000 - val_fn: 33.0000 - val_precision: 0.3929 - val_recall: 0.2500 - val_acc: 0.7917 - val_auc: 0.6716\n",
      "Epoch 12/30\n",
      "65/65 [==============================] - 8s 110ms/step - loss: 0.0483 - tp: 146.4394 - tn: 514.7121 - fp: 2.3182 - fn: 6.2273 - precision: 0.9885 - recall: 0.9498 - acc: 0.9865 - auc: 0.9994 - val_loss: 0.7771 - val_tp: 10.0000 - val_tn: 185.0000 - val_fp: 11.0000 - val_fn: 34.0000 - val_precision: 0.4762 - val_recall: 0.2273 - val_acc: 0.8125 - val_auc: 0.6416\n",
      "Epoch 13/30\n",
      "65/65 [==============================] - 8s 110ms/step - loss: 0.0598 - tp: 140.5303 - tn: 513.4091 - fp: 3.4242 - fn: 12.3333 - precision: 0.9791 - recall: 0.9098 - acc: 0.9749 - auc: 0.9971 - val_loss: 0.8844 - val_tp: 7.0000 - val_tn: 186.0000 - val_fp: 10.0000 - val_fn: 37.0000 - val_precision: 0.4118 - val_recall: 0.1591 - val_acc: 0.8042 - val_auc: 0.6415\n",
      "Epoch 14/30\n",
      "65/65 [==============================] - 8s 109ms/step - loss: 0.0390 - tp: 148.1212 - tn: 511.0758 - fp: 5.9091 - fn: 4.5909 - precision: 0.9580 - recall: 0.9739 - acc: 0.9843 - auc: 0.9990 - val_loss: 0.9200 - val_tp: 7.0000 - val_tn: 184.0000 - val_fp: 11.0000 - val_fn: 38.0000 - val_precision: 0.3889 - val_recall: 0.1556 - val_acc: 0.7958 - val_auc: 0.6377\n",
      "Epoch 15/30\n",
      "65/65 [==============================] - 8s 111ms/step - loss: 0.0396 - tp: 147.9091 - tn: 512.4242 - fp: 3.8636 - fn: 5.5000 - precision: 0.9786 - recall: 0.9629 - acc: 0.9869 - auc: 0.9989 - val_loss: 0.8426 - val_tp: 14.0000 - val_tn: 175.0000 - val_fp: 20.0000 - val_fn: 31.0000 - val_precision: 0.4118 - val_recall: 0.3111 - val_acc: 0.7875 - val_auc: 0.6703\n",
      "Epoch 16/30\n",
      "65/65 [==============================] - 8s 111ms/step - loss: 0.0258 - tp: 151.1212 - tn: 512.0606 - fp: 3.5606 - fn: 2.9545 - precision: 0.9807 - recall: 0.9867 - acc: 0.9925 - auc: 0.9995 - val_loss: 0.9632 - val_tp: 8.0000 - val_tn: 186.0000 - val_fp: 10.0000 - val_fn: 36.0000 - val_precision: 0.4444 - val_recall: 0.1818 - val_acc: 0.8083 - val_auc: 0.6498\n",
      "Epoch 17/30\n",
      "65/65 [==============================] - 8s 111ms/step - loss: 0.0387 - tp: 146.4848 - tn: 515.5000 - fp: 2.5000 - fn: 5.2121 - precision: 0.9861 - recall: 0.9691 - acc: 0.9901 - auc: 0.9988 - val_loss: 0.9491 - val_tp: 16.0000 - val_tn: 161.0000 - val_fp: 34.0000 - val_fn: 29.0000 - val_precision: 0.3200 - val_recall: 0.3556 - val_acc: 0.7375 - val_auc: 0.6712\n",
      "Epoch 18/30\n",
      "65/65 [==============================] - 8s 109ms/step - loss: 0.0416 - tp: 149.2879 - tn: 512.3788 - fp: 3.2576 - fn: 4.7727 - precision: 0.9724 - recall: 0.9615 - acc: 0.9852 - auc: 0.9988 - val_loss: 0.9745 - val_tp: 10.0000 - val_tn: 192.0000 - val_fp: 5.0000 - val_fn: 33.0000 - val_precision: 0.6667 - val_recall: 0.2326 - val_acc: 0.8417 - val_auc: 0.6564\n",
      "Epoch 19/30\n",
      "65/65 [==============================] - 8s 109ms/step - loss: 0.0051 - tp: 150.8030 - tn: 518.1212 - fp: 0.0000e+00 - fn: 0.7727 - precision: 1.0000 - recall: 0.9951 - acc: 0.9989 - auc: 1.0000 - val_loss: 0.9285 - val_tp: 10.0000 - val_tn: 183.0000 - val_fp: 13.0000 - val_fn: 34.0000 - val_precision: 0.4348 - val_recall: 0.2273 - val_acc: 0.8042 - val_auc: 0.6973\n",
      "Epoch 20/30\n",
      "65/65 [==============================] - 8s 111ms/step - loss: 0.0024 - tp: 153.5303 - tn: 516.1667 - fp: 0.0000e+00 - fn: 0.0000e+00 - precision: 1.0000 - recall: 1.0000 - acc: 1.0000 - auc: 1.0000 - val_loss: 0.8845 - val_tp: 15.0000 - val_tn: 180.0000 - val_fp: 17.0000 - val_fn: 28.0000 - val_precision: 0.4688 - val_recall: 0.3488 - val_acc: 0.8125 - val_auc: 0.6979\n",
      "Epoch 21/30\n",
      "65/65 [==============================] - 8s 110ms/step - loss: 0.0010 - tp: 151.7727 - tn: 517.9242 - fp: 0.0000e+00 - fn: 0.0000e+00 - precision: 1.0000 - recall: 1.0000 - acc: 1.0000 - auc: 1.0000 - val_loss: 0.9738 - val_tp: 14.0000 - val_tn: 178.0000 - val_fp: 17.0000 - val_fn: 31.0000 - val_precision: 0.4516 - val_recall: 0.3111 - val_acc: 0.8000 - val_auc: 0.6902\n",
      "Epoch 22/30\n",
      "65/65 [==============================] - 8s 111ms/step - loss: 6.9971e-04 - tp: 151.6818 - tn: 518.0152 - fp: 0.0000e+00 - fn: 0.0000e+00 - precision: 1.0000 - recall: 1.0000 - acc: 1.0000 - auc: 1.0000 - val_loss: 1.0069 - val_tp: 13.0000 - val_tn: 178.0000 - val_fp: 17.0000 - val_fn: 32.0000 - val_precision: 0.4333 - val_recall: 0.2889 - val_acc: 0.7958 - val_auc: 0.6792\n"
     ]
    },
    {
     "name": "stdout",
     "output_type": "stream",
     "text": [
      "Epoch 23/30\n",
      "65/65 [==============================] - 8s 110ms/step - loss: 5.9895e-04 - tp: 152.4394 - tn: 517.2576 - fp: 0.0000e+00 - fn: 0.0000e+00 - precision: 1.0000 - recall: 1.0000 - acc: 1.0000 - auc: 1.0000 - val_loss: 1.0177 - val_tp: 11.0000 - val_tn: 180.0000 - val_fp: 18.0000 - val_fn: 31.0000 - val_precision: 0.3793 - val_recall: 0.2619 - val_acc: 0.7958 - val_auc: 0.6699\n",
      "Epoch 24/30\n",
      "65/65 [==============================] - 8s 109ms/step - loss: 4.8751e-04 - tp: 152.9394 - tn: 516.7576 - fp: 0.0000e+00 - fn: 0.0000e+00 - precision: 1.0000 - recall: 1.0000 - acc: 1.0000 - auc: 1.0000 - val_loss: 1.0130 - val_tp: 14.0000 - val_tn: 177.0000 - val_fp: 19.0000 - val_fn: 30.0000 - val_precision: 0.4242 - val_recall: 0.3182 - val_acc: 0.7958 - val_auc: 0.6734\n",
      "Epoch 25/30\n",
      "65/65 [==============================] - 8s 111ms/step - loss: 3.5607e-04 - tp: 156.0152 - tn: 513.6818 - fp: 0.0000e+00 - fn: 0.0000e+00 - precision: 1.0000 - recall: 1.0000 - acc: 1.0000 - auc: 1.0000 - val_loss: 1.0337 - val_tp: 14.0000 - val_tn: 177.0000 - val_fp: 18.0000 - val_fn: 31.0000 - val_precision: 0.4375 - val_recall: 0.3111 - val_acc: 0.7958 - val_auc: 0.6758\n",
      "Epoch 26/30\n",
      "65/65 [==============================] - 8s 112ms/step - loss: 3.4731e-04 - tp: 152.9545 - tn: 516.7424 - fp: 0.0000e+00 - fn: 0.0000e+00 - precision: 1.0000 - recall: 1.0000 - acc: 1.0000 - auc: 1.0000 - val_loss: 1.0455 - val_tp: 11.0000 - val_tn: 178.0000 - val_fp: 18.0000 - val_fn: 33.0000 - val_precision: 0.3793 - val_recall: 0.2500 - val_acc: 0.7875 - val_auc: 0.6610\n",
      "Epoch 27/30\n",
      "65/65 [==============================] - 8s 114ms/step - loss: 2.8261e-04 - tp: 152.2424 - tn: 517.4545 - fp: 0.0000e+00 - fn: 0.0000e+00 - precision: 1.0000 - recall: 1.0000 - acc: 1.0000 - auc: 1.0000 - val_loss: 1.0134 - val_tp: 12.0000 - val_tn: 178.0000 - val_fp: 18.0000 - val_fn: 32.0000 - val_precision: 0.4000 - val_recall: 0.2727 - val_acc: 0.7917 - val_auc: 0.6792\n",
      "Epoch 28/30\n",
      "65/65 [==============================] - 8s 111ms/step - loss: 2.5925e-04 - tp: 151.3333 - tn: 518.3636 - fp: 0.0000e+00 - fn: 0.0000e+00 - precision: 1.0000 - recall: 1.0000 - acc: 1.0000 - auc: 1.0000 - val_loss: 1.0593 - val_tp: 12.0000 - val_tn: 177.0000 - val_fp: 18.0000 - val_fn: 33.0000 - val_precision: 0.4000 - val_recall: 0.2667 - val_acc: 0.7875 - val_auc: 0.6697\n",
      "Epoch 29/30\n",
      "65/65 [==============================] - 8s 110ms/step - loss: 2.5518e-04 - tp: 152.3636 - tn: 517.3333 - fp: 0.0000e+00 - fn: 0.0000e+00 - precision: 1.0000 - recall: 1.0000 - acc: 1.0000 - auc: 1.0000 - val_loss: 1.0382 - val_tp: 12.0000 - val_tn: 179.0000 - val_fp: 17.0000 - val_fn: 32.0000 - val_precision: 0.4138 - val_recall: 0.2727 - val_acc: 0.7958 - val_auc: 0.6745\n",
      "Epoch 30/30\n",
      "65/65 [==============================] - 8s 109ms/step - loss: 2.6313e-04 - tp: 151.1212 - tn: 518.5758 - fp: 0.0000e+00 - fn: 0.0000e+00 - precision: 1.0000 - recall: 1.0000 - acc: 1.0000 - auc: 1.0000 - val_loss: 1.0605 - val_tp: 12.0000 - val_tn: 176.0000 - val_fp: 19.0000 - val_fn: 33.0000 - val_precision: 0.3871 - val_recall: 0.2667 - val_acc: 0.7833 - val_auc: 0.6736\n"
     ]
    }
   ],
   "source": [
    "history = model.fit(\n",
    "    ds_train,\n",
    "    epochs=30,\n",
    "    steps_per_epoch=num_of_files_train // batch_size,\n",
    "    validation_data=ds_validation,\n",
    "    validation_steps=num_of_files_validation // batch_size,\n",
    ")"
   ]
  },
  {
   "cell_type": "code",
   "execution_count": null,
   "id": "tight-hardwood",
   "metadata": {},
   "outputs": [],
   "source": [
    "model.evaluate(ds_test)"
   ]
  },
  {
   "cell_type": "code",
   "execution_count": 19,
   "id": "expanded-brazil",
   "metadata": {},
   "outputs": [
    {
     "name": "stdout",
     "output_type": "stream",
     "text": [
      "18/18 [==============================] - 2s 56ms/step - loss: 1.0790 - tp: 11.0000 - tn: 253.0000 - fp: 47.0000 - fn: 39.0000 - precision: 0.1897 - recall: 0.2200 - acc: 0.7543 - auc: 0.5975\n"
     ]
    },
    {
     "data": {
      "text/plain": [
       "75.42857142857143"
      ]
     },
     "execution_count": 19,
     "metadata": {},
     "output_type": "execute_result"
    }
   ],
   "source": [
    "result = model.evaluate(ds_test)\n",
    "((result[1]+result[2]) / num_of_files_test) * 100"
   ]
  },
  {
   "cell_type": "code",
   "execution_count": 20,
   "id": "historic-letter",
   "metadata": {},
   "outputs": [
    {
     "data": {
      "image/png": "[encoded data removed]",
      "text/plain": [
       "<Figure size 432x288 with 1 Axes>"
      ]
     },
     "metadata": {
      "needs_background": "light"
     },
     "output_type": "display_data"
    },
    {
     "data": {
      "image/png": "[encoded data removed]",
      "text/plain": [
       "<Figure size 432x288 with 1 Axes>"
      ]
     },
     "metadata": {
      "needs_background": "light"
     },
     "output_type": "display_data"
    }
   ],
   "source": [
    "import matplotlib.pyplot as plt\n",
    "acc = history.history['acc']\n",
    "val_acc = history.history['val_acc']\n",
    "loss = history.history['loss']\n",
    "val_loss = history.history['val_loss']\n",
    "\n",
    "epochs = range(len(acc))\n",
    "\n",
    "plt.plot(epochs, acc, 'bo', label='Training accuracy')\n",
    "plt.plot(epochs, val_acc, 'b', label='Validation accuracy')\n",
    "plt.title('Training and validation accuracy')\n",
    "\n",
    "plt.figure()\n",
    "\n",
    "plt.plot(epochs, loss, 'bo', label='Training Loss')\n",
    "plt.plot(epochs, val_loss, 'b', label='Validation Loss')\n",
    "plt.title('Training and validation loss')\n",
    "plt.legend()\n",
    "\n",
    "plt.show()"
   ]
  },
  {
   "cell_type": "code",
   "execution_count": 22,
   "id": "charming-range",
   "metadata": {
    "scrolled": true
   },
   "outputs": [
    {
     "name": "stdout",
     "output_type": "stream",
     "text": [
      "Found 1300 files belonging to 2 classes.\n",
      "Found 245 files belonging to 2 classes.\n",
      "Found 350 files belonging to 2 classes.\n",
      "Epoch 1/30\n",
      "65/65 [==============================] - 10s 125ms/step - loss: 0.6203 - tp: 8.4697 - tn: 476.5000 - fp: 42.6364 - fn: 142.0909 - precision: 0.1116 - recall: 0.0395 - acc: 0.7439 - auc: 0.5290 - val_loss: 0.7548 - val_tp: 0.0000e+00 - val_tn: 195.0000 - val_fp: 1.0000 - val_fn: 44.0000 - val_precision: 0.0000e+00 - val_recall: 0.0000e+00 - val_acc: 0.8125 - val_auc: 0.6142\n",
      "Epoch 2/30\n",
      "65/65 [==============================] - 8s 112ms/step - loss: 0.5718 - tp: 7.6061 - tn: 488.3939 - fp: 28.6515 - fn: 145.0455 - precision: 0.2524 - recall: 0.0575 - acc: 0.7501 - auc: 0.5461 - val_loss: 0.5800 - val_tp: 0.0000e+00 - val_tn: 197.0000 - val_fp: 0.0000e+00 - val_fn: 43.0000 - val_precision: 0.0000e+00 - val_recall: 0.0000e+00 - val_acc: 0.8208 - val_auc: 0.5224\n",
      "Epoch 3/30\n",
      "65/65 [==============================] - 8s 111ms/step - loss: 0.5911 - tp: 12.6818 - tn: 488.2121 - fp: 28.3333 - fn: 140.4697 - precision: 0.3525 - recall: 0.0935 - acc: 0.7498 - auc: 0.5399 - val_loss: 0.5328 - val_tp: 2.0000 - val_tn: 191.0000 - val_fp: 5.0000 - val_fn: 42.0000 - val_precision: 0.2857 - val_recall: 0.0455 - val_acc: 0.8042 - val_auc: 0.6173\n",
      "Epoch 4/30\n",
      "65/65 [==============================] - 8s 110ms/step - loss: 0.5842 - tp: 7.2273 - tn: 493.8939 - fp: 22.6061 - fn: 145.9697 - precision: 0.2511 - recall: 0.0506 - acc: 0.7496 - auc: 0.5256 - val_loss: 0.5599 - val_tp: 0.0000e+00 - val_tn: 194.0000 - val_fp: 1.0000 - val_fn: 45.0000 - val_precision: 0.0000e+00 - val_recall: 0.0000e+00 - val_acc: 0.8083 - val_auc: 0.5989\n",
      "Epoch 5/30\n",
      "65/65 [==============================] - 8s 111ms/step - loss: 0.5741 - tp: 9.7576 - tn: 490.5909 - fp: 26.5000 - fn: 142.8485 - precision: 0.4337 - recall: 0.0598 - acc: 0.7602 - auc: 0.5229 - val_loss: 0.6011 - val_tp: 0.0000e+00 - val_tn: 196.0000 - val_fp: 0.0000e+00 - val_fn: 44.0000 - val_precision: 0.0000e+00 - val_recall: 0.0000e+00 - val_acc: 0.8167 - val_auc: 0.4641\n",
      "Epoch 6/30\n",
      "65/65 [==============================] - 8s 112ms/step - loss: 0.5710 - tp: 2.3939 - tn: 504.3636 - fp: 13.3636 - fn: 149.5758 - precision: 0.2383 - recall: 0.0118 - acc: 0.7650 - auc: 0.5100 - val_loss: 0.6102 - val_tp: 12.0000 - val_tn: 161.0000 - val_fp: 35.0000 - val_fn: 32.0000 - val_precision: 0.2553 - val_recall: 0.2727 - val_acc: 0.7208 - val_auc: 0.4987\n",
      "Epoch 7/30\n",
      "65/65 [==============================] - 8s 112ms/step - loss: 0.5478 - tp: 8.0455 - tn: 505.5303 - fp: 13.1364 - fn: 142.9848 - precision: 0.2152 - recall: 0.0345 - acc: 0.7799 - auc: 0.5349 - val_loss: 0.8214 - val_tp: 0.0000e+00 - val_tn: 195.0000 - val_fp: 0.0000e+00 - val_fn: 45.0000 - val_precision: 0.0000e+00 - val_recall: 0.0000e+00 - val_acc: 0.8125 - val_auc: 0.4617\n",
      "Epoch 8/30\n",
      "65/65 [==============================] - 8s 112ms/step - loss: 0.5835 - tp: 5.5000 - tn: 499.8030 - fp: 16.2727 - fn: 148.1212 - precision: 0.2125 - recall: 0.0294 - acc: 0.7607 - auc: 0.4710 - val_loss: 0.7040 - val_tp: 0.0000e+00 - val_tn: 198.0000 - val_fp: 0.0000e+00 - val_fn: 42.0000 - val_precision: 0.0000e+00 - val_recall: 0.0000e+00 - val_acc: 0.8250 - val_auc: 0.4570\n",
      "Epoch 9/30\n",
      "65/65 [==============================] - 8s 112ms/step - loss: 0.5586 - tp: 3.0303 - tn: 506.9848 - fp: 7.7727 - fn: 151.9091 - precision: 0.1616 - recall: 0.0135 - acc: 0.7631 - auc: 0.5493 - val_loss: 1.0077 - val_tp: 20.0000 - val_tn: 116.0000 - val_fp: 80.0000 - val_fn: 24.0000 - val_precision: 0.2000 - val_recall: 0.4545 - val_acc: 0.5667 - val_auc: 0.5849\n",
      "Epoch 10/30\n",
      "65/65 [==============================] - 8s 111ms/step - loss: 0.5592 - tp: 1.4848 - tn: 507.8333 - fp: 8.1212 - fn: 152.2576 - precision: 0.0878 - recall: 0.0067 - acc: 0.7664 - auc: 0.5158 - val_loss: 0.7326 - val_tp: 0.0000e+00 - val_tn: 197.0000 - val_fp: 0.0000e+00 - val_fn: 43.0000 - val_precision: 0.0000e+00 - val_recall: 0.0000e+00 - val_acc: 0.8208 - val_auc: 0.4462\n",
      "Epoch 11/30\n",
      "65/65 [==============================] - 8s 111ms/step - loss: 0.5460 - tp: 1.9545 - tn: 513.3333 - fp: 4.6364 - fn: 149.7727 - precision: 0.1503 - recall: 0.0080 - acc: 0.7691 - auc: 0.5755 - val_loss: 0.8804 - val_tp: 0.0000e+00 - val_tn: 196.0000 - val_fp: 0.0000e+00 - val_fn: 44.0000 - val_precision: 0.0000e+00 - val_recall: 0.0000e+00 - val_acc: 0.8167 - val_auc: 0.4836\n",
      "Epoch 12/30\n",
      "65/65 [==============================] - 8s 110ms/step - loss: 0.5333 - tp: 0.3333 - tn: 512.9697 - fp: 4.0606 - fn: 152.3333 - precision: 0.0251 - recall: 0.0012 - acc: 0.7713 - auc: 0.5848 - val_loss: 1.6674 - val_tp: 27.0000 - val_tn: 86.0000 - val_fp: 110.0000 - val_fn: 17.0000 - val_precision: 0.1971 - val_recall: 0.6136 - val_acc: 0.4708 - val_auc: 0.5933\n",
      "Epoch 13/30\n",
      "65/65 [==============================] - 8s 110ms/step - loss: 0.5302 - tp: 1.3182 - tn: 511.1364 - fp: 5.6970 - fn: 151.5455 - precision: 0.1884 - recall: 0.0127 - acc: 0.7671 - auc: 0.6044 - val_loss: 1.5639 - val_tp: 27.0000 - val_tn: 73.0000 - val_fp: 123.0000 - val_fn: 17.0000 - val_precision: 0.1800 - val_recall: 0.6136 - val_acc: 0.4167 - val_auc: 0.5263\n",
      "Epoch 14/30\n",
      "65/65 [==============================] - 8s 110ms/step - loss: 0.5364 - tp: 1.1667 - tn: 507.7727 - fp: 9.2121 - fn: 151.5455 - precision: 0.1291 - recall: 0.0092 - acc: 0.7624 - auc: 0.5891 - val_loss: 0.7634 - val_tp: 4.0000 - val_tn: 191.0000 - val_fp: 4.0000 - val_fn: 41.0000 - val_precision: 0.5000 - val_recall: 0.0889 - val_acc: 0.8125 - val_auc: 0.4202\n",
      "Epoch 15/30\n",
      "65/65 [==============================] - 8s 110ms/step - loss: 0.5431 - tp: 1.3788 - tn: 515.0606 - fp: 1.2273 - fn: 152.0303 - precision: 0.1686 - recall: 0.0051 - acc: 0.7760 - auc: 0.5394 - val_loss: 0.9300 - val_tp: 7.0000 - val_tn: 158.0000 - val_fp: 37.0000 - val_fn: 38.0000 - val_precision: 0.1591 - val_recall: 0.1556 - val_acc: 0.6875 - val_auc: 0.4871\n",
      "Epoch 16/30\n",
      "65/65 [==============================] - 8s 110ms/step - loss: 0.5293 - tp: 1.8182 - tn: 512.9394 - fp: 2.6818 - fn: 152.2576 - precision: 0.2114 - recall: 0.0079 - acc: 0.7711 - auc: 0.5978 - val_loss: 0.8828 - val_tp: 6.0000 - val_tn: 176.0000 - val_fp: 20.0000 - val_fn: 38.0000 - val_precision: 0.2308 - val_recall: 0.1364 - val_acc: 0.7583 - val_auc: 0.4786\n",
      "Epoch 17/30\n",
      "65/65 [==============================] - 8s 110ms/step - loss: 0.5225 - tp: 2.3939 - tn: 515.2273 - fp: 2.7727 - fn: 149.3030 - precision: 0.3740 - recall: 0.0107 - acc: 0.7780 - auc: 0.5921 - val_loss: 1.0389 - val_tp: 0.0000e+00 - val_tn: 195.0000 - val_fp: 0.0000e+00 - val_fn: 45.0000 - val_precision: 0.0000e+00 - val_recall: 0.0000e+00 - val_acc: 0.8125 - val_auc: 0.4150\n",
      "Epoch 18/30\n",
      "65/65 [==============================] - 8s 109ms/step - loss: 0.5349 - tp: 0.4242 - tn: 511.7424 - fp: 3.8939 - fn: 153.6364 - precision: 0.0564 - recall: 0.0018 - acc: 0.7722 - auc: 0.5758 - val_loss: 1.2047 - val_tp: 10.0000 - val_tn: 130.0000 - val_fp: 67.0000 - val_fn: 33.0000 - val_precision: 0.1299 - val_recall: 0.2326 - val_acc: 0.5833 - val_auc: 0.4527\n",
      "Epoch 19/30\n",
      "65/65 [==============================] - 8s 110ms/step - loss: 0.5381 - tp: 0.5152 - tn: 515.2727 - fp: 2.8485 - fn: 151.0606 - precision: 0.0503 - recall: 0.0020 - acc: 0.7712 - auc: 0.5737 - val_loss: 0.9885 - val_tp: 0.0000e+00 - val_tn: 191.0000 - val_fp: 5.0000 - val_fn: 44.0000 - val_precision: 0.0000e+00 - val_recall: 0.0000e+00 - val_acc: 0.7958 - val_auc: 0.4145\n",
      "Epoch 20/30\n",
      "65/65 [==============================] - 8s 112ms/step - loss: 0.5392 - tp: 1.5303 - tn: 512.8182 - fp: 3.3485 - fn: 152.0000 - precision: 0.2604 - recall: 0.0093 - acc: 0.7704 - auc: 0.5750 - val_loss: 0.9220 - val_tp: 8.0000 - val_tn: 162.0000 - val_fp: 35.0000 - val_fn: 35.0000 - val_precision: 0.1860 - val_recall: 0.1860 - val_acc: 0.7083 - val_auc: 0.5223\n",
      "Epoch 21/30\n",
      "65/65 [==============================] - 8s 113ms/step - loss: 0.5278 - tp: 0.0000e+00 - tn: 515.4091 - fp: 2.5152 - fn: 151.7727 - precision: 0.0000e+00 - recall: 0.0000e+00 - acc: 0.7792 - auc: 0.5759 - val_loss: 1.2910 - val_tp: 0.0000e+00 - val_tn: 195.0000 - val_fp: 0.0000e+00 - val_fn: 45.0000 - val_precision: 0.0000e+00 - val_recall: 0.0000e+00 - val_acc: 0.8125 - val_auc: 0.4983\n",
      "Epoch 22/30\n"
     ]
    },
    {
     "name": "stdout",
     "output_type": "stream",
     "text": [
      "65/65 [==============================] - 8s 114ms/step - loss: 0.5282 - tp: 0.2424 - tn: 516.3485 - fp: 1.6667 - fn: 151.4394 - precision: 0.0545 - recall: 8.9798e-04 - acc: 0.7769 - auc: 0.5834 - val_loss: 0.8864 - val_tp: 0.0000e+00 - val_tn: 195.0000 - val_fp: 0.0000e+00 - val_fn: 45.0000 - val_precision: 0.0000e+00 - val_recall: 0.0000e+00 - val_acc: 0.8125 - val_auc: 0.4728\n",
      "Epoch 23/30\n",
      "65/65 [==============================] - 8s 110ms/step - loss: 0.5315 - tp: 0.3788 - tn: 516.8333 - fp: 0.4242 - fn: 152.0606 - precision: 0.1894 - recall: 0.0016 - acc: 0.7797 - auc: 0.5625 - val_loss: 0.7946 - val_tp: 1.0000 - val_tn: 185.0000 - val_fp: 13.0000 - val_fn: 41.0000 - val_precision: 0.0714 - val_recall: 0.0238 - val_acc: 0.7750 - val_auc: 0.4997\n",
      "Epoch 24/30\n",
      "65/65 [==============================] - 8s 112ms/step - loss: 0.5259 - tp: 1.4091 - tn: 515.3939 - fp: 1.3636 - fn: 151.5303 - precision: 0.3177 - recall: 0.0062 - acc: 0.7752 - auc: 0.5974 - val_loss: 0.8659 - val_tp: 0.0000e+00 - val_tn: 196.0000 - val_fp: 0.0000e+00 - val_fn: 44.0000 - val_precision: 0.0000e+00 - val_recall: 0.0000e+00 - val_acc: 0.8167 - val_auc: 0.4793\n",
      "Epoch 25/30\n",
      "65/65 [==============================] - 8s 111ms/step - loss: 0.5429 - tp: 0.0000e+00 - tn: 512.8182 - fp: 0.8636 - fn: 156.0152 - precision: 0.0000e+00 - recall: 0.0000e+00 - acc: 0.7653 - auc: 0.5725 - val_loss: 0.8138 - val_tp: 0.0000e+00 - val_tn: 195.0000 - val_fp: 0.0000e+00 - val_fn: 45.0000 - val_precision: 0.0000e+00 - val_recall: 0.0000e+00 - val_acc: 0.8125 - val_auc: 0.4616\n",
      "Epoch 26/30\n",
      "65/65 [==============================] - 8s 109ms/step - loss: 0.5335 - tp: 1.0606 - tn: 515.7727 - fp: 0.9697 - fn: 151.8939 - precision: 0.2106 - recall: 0.0043 - acc: 0.7772 - auc: 0.5727 - val_loss: 0.8218 - val_tp: 0.0000e+00 - val_tn: 196.0000 - val_fp: 0.0000e+00 - val_fn: 44.0000 - val_precision: 0.0000e+00 - val_recall: 0.0000e+00 - val_acc: 0.8167 - val_auc: 0.4750\n",
      "Epoch 27/30\n",
      "65/65 [==============================] - 8s 109ms/step - loss: 0.5326 - tp: 0.0000e+00 - tn: 517.4545 - fp: 0.0000e+00 - fn: 152.2424 - precision: 0.0000e+00 - recall: 0.0000e+00 - acc: 0.7790 - auc: 0.5507 - val_loss: 0.7842 - val_tp: 0.0000e+00 - val_tn: 196.0000 - val_fp: 0.0000e+00 - val_fn: 44.0000 - val_precision: 0.0000e+00 - val_recall: 0.0000e+00 - val_acc: 0.8167 - val_auc: 0.4766\n",
      "Epoch 28/30\n",
      "65/65 [==============================] - 8s 111ms/step - loss: 0.5256 - tp: 0.0000e+00 - tn: 518.2576 - fp: 0.1061 - fn: 151.3333 - precision: 0.0000e+00 - recall: 0.0000e+00 - acc: 0.7798 - auc: 0.6017 - val_loss: 0.7464 - val_tp: 0.0000e+00 - val_tn: 195.0000 - val_fp: 0.0000e+00 - val_fn: 45.0000 - val_precision: 0.0000e+00 - val_recall: 0.0000e+00 - val_acc: 0.8125 - val_auc: 0.4601\n",
      "Epoch 29/30\n",
      "65/65 [==============================] - 8s 111ms/step - loss: 0.5314 - tp: 0.0000e+00 - tn: 516.8182 - fp: 0.5152 - fn: 152.3636 - precision: 0.0000e+00 - recall: 0.0000e+00 - acc: 0.7758 - auc: 0.5728 - val_loss: 0.7962 - val_tp: 0.0000e+00 - val_tn: 196.0000 - val_fp: 0.0000e+00 - val_fn: 44.0000 - val_precision: 0.0000e+00 - val_recall: 0.0000e+00 - val_acc: 0.8167 - val_auc: 0.4787\n",
      "Epoch 30/30\n",
      "65/65 [==============================] - 8s 112ms/step - loss: 0.5277 - tp: 0.0000e+00 - tn: 518.5758 - fp: 0.0000e+00 - fn: 151.1212 - precision: 0.0000e+00 - recall: 0.0000e+00 - acc: 0.7772 - auc: 0.5782 - val_loss: 0.7894 - val_tp: 0.0000e+00 - val_tn: 195.0000 - val_fp: 0.0000e+00 - val_fn: 45.0000 - val_precision: 0.0000e+00 - val_recall: 0.0000e+00 - val_acc: 0.8125 - val_auc: 0.4742\n"
     ]
    }
   ],
   "source": [
    "folder_train = 'data1/train/'\n",
    "folder_validation = 'data1/validation/'\n",
    "folder_test = 'data1/test/'\n",
    "\n",
    "num_of_files_train = num_of_files(folder_train)\n",
    "num_of_files_validation = num_of_files(folder_validation)\n",
    "num_of_files_test = num_of_files(folder_test)\n",
    "\n",
    "img_height = img_width = 28\n",
    "batch_size = 20\n",
    "\n",
    "##################\n",
    "\n",
    "ds_train = tf.keras.preprocessing.image_dataset_from_directory(\n",
    "    folder_train,\n",
    "    labels=\"inferred\",\n",
    "    label_mode=\"int\",  # categorical, binary, int\n",
    "    # class_names=['0', '1', '2', '3', ...]\n",
    "    color_mode=\"rgb\",\n",
    "    batch_size=batch_size,\n",
    "    image_size=(img_height, img_width),  # reshape if not in this size\n",
    "    shuffle=True,\n",
    "    seed=123,\n",
    ")\n",
    "\n",
    "ds_validation = tf.keras.preprocessing.image_dataset_from_directory(\n",
    "    folder_validation,\n",
    "    labels=\"inferred\",\n",
    "    label_mode=\"int\",  # categorical, binary, int\n",
    "    color_mode=\"rgb\",\n",
    "    batch_size=batch_size,\n",
    "    image_size=(img_height, img_width),  # reshape if not in this size\n",
    "    shuffle=True,\n",
    "    seed=123,\n",
    ")\n",
    "\n",
    "ds_test = tf.keras.preprocessing.image_dataset_from_directory(\n",
    "    folder_test,\n",
    "    labels=\"inferred\",\n",
    "    label_mode=\"int\",  # categorical, binary, int\n",
    "    color_mode=\"rgb\",\n",
    "    batch_size=batch_size,\n",
    "    image_size=(img_height, img_width),\n",
    "    shuffle=True,\n",
    "    seed=123,\n",
    ")\n",
    "\n",
    "def augment(image, label):\n",
    "    image = tf.image.random_brightness(image, max_delta=0.1)\n",
    "    image = tf.image.random_contrast(image, lower=0.1, upper=0.2)\n",
    "    image = tf.image.random_flip_left_right(image)  # 50%\n",
    "    image = tf.image.random_flip_up_down(image) #%50%\n",
    "\n",
    "    return image, label\n",
    "\n",
    "ds_train = ds_train.map(augment)\n",
    "\n",
    "##################\n",
    "\n",
    "model = Sequential([\n",
    "    Conv2D(32, 3, activation='relu', input_shape=(img_height, img_width, 3)),\n",
    "    BatchNormalization(),\n",
    "    MaxPooling2D(),\n",
    "    Conv2D(64, 3, activation='relu'),\n",
    "    BatchNormalization(),\n",
    "    MaxPooling2D(),\n",
    "    Conv2D(128, 3, activation='relu'),\n",
    "    BatchNormalization(),\n",
    "    MaxPooling2D(),\n",
    "    Dropout(0.5),\n",
    "    Flatten(),\n",
    "    Dense(512, activation='relu'),\n",
    "    Dense(1, activation='sigmoid')\n",
    "])\n",
    "\n",
    "##################\n",
    "\n",
    "METRICS = [\n",
    "  TruePositives(name='tp'),\n",
    "  TrueNegatives(name='tn'),\n",
    "  FalsePositives(name='fp'),\n",
    "  FalseNegatives(name='fn'), \n",
    "  Precision(name='precision'),\n",
    "  Recall(name='recall'),\n",
    "  BinaryAccuracy(name='acc'),\n",
    "  AUC(name='auc'),\n",
    "]\n",
    "\n",
    "model.compile(\n",
    "    optimizer=Adam(),\n",
    "    loss=[BinaryCrossentropy(from_logits=True),],\n",
    "    metrics=METRICS,\n",
    ")\n",
    "\n",
    "history = model.fit(\n",
    "    ds_train,\n",
    "    epochs=30,\n",
    "    steps_per_epoch=num_of_files_train // batch_size,\n",
    "    validation_data=ds_validation,\n",
    "    validation_steps=num_of_files_validation // batch_size,\n",
    ")"
   ]
  },
  {
   "cell_type": "code",
   "execution_count": 23,
   "id": "acoustic-judges",
   "metadata": {},
   "outputs": [
    {
     "name": "stdout",
     "output_type": "stream",
     "text": [
      "18/18 [==============================] - 2s 58ms/step - loss: 0.5898 - tp: 0.0000e+00 - tn: 300.0000 - fp: 0.0000e+00 - fn: 50.0000 - precision: 0.0000e+00 - recall: 0.0000e+00 - acc: 0.8571 - auc: 0.5647\n"
     ]
    },
    {
     "data": {
      "text/plain": [
       "85.71428571428571"
      ]
     },
     "execution_count": 23,
     "metadata": {},
     "output_type": "execute_result"
    }
   ],
   "source": [
    "result = model.evaluate(ds_test)\n",
    "((result[1]+result[2]) / num_of_files_test) * 100"
   ]
  },
  {
   "cell_type": "code",
   "execution_count": 24,
   "id": "enabling-savings",
   "metadata": {},
   "outputs": [
    {
     "data": {
      "image/png": "[encoded data removed]",
      "text/plain": [
       "<Figure size 432x288 with 1 Axes>"
      ]
     },
     "metadata": {
      "needs_background": "light"
     },
     "output_type": "display_data"
    },
    {
     "data": {
      "image/png": "[encoded data removed]",
      "text/plain": [
       "<Figure size 432x288 with 1 Axes>"
      ]
     },
     "metadata": {
      "needs_background": "light"
     },
     "output_type": "display_data"
    }
   ],
   "source": [
    "import matplotlib.pyplot as plt\n",
    "acc = history.history['acc']\n",
    "val_acc = history.history['val_acc']\n",
    "loss = history.history['loss']\n",
    "val_loss = history.history['val_loss']\n",
    "\n",
    "epochs = range(len(acc))\n",
    "\n",
    "plt.plot(epochs, acc, 'bo', label='Training accuracy')\n",
    "plt.plot(epochs, val_acc, 'b', label='Validation accuracy')\n",
    "plt.title('Training and validation accuracy')\n",
    "\n",
    "plt.figure()\n",
    "\n",
    "plt.plot(epochs, loss, 'bo', label='Training Loss')\n",
    "plt.plot(epochs, val_loss, 'b', label='Validation Loss')\n",
    "plt.title('Training and validation loss')\n",
    "plt.legend()\n",
    "\n",
    "plt.show()"
   ]
  },
  {
   "cell_type": "code",
   "execution_count": null,
   "id": "turkish-completion",
   "metadata": {},
   "outputs": [],
   "source": []
  },
  {
   "cell_type": "code",
   "execution_count": null,
   "id": "tamil-alabama",
   "metadata": {},
   "outputs": [],
   "source": []
  },
  {
   "cell_type": "code",
   "execution_count": null,
   "id": "artistic-modern",
   "metadata": {},
   "outputs": [],
   "source": []
  },
  {
   "cell_type": "code",
   "execution_count": null,
   "id": "dominican-strain",
   "metadata": {},
   "outputs": [],
   "source": []
  }
 ],
 "metadata": {
  "kernelspec": {
   "display_name": "Python 3",
   "language": "python",
   "name": "python3"
  },
  "language_info": {
   "codemirror_mode": {
    "name": "ipython",
    "version": 3
   },
   "file_extension": ".py",
   "mimetype": "text/x-python",
   "name": "python",
   "nbconvert_exporter": "python",
   "pygments_lexer": "ipython3",
   "version": "3.8.6"
  }
 },
 "nbformat": 4,
 "nbformat_minor": 5
}
